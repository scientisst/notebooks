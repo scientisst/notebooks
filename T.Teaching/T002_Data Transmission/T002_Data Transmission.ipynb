{
 "cells": [
  {
   "attachments": {
    "SI-Notebooks-Hor-Break-Col.svg": {
     "image/svg+xml": [
      "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"
     ]
    }
   },
   "cell_type": "markdown",
   "id": "1e2a027b",
   "metadata": {},
   "source": [
    "<p align=\"center\">\n",
    "    <img align=\"center\" src=\"../../_Templates/_Resources/top-banner.svg\">\n",
    "</p>"
   ]
  },
  {
   "cell_type": "markdown",
   "id": "3cf183a2",
   "metadata": {},
   "source": [
    "# <span style=\"color:#484848;\"> Data Transmission </span>"
   ]
  },
  {
   "cell_type": "markdown",
   "id": "36a4cefd",
   "metadata": {},
   "source": [
    "### <span style=\"color:#00aba1;\"> Keywords </span>\n",
    "`Digital Systems`, `Data Streaming`, `Embedded Systems`"
   ]
  },
  {
   "cell_type": "markdown",
   "id": "e09b7dc0",
   "metadata": {},
   "source": [
    "### <span style=\"color:#00aba1;\"> Notebook Info </span>\n",
    "\n",
    "**Author(s):** Hugo Silva, Joana Pinto\n",
    "\n",
    "**Date of creation:** dd/mm/aaaa (*)\n",
    "\n",
    "**Last update:** dd/mm/aaaa (*)\n",
    "\n",
    "**Last revision:** dd/mm/aaaa (*)"
   ]
  },
  {
   "cell_type": "markdown",
   "id": "69307772",
   "metadata": {},
   "source": [
    "# <span style=\"color:#00aba1;\"> 1. Overview </span>"
   ]
  },
  {
   "cell_type": "markdown",
   "id": "b9614666",
   "metadata": {},
   "source": [
    "## <span style=\"color:#484848;\"> 1.1. Introduction </span>"
   ]
  },
  {
   "cell_type": "markdown",
   "id": "521fbb4a",
   "metadata": {},
   "source": [
    "Similarly to what happens in human communication, where there are the vocabulary, syntax, grammar and other language constructs designed for people to understand each other, digital systems also use a set of rules (known as protocols) to interact with each other. Any communication process always involves a transmitter (e.g. you) and a receiver (e.g. your colleague), which can generally change roles, but also a channel (e.g. air), through which the message is conveyed. In this lesson we will experiment with digital data transmission, in particular, using the computer as the transmitter/receiver, the Arduino as the receiver/transmitter, the asynchronous serial communication protocol as the “language” for them to understand each other, and the hardwired USB connection as the channel through which they communicate."
   ]
  },
  {
   "cell_type": "markdown",
   "id": "017faf78",
   "metadata": {},
   "source": [
    "<img src=\"_Resources/SerialCommunication.png\" width=\"450\">\n",
    "<p style=\"text-align:center\"> <i> Figure 1: Serial Communication </i> </p>"
   ]
  },
  {
   "cell_type": "markdown",
   "id": "e946b630",
   "metadata": {},
   "source": [
    "> 💡 **EXPLORE:** https://learn.sparkfun.com/tutorials/serial-communication  "
   ]
  },
  {
   "cell_type": "markdown",
   "id": "eadddb27",
   "metadata": {},
   "source": [
    "## <span style=\"color:#484848;\"> 1.2. Objectives </span>"
   ]
  },
  {
   "cell_type": "markdown",
   "id": "76f8b1f4",
   "metadata": {},
   "source": [
    "By the end of this class you should be able to:\n",
    "\n",
    "* Understand how to setup a data link between two digital systems\n",
    "* Stream sensor data to the computer in real time\n",
    "* Control an embedded system from the computer"
   ]
  },
  {
   "cell_type": "markdown",
   "id": "a663b45f",
   "metadata": {},
   "source": [
    "## <span style=\"color:#484848;\"> 1.3. Materials</span>"
   ]
  },
  {
   "cell_type": "markdown",
   "id": "d920090f",
   "metadata": {},
   "source": [
    "* Arduino IDE\n",
    "* 1x Arduino Uno\n",
    "* 1x USB cable\n",
    "* 1x Breadboard\n",
    "* 1x Potentiometer\n",
    "* 1x RGB LED\n",
    "* 3x 330Ω resistor\n",
    "* 4x Jumper wires"
   ]
  },
  {
   "cell_type": "markdown",
   "id": "323747c1",
   "metadata": {},
   "source": [
    "# <span style=\"color:#00aba1;\"> 2. The Simplest Oscilloscope in the West </span>"
   ]
  },
  {
   "cell_type": "markdown",
   "id": "dd607404",
   "metadata": {},
   "source": [
    "Now that we know how to work with transducers and obtain their readings on the Arduino, its time to share that information with other systems. In this experiment we will see how to read the analog pins on the Arduino and send the readings to our computer using the Universal Asynchronous Receiver-Transmitter (UART) port.\n",
    "\n",
    "1. Take the breadboard, the potentiometer and the jumper wires, and connect them to your Arduino."
   ]
  },
  {
   "cell_type": "markdown",
   "id": "796ebb39",
   "metadata": {},
   "source": [
    "<img src=\"_Resources/Trimpot.png\" width=\"450\">\n",
    "<p style=\"text-align:center\"> <i> Figure 2: Reading a voltage with the Arduino </i> </p>"
   ]
  },
  {
   "cell_type": "markdown",
   "id": "f6d428d7",
   "metadata": {},
   "source": [
    "2. Open the Graph example sketch and review the code\n",
    "\n",
    "3. Modify the sketch in such a way that the digital codes produced by the ADC for the analog input being read are converted into the corresponding voltage reaching the pin\n",
    "\n",
    "4. Compile and upload the sketch to your Arduino board\n",
    "\n",
    "5. Open the Serial Plotter tool from the Arduino IDE"
   ]
  },
  {
   "cell_type": "markdown",
   "id": "2d964b40",
   "metadata": {},
   "source": [
    "<img src=\"_Resources/SerialPlotter.png\" width=\"650\">\n",
    "<img src=_Resources/SerialPlotterExplained.png?raw=true\" width=\"650\">\n",
    "<p style=\"text-align:center\"> <i> Figure 3: Overview of the Arduino Serial Plotter. </i> </p>"
   ]
  },
  {
   "cell_type": "markdown",
   "id": "235d9d17",
   "metadata": {},
   "source": [
    "> 💡 **EXPLORE:** Detailed information about the high-level functions available on the Arduino to interact with the serial port is available at: https://www.arduino.cc/reference/en/language/functions/communication/serial/ "
   ]
  },
  {
   "cell_type": "markdown",
   "id": "9c948be8",
   "metadata": {},
   "source": [
    "# <span style=\"color:#00aba1;\"> 2. Control Your Arduino from a Computer </span>"
   ]
  },
  {
   "cell_type": "markdown",
   "id": "0a7106a1",
   "metadata": {},
   "source": [
    "We have seen how to use the Arduino as a transmitter and the computer as a receiver. Let’s reverse their roles and use the computer to control stuff on the Arduino. In this experiment we will see how to change the brightness of an LED based on numeric values sent by the computer.\n",
    "\n",
    "1. Take the breadboard, the 330Ω resistors, the jumper wires and the RGB LED, and connect them to your Arduino "
   ]
  },
  {
   "cell_type": "markdown",
   "id": "08a5f30d",
   "metadata": {},
   "source": [
    "<img src=\"_Resources/rgb.png\" width=\"450\">\n",
    "<p style=\"text-align:center\"> <i> Figure 4: Controlling an RGB LED with an Arduino.</i> </p>"
   ]
  },
  {
   "cell_type": "markdown",
   "id": "1957f43b",
   "metadata": {},
   "source": [
    "2. Open the Dimmer example sketch and review the code\n",
    "3. Compile and upload the sketch to your Arduino board\n",
    "4. Open the Serial Monitor tool from the Arduino IDE\n",
    "5. Sending bytes to the Arduino should cause the intensity of the RGB LED to change in the colour component connected to GPIO 9"
   ]
  },
  {
   "cell_type": "markdown",
   "id": "3e7f0ad9",
   "metadata": {},
   "source": [
    "<img src=\"_Resources/SerialMonitor.png\" width=\"650\">\n",
    "<img src=\"_Resources/SerialMonitorExplained.png\" width=\"650\">\n",
    "<p style=\"text-align:center\"> <i> Figure 5: Overview of the Arduino Serial Monitor. </i> </p>"
   ]
  },
  {
   "cell_type": "markdown",
   "id": "5c25fe9e",
   "metadata": {},
   "source": [
    "> ⚠️ **WARNING:** The Serial.read() function reads bytes; as you know 1 byte is represented as sequence of 8 bits (0’s and 1’s), which can be translated into a decimal number. However, these decimal numbers don’t match the printable characters as we know them. This means that when you send the human readable integer 255 (e.g.) to the Arduino, it will be decyphered as the sequence 50 53 53 of three bytes (one per digit), corresponding to the ASCII codes of each printable digit. You can confirm the correspondence between printable characters (that you can read) and their underlying decimal representation (that the Arduino will read) at: https://learn.sparkfun.com/tutorials/ascii    "
   ]
  },
  {
   "cell_type": "markdown",
   "id": "63f467c0",
   "metadata": {},
   "source": [
    "# <span style=\"color:#00aba1;\"> 3. Arduino and Computer Dialogues </span>"
   ]
  },
  {
   "cell_type": "markdown",
   "id": "e63acafd",
   "metadata": {},
   "source": [
    "Through the previous examples, we’ve seen how to have the Arduino talking to the computer and the other way round, but things can become way cooler with interactive bidirectional communication between the two. In this experiment we’ll combine the skills acquired thus far to have the computer controlling the Arduino and receiving feedback on the result.\n",
    "\n",
    "1. Take the breadboard, the 330Ω resistors, the jumper wires and the RGB LED, and connect them to your Arduino as shown in Figure 4\n",
    "\n",
    "2. Create a new (empty) sketch on the Arduino IDE\n",
    "\n",
    "3. Write a program that toggles (turns on if off and off if on) each of the components of the RGB LED based on characters sent by the computer (e.g. R - RED, G - GREEN, B - BLUE); if the received character is valid, the Arduino should acknowledge the execution of the operation by sending the string OK to the computer, otherwise it should send the string KO\n",
    "\n",
    "4. Compile and upload the sketch to your Arduino board\n",
    "\n",
    "5. Open the Serial Monitor tool from the Arduino IDE (Figure 5)\n",
    "\n",
    "6. Sending bytes to the Arduino should switch the state of the RGB LED and the acknowledgement message should appear on the serial monitor input data area"
   ]
  },
  {
   "cell_type": "markdown",
   "id": "b3c916b2",
   "metadata": {},
   "source": [
    "> ⚠️ **WARNING:** The Serial.read() function automatically unblocks (or times out) after a few milliseconds without receiving any data. When experimenting with sending bytes manually to the Arduino, it can be useful to increase the timeout interval to give us (slow) humans more time to type in and push data through to the serial port. For additional information on this check the following documentation: https://www.arduino.cc/en/Serial/setTimeout  "
   ]
  },
  {
   "cell_type": "markdown",
   "id": "9e879475",
   "metadata": {},
   "source": [
    "# <span style=\"color:#00aba1;\"> 4. Exercise </span>"
   ]
  },
  {
   "cell_type": "markdown",
   "id": "4cf71229",
   "metadata": {},
   "source": [
    "1. Modify the sketch you’ve created in Section 2 in such way that the serial port is configured for a baud rate of 300bps and observe the graphic. Now configure it for a baud rate of 115200bps and observe the graphic. Explain  the result?\n"
   ]
  },
  {
   "cell_type": "markdown",
   "id": "309ffae1",
   "metadata": {},
   "source": [
    "> (write here)"
   ]
  },
  {
   "cell_type": "markdown",
   "id": "b212c57d",
   "metadata": {},
   "source": [
    "2. What is the transmission time per bit for the baud rates used in the previous question? What about the effective number of bytes transmitted per second, considering an 8N1 configuration?"
   ]
  },
  {
   "cell_type": "markdown",
   "id": "1bff2fde",
   "metadata": {},
   "source": [
    "> (write here)"
   ]
  },
  {
   "cell_type": "markdown",
   "id": "a5d23330",
   "metadata": {},
   "source": [
    "3. Create a new sketch, based on the experiment of Section 2, to continuously display a formatted string on the  Serial Monitor showing the  digital code obtained from the ADC and the corresponding voltage (e.g. ADC = 511; V = 2.50) in real time."
   ]
  },
  {
   "cell_type": "markdown",
   "id": "619ad656",
   "metadata": {},
   "source": [
    "4. As you’ve reviewed in Section 3, what we see as a human readable integer number is not understood by the Arduino  as the same representation. Modify the sketch you have created to allow the Arduino to parse the sequence of ASCII characters received from the computer into the corresponding integer number you intended to send.\n"
   ]
  },
  {
   "cell_type": "markdown",
   "id": "0851e543",
   "metadata": {},
   "source": [
    "5. Modify the sketch created in Section 3 to receive an integer number in addition to the RGB LED channel to control, and use that number to adjust the brightness level of the RGB LED instead of simply toggling it on or off. As an acknowledgment message return a string with the state of the RGB components instead of the OK message."
   ]
  },
  {
   "cell_type": "markdown",
   "id": "a89892a6",
   "metadata": {},
   "source": [
    "<p align=\"center\">\n",
    "  <img style=\"height:2.5cm\" align=\"center\" src=\"../../_Templates/_Resources/bottom-banner.png\">\n",
    "</p>"
   ]
  }
 ],
 "metadata": {
  "kernelspec": {
   "display_name": "Python 3.10.0 64-bit",
   "language": "python",
   "name": "python3"
  },
  "language_info": {
   "codemirror_mode": {
    "name": "ipython",
    "version": 3
   },
   "file_extension": ".py",
   "mimetype": "text/x-python",
   "name": "python",
   "nbconvert_exporter": "python",
   "pygments_lexer": "ipython3",
   "version": "3.10.0"
  },
  "vscode": {
   "interpreter": {
    "hash": "7e1998ff7f8aa20ada591c520b972326324e5ea05489af9e422744c7c09f6dad"
   }
  }
 },
 "nbformat": 4,
 "nbformat_minor": 5
}
