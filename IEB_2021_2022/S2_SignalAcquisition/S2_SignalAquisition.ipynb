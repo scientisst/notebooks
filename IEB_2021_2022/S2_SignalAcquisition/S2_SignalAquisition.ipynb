{
 "cells": [
  {
   "cell_type": "markdown",
   "metadata": {},
   "source": [
    "### Introdução à Engenharia Biomédica (P4 - 2021/2022)\n",
    "# Aula Prática #2 - Aquisição de Sinal"
   ]
  },
  {
   "cell_type": "markdown",
   "metadata": {},
   "source": [
    "Name: (write here)\n",
    "\n",
    "IST ID: (write here)\n",
    "\n",
    "Date: (write here)"
   ]
  },
  {
   "cell_type": "markdown",
   "metadata": {},
   "source": [
    "# I. Overview\n",
    "<br>\n",
    "<div class=\"title\"style=\"width:100%; background:linear-gradient(to right,#FDC86E,#fbb144);font-family:'arial black',monospace; text-align: center; padding: 7px 0; border-radius: 5px 50px;margin-top:-15px\" >  </div>"
   ]
  },
  {
   "cell_type": "markdown",
   "metadata": {},
   "source": [
    "# <div style=\"color:#fbb144\"> 1. Introduction </div>\n",
    "\n",
    "Biosignals have been extensively used in the healthcare and medical domains for more than 100 years, with the best known examples being perhaps Electrocardiography (ECG) and Electroencephalography (EEG). In this lesson we will perform a simple ECG acquisition and visualize it using a common spreadsheet environment (Excel)."
   ]
  },
  {
   "cell_type": "markdown",
   "metadata": {},
   "source": [
    "## <div style=\"color:#fbb144;\"> 2. Objectives</div>\n",
    " * Understand the basic blocks of a data acquisition system\n",
    " * Get acquainted with biosignal acquisition procedures\n",
    " * Handling recorded data on a spreadsheet environment (Excel)"
   ]
  },
  {
   "cell_type": "markdown",
   "metadata": {},
   "source": [
    "## <div style=\"color:#fbb144;\"> 3. Materials  </div>\n",
    " \n",
    " * 1x ScientISST Sense device\n",
    " \n",
    " * 1x 3.7 V LiPo battery\n",
    " \n",
    " * 1 x ECG sensor (3 electrodes)\n",
    " \n",
    " * 1x Bluetooth adapter (optional)\n",
    " \n",
    " * ScientISST API (Python 3)\n",
    " \n",
    " * Microsoft Office Excel\n",
    " "
   ]
  },
  {
   "cell_type": "markdown",
   "metadata": {},
   "source": [
    "<div style=\"background:#946db2;font-family:'arial', monospace; text-align: center; padding: 10px 0; border-radius:10px; width:70%; margin:auto \" >\n",
    "  <span style=\"font-size:20px;position:relative;color:white; \"> Explore </span> <br>\n",
    "  <div style=\"background:#d0b3e6;font-size:12px\"> \n",
    "   What does the ECG record? What is the nature of the signal? Why can it be useful?\n",
    "</div>"
   ]
  },
  {
   "cell_type": "markdown",
   "metadata": {},
   "source": [
    "# II. Principles of Biosignal Acquisition\n",
    "<br>\n",
    "<div class=\"title\"style=\"width:100%; background:linear-gradient(to right,#FDC86E,#fbb144);font-family:'arial black',monospace; text-align: center; padding: 7px 0; border-radius: 5px 50px;margin-top:-15px\" >  </div>"
   ]
  },
  {
   "cell_type": "markdown",
   "metadata": {},
   "source": [
    "# <div style=\"color:#fbb144\"> 1. Simplified Block Diagram of an Acquisition System </div>\n",
    "\n",
    "<img src=\"resources/acquisition_diagram.png\" style=\"width:70%\">\n",
    "\n",
    "Biosignal acquisition systems are responsible for recording biological phenomena of electrical, chemical or mechanical nature. Since these type of signals are low-amplitude and prone to being corrupted by noise and other signal sources, several components are required to obtain such recordings:\n",
    "\n",
    "* **Electrodes (if applicable)**: the interface between the acquisition system and the body\n",
    "\n",
    "* **Transducer**: responsible for amplifying the signal captured by the sensors, namely the difference of its inputs\n",
    "\n",
    "* **Filtering**: suppresses unwanted signal sources (e.g. 50 Hz interference, EMG)\n",
    "\n",
    "* **Amplifier**: provides additional amplification (gain)\n",
    "\n",
    "* **Analog-to-Digital Converter (ADC)**: converts an analog signal (continuous) into a digital one (binary representation)\n",
    "\n",
    "In this lesson we will focus on the amplification and ADC stages."
   ]
  },
  {
   "cell_type": "markdown",
   "metadata": {},
   "source": [
    "# <div style=\"color:#fbb144\"> 2. Analog Signal Acquisition </div>\n",
    "\n",
    "### <div style=\"color:#fbb144\"> 2.1. Amplification </div>\n",
    "\n",
    "Most biosignals are of low amplitude: for example, at the body surface, ECG amplitude can vary from 0.5 to 4 $\\textrm{mV}$ and EEG from 5 to 300 $\\mu\\textrm{V}$. However, in order to properly record this type of low-amplitude signals, amplification is often necessary, which consists of increasing the amplitude of the signal by a given scale factor (known as gain). This is done by circuits especially designed for this purpose. For ECG signals, instrumentation amplifiers generally have voltage gains ($G_v$) in the order of thousands:\n",
    "\n",
    "\n",
    "$$ G_v = \\frac{\\Delta v_{out}}{\\Delta v_{in}} $$\n",
    "\n",
    "\n",
    "For example, using a voltage gain $G_v = 1000$, a signal with an amplitude of $\\pm$1 mV will have its amplitude increased to $\\pm$1 V (see figure below). Note that the frequency remains unchanged.\n",
    "\n",
    "<img src=\"resources/amplification.png\" style=\"width:70%\">\n",
    "\n",
    "### <div style=\"color:#fbb144\"> 2.2. Sampling </div>\n",
    "\n",
    "Biosignal acquisition instruments convert analog (continuous) signals into a digital representation through a process known as sampling, which consists of collecting instantaneous magnitude values of a signal in time or space, thus creating a discrete representation of it. This operation is usually done with a fixed interval between samples (see figure below). In the time domain, this interval is the sampling period ($T_s$), which is the inverse of the sampling frequency ($f_s$), measured in Hertz (Hz):\n",
    "\n",
    "$$ f_s = \\frac{1}{T_s} $$\n",
    "\n",
    "<img src=\"resources/sampling.png\" style=\"width:70%\">\n",
    "\n",
    "### <div style=\"color:#fbb144\"> 2.3. Quantization </div>\n",
    "\n",
    "Digital systems have a limited resolution, reason for which each sampled magnitude is rounded to an integer value, through a process known as quantization. The resolution is defined by the number of bits of the ADC ($n$) and by its operating voltage ($\\textrm{Vref}$).  The number of bits determines the number of quantization levels, which is given by $2^n$, and the voltage \"gap\" in-between each level corresponds to the amplitude resolution of the ADC, which is given by $\\frac{\\textrm{Vref}}{2^n}$. Since the quantization levels are within the operating voltage of the ADC, voltage measurements outside this range will saturate it.\n",
    "\n",
    "For example, a 4-bit ADC with a -1.25 to 1.25 Volt (V) operating voltage:\n",
    "\n",
    "* Can represent a total of $2^{4} = 16$ discrete values (digital codes)\n",
    "* Each value corresponds to a voltage level of $\\frac{2.5 \\ \\textrm{(V)}}{16}=156.25 \\ \\textrm{mV}$ (amplitude resolution of the ADC)\n",
    "\n",
    "Using this example, the figure below represents the quantization process applied to the previous signal:\n",
    "\n",
    "<img src=\"resources/quantization_new.png\" style=\"width:70%\">\n",
    "\n",
    "Each sampled value is rounded to the nearest quantization level (left axis), which corresponds to a given voltage value that the ADC can record (right axis). However, by default, the ADC does not output the amplitude values in their real-world physical units, instead it only presents the digital codes assigned by the ADC ($0, 1, ..., 2^n-1$). To be able to convert these values into amplitude, the ADC's transfer function is needed. The ideal (linear) version of an ADC's transfer function is given by:\n",
    "\n",
    "$$ V_{out} = \\frac{\\textrm{ADC reading}}{\\textrm{$2^n$}} \\times V_{ref}$$\n"
   ]
  },
  {
   "cell_type": "markdown",
   "metadata": {},
   "source": [
    "<div style=\"background:#946db2;font-family:'arial', monospace; text-align: center; padding: 10px 0; border-radius:10px; width:70%; margin:auto \" >\n",
    "  <span style=\"font-size:20px;position:relative;color:white; \"> Explore </span> <br>\n",
    "  <div style=\"background:#d0b3e6;font-size:12px\"> \n",
    "    Can you find the logic behind binary numbers? Why is the total number of possible values equal to 2<sup>n</sup>? Check <a href=\"https://arith-matic.com/notebook/binary-numbers\">this</a> page. \n",
    "</div>"
   ]
  },
  {
   "cell_type": "markdown",
   "metadata": {},
   "source": [
    "#### EXERCISE:\n",
    "\n",
    "1. Keeping in mind the previous example, what would happen to the digitized signal if we increased the ADC's bit resolution?"
   ]
  },
  {
   "cell_type": "markdown",
   "metadata": {},
   "source": [
    "(double-click here to edit)"
   ]
  },
  {
   "cell_type": "markdown",
   "metadata": {},
   "source": [
    "2. Using a 12-bit ADC and a $\\textrm{Vref} = 3.7 \\ \\textrm{V} $, how many quantization levels would there be? And what would be the voltage resolution of the ADC? Perform the calculations below."
   ]
  },
  {
   "cell_type": "code",
   "execution_count": null,
   "metadata": {},
   "outputs": [],
   "source": []
  },
  {
   "cell_type": "code",
   "execution_count": null,
   "metadata": {},
   "outputs": [],
   "source": []
  },
  {
   "cell_type": "markdown",
   "metadata": {},
   "source": [
    "# III. Experimental: Signal Acquisition\n",
    "<br>\n",
    "<div class=\"title\"style=\"width:100%; background:linear-gradient(to right,#FDC86E,#fbb144);font-family:'arial black',monospace; text-align: center; padding: 7px 0; border-radius: 5px 50px;margin-top:-15px\" >  </div>"
   ]
  },
  {
   "cell_type": "markdown",
   "metadata": {},
   "source": [
    "In this part we will be using the <a href=\"https://scientisst.com/\">ScientISST</a> SENSE development board to perform signal acquisition. It allows to read inputs from sensors through its analog ports (ADC) and to read and write digital signals. Based on the ESP32 microcontroller, it is capable of recording signals up to a sampling frequency of 16 kHz, using a rechargeable 3.7 V LiPo battery and it communicates through WiFi and Bluetooth protocols.\n",
    "\n",
    "The SientISST board can be directly interfaced with Python and is particularly convenient for prototyping applications that involve biosignals, since it allows data acquisition from ECG, PCG, EMG, EEG, EDA, ACC, pressure and temperature sensors. \n",
    "\n",
    "\n",
    "<img src=\"resources/sense_schematics.png\" style=\"height:300px\">"
   ]
  },
  {
   "cell_type": "markdown",
   "metadata": {},
   "source": [
    "<div style=\"background:#946db2;font-family:'arial', monospace; text-align: center; padding: 10px 0; border-radius:10px; width:70%; margin:auto \" >\n",
    "  <span style=\"font-size:20px;position:relative;color:white; \"> Explore </span> <br>\n",
    "  <div style=\"background:#d0b3e6;font-size:12px\"> \n",
    "    Can you name all the acronyms of the ECG, PCG, EMG, EEG, EDA, and ACC signals? What do these signals record? And what kind of sensors are used?\n",
    "</div>"
   ]
  },
  {
   "cell_type": "markdown",
   "metadata": {},
   "source": [
    "# <div style=\"color:#fbb144\"> 1. ScientISST SENSE Setup </div>\n",
    "\n",
    "#### 1. Switch ON the ScientISST Board\n",
    "\n",
    "Connect a battery and turn on the device; a white LED will start blinking\n",
    "<img src=\"resources/sense_switch_on.png\" style=\"height:250px\">\n",
    "\n",
    "#### 2. Pair the board to your computer via Bluetooth\n",
    "\n",
    "Enable Bluetooth on your computer and connect to \"ScientISST-XX-XX\" where XX-XX is the suffix of your device's MAC address.\n",
    "\n",
    "#### 3. Find the communication port that is being used\n",
    "\n",
    "Depending on your Operating System (OS), you need to find the unique address that can be used to send/receive data to your ScientISST device.\n",
    "\n",
    "##### Windows\n",
    "\n",
    "In the 'Bluetooth & other devices' settings, and while connected to the board, search for \"More Bluetooth options\", then go to the \"COM ports\" tab and check the port name for the **outgoing** entry with the name ScientISST-XX-XX.\n",
    "\n",
    "The string should look like: ```COMX```\n",
    "\n",
    "##### Mac OS\n",
    "\n",
    "First, you need to pair the ScientISST SENSE device in the Bluetooth Settings section. Then, you'll need to find the serial port address using the Terminal:\n",
    "\n",
    "\n",
    "```batch\n",
    "ls /dev/tty.ScientISST*\n",
    "```\n",
    "\n",
    "Copy the string like: ```/dev/tty.ScientISST-XX-XX-SPP_SE```\n",
    "\n",
    "#### 4. Connect the ECG sensor to the ScientISST board\n",
    "\n",
    "Plug your sensor to the ScientISST **side conector** (AI1), and connect the standard pre-gelled ECG electrodes to the sensor."
   ]
  },
  {
   "cell_type": "markdown",
   "metadata": {},
   "source": [
    "<tr>\n",
    "    <td><img src=\"resources/sense_kit.png\" style=\"height:300px\"></td>\n",
    "    <td><img src=\"resources/sense_AI1.png\" style=\"height:250px\"></td>\n",
    "</tr>"
   ]
  },
  {
   "cell_type": "markdown",
   "metadata": {},
   "source": [
    "#### 5. Place the ECG electrodes on predefined locations"
   ]
  },
  {
   "cell_type": "markdown",
   "metadata": {},
   "source": [
    "<img src=\"resources/ecg_elects.png\" style=\"height:300px\"/>"
   ]
  },
  {
   "cell_type": "markdown",
   "metadata": {},
   "source": [
    "<div style=\"background:#946db2;font-family:'arial', monospace; text-align: center; padding: 10px 0; border-radius:10px; width:70%; margin:auto \" >\n",
    "  <span style=\"font-size:20px;position:relative;color:white; \"> Explore </span> <br>\n",
    "  <div style=\"background:#d0b3e6;font-size:12px\"> \n",
    "    What are some properties that the electrodes should have? Will the positioning of the electrodes alter the ECG signal? \n",
    "</div>"
   ]
  },
  {
   "cell_type": "markdown",
   "metadata": {},
   "source": [
    "# <div style=\"color:#fbb144\"> 2. Acquisition with ScientISST </div>\n",
    "\n",
    "There are several ways to make signal acquisition with the ScientISST board. We will cover three ways to perform the acquisition, from the most user-friendly option to one that uses the <a href=\"https://github.com/scientisst/scientisst-sense-api-python\">ScientISST API</a> functions. An API is an Application Programming Interface, that is equipped with methods and protocols that allows interaction between systems. In this case, a Python program can be used to interact with the ScientISST board.\n",
    "\n",
    "### <div style=\"color:#fbb144\"> OPTION I: Acquisition with ScientISST SENSE online platform</div>\n",
    "\n",
    "<img src=\"resources/sense_online.png\" style=\"height:200px\">\n",
    "\n",
    "#### 1. Access the ScientISST SENSE online platform\n",
    "\n",
    "https://sense.scientisst.com/ \n",
    "\n",
    "#### 2. Adjust sampling rate\n",
    "\n",
    "Go to SETTINGS and adjust the sampling rate to 100 Hz.\n",
    "\n",
    "#### 3. Enter the acquisition environment\n",
    "\n",
    "Return to the main page, and press LIVE.\n",
    "\n",
    "#### 4. Connect to the ScientISST device\n",
    "\n",
    "Click on CONNECT and select the COM Port of the ScientISST device.\n",
    "\n",
    "#### 5. Make an acquisition \n",
    "\n",
    "Press START to begin acquisition and STOP to end it (~10 seconds).\n",
    "\n",
    "#### 6. Save the acquisition\n",
    "\n",
    "To save the acquisition as a .csv file click on DOWNLOAD.\n"
   ]
  },
  {
   "cell_type": "markdown",
   "metadata": {},
   "source": [
    "### <div style=\"color:#fbb144\"> OPTION II: Acquisition with ScientISST API (Python Console) </div>\n",
    " \n",
    "\n",
    "#### 1. Clone the ScientISST SENSE API\n",
    "\n",
    "Open the Anaconda Prompt, navigate to a folder of your choice and type:\n",
    "\n",
    "```\n",
    "git clone https://github.com/scientisst/scientisst-sense-api-python.git\n",
    "``` \n",
    "\n",
    "Make sure you have the GitPython package installed:\n",
    "```\n",
    "pip install gitpython\n",
    "``` \n",
    "\n",
    "*Note*: You can navigate through the folders by using the command:\n",
    "\n",
    "```\n",
    "cd <path_to_folder>\n",
    "\n",
    "```\n",
    "\n",
    "#### 2. Access the SENSE API and run it\n",
    "\n",
    "To access the SENSE API, first type:\n",
    "\n",
    "```\n",
    "cd scientisst-sense-api-python\n",
    "```\n",
    "\n",
    "Then, type:\n",
    "\n",
    "```\n",
    "python sense.py\n",
    "```\n",
    "\n",
    "You now have access to the list to the SENSE API commands.\n",
    "\n",
    "#### 3. Make an acquisition\n",
    "\n",
    "To make a 10-second acquisition at a sampling rate of 100 Hz, type:\n",
    "\n",
    "```\n",
    "python sense.py COMX -f 100 -d 10 -o ecg_op2.csv\n",
    "```\n",
    "\n",
    ", where `COMX` is the COM port associated to the ScientISST device.\n",
    "\n",
    "The sense.py is a script that allows us to make acquisitions using the interactive mode (i.e., console) using simple input parameters. However, we can use a Python IDE to make acquisitions and interact with the board more closely."
   ]
  },
  {
   "cell_type": "markdown",
   "metadata": {},
   "source": [
    "### <div style=\"color:#fbb144\"> OPTION III: Acquisition with ScientISST API (Python IDE)  </div>\n",
    "\n",
    "Using a Python IDE we can build a script to make acquisitions, save files and make plots.\n",
    "\n",
    "#### 1. Import libraries\n",
    "\n",
    "```python\n",
    "import numpy as np\n",
    "import scientisst\n",
    "```\n",
    "\n",
    "*Note: Make sure the Python environment has access to the 'scientisst' API folder.*\n",
    "\n",
    "#### 2. Define acquisition parameters\n",
    "\n",
    "```python\n",
    "address = 'COMX' # change to the correct address\n",
    "sample_rate = 100 # in Hz\n",
    "duration = 10 # in seconds\n",
    "channel = [1] # record the AI1 channel only\n",
    "\n",
    "signal = [] # empty list to store the ADC values\n",
    "```\n",
    "\n",
    "#### 3.  Make acquisition\n",
    "\n",
    "```python\n",
    "sci = scientisst.ScientISST(address) # declare scientisst object and connect to the ScientISST board\n",
    "sci.start(sample_rate, channel, reads_per_second=sample_rate) # define acquisition parameters and start acquisition\n",
    "\n",
    "n_samples = duration*sample_rate # total number of samples to record\n",
    "count = 0 # sample\n",
    "\n",
    "while count < n_samples:\n",
    "    frames = sci.read()\n",
    "    signal.append(frames[0].a[0]) # append the ADC value to signal list\n",
    "    count = count + 1 \n",
    "\n",
    "sci.stop() \n",
    "sci.disconnect()\n",
    "```\n",
    "\n",
    "#### 4. Save file\n",
    "\n",
    "```python\n",
    "np.savetxt('ecg_op3.csv', signal) # save the variable 'signal' to the 'ecg.csv' file.\n",
    "```\n",
    "\n",
    "\n",
    "\n"
   ]
  },
  {
   "cell_type": "markdown",
   "metadata": {},
   "source": [
    "Open the file `ecg_op3.csv` in a text editor to see its contents."
   ]
  },
  {
   "cell_type": "markdown",
   "metadata": {},
   "source": [
    "<div style=\"background:#946db2;font-family:'arial', monospace; text-align: center; padding: 10px 0; border-radius:10px; width:70%; margin:auto \" >\n",
    "  <span style=\"font-size:20px;position:relative;color:white; \"> Explore </span> <br>\n",
    "  <div style=\"background:#d0b3e6;font-size:12px\"> \n",
    "    For further help, visit the ScientISST Sense API Python page <a href='https://scientisst.github.io/scientisst-sense-api-python/'>here</a>.\n",
    "</div>"
   ]
  },
  {
   "cell_type": "markdown",
   "metadata": {},
   "source": [
    "# IV. Experimental: File Loading and Visualization with Excel\n",
    "<br>\n",
    "<div class=\"title\"style=\"width:100%; background:linear-gradient(to right,#FDC86E,#fbb144);font-family:'arial black',monospace; text-align: center; padding: 7px 0; border-radius: 5px 50px;margin-top:-15px\" >  </div>"
   ]
  },
  {
   "cell_type": "markdown",
   "metadata": {},
   "source": [
    "<img src=\"resources/MSExcel.png\" style=\"width:100px\">\n",
    "\n",
    "Download the `ecg_op2.csv` file provided in the IEB Google Drive <a href=\"https://drive.google.com/drive/folders/1IbCv1iDJP6syZKuzq32-RGPfXdPgaZnb?usp=sharing\">here</a>.\n",
    "\n",
    "\n",
    "# <div style=\"color:#fbb144\"> 1. File Loading </div>\n",
    "\n",
    "#### 1. Create a blank Excel workbook\n",
    "\n",
    "Open Excel and open a new workbook (*File* $\\rightarrow$ *New* $\\rightarrow$ *Blank workbook*).\n",
    "\n",
    "#### 2. Choose the CSV file to import\n",
    "\n",
    "In the Data tab, select the .csv file to load (*Data* $\\rightarrow$ *Get & Transform Data* $\\rightarrow$ *Get Data* $\\rightarrow$ *From File* $\\rightarrow$ *From Text/CSV*).\n",
    "\n",
    "#### 3. Import the CSV file\n",
    "\n",
    "Define the import parameters to correctly import the .csv file:\n",
    "\n",
    "* Delimiter: Tab\n",
    "\n",
    "and click *Load*. Adjust the table style according to your preferences."
   ]
  },
  {
   "cell_type": "markdown",
   "metadata": {},
   "source": [
    "# <div style=\"color:#fbb144\"> 2. Signal Visualization </div>\n",
    "\n",
    "\n",
    "#### 1. Create a signal plot with the ADC values\n",
    "\n",
    "* Create a new sheet and name it `ADC Plot`. \n",
    "\n",
    "* Edit cell A1 to be called 'Samples', and add a number sequence column starting in 1 with step 1 (Hint: you can use the SEQUENCE and ROWS excel functions, or use the fill handle).\n",
    "\n",
    "* Copy the 'AI1_raw' column into the `ADC Plot` sheet (column B). Change the column name to 'ADC value'. If necessary convert the values into Number format (*Data* $\\rightarrow$ *Data Tools* $\\rightarrow$ *Text to Columns*).\n",
    "\n",
    "* Format columns A and B as a Table (Select columns A and B $\\rightarrow$ *Insert* $\\rightarrow$ *Table*).\n",
    "\n",
    "* Create a scatter plot with straight lines (*Insert* $\\rightarrow$ *Charts* $\\rightarrow$ *X Y (Scatter)* $\\rightarrow$ *Scatter with Straight Lines*).\n",
    "\n",
    "* Add the corresponding data (*Select Data* $\\rightarrow$ *Add*):\n",
    "\n",
    "    - Series name: (click on B1)\n",
    "    - Series X values: (click on A column)\n",
    "    - Series Y values: (click on B column)\n",
    "\n",
    "\n",
    "* Add Chart Title, Axis Titles and adjust the axis bounds to properly fit the signal.\n",
    "\n",
    "* Adjust the plotting style (line color, line width, ...) according to your preferences.\n",
    "\n",
    "\n",
    "#### 2. Create a signal plot using real units\n",
    "\n",
    "* Create a new sheet and name it `Real Unit Plot`. \n",
    "\n",
    "* Below a cell called 'Time (s)', add a time sequence starting in 0 s with step:\n",
    "\n",
    "$$\\textrm{$\\Delta t$ (s) = }\\frac{1}{\\textrm{Sampling frequency (Hz)}}$$\n",
    "\n",
    "*Hint: you can use the 'Samples' column to create the time sequence column.*\n",
    "\n",
    "* Copy the 'AI1_raw' column into the `Real Unit Plot` sheet. Change the column name to 'ADC value'.\n",
    "\n",
    "* Name an empty column 'Amplitude (mV)' and apply the following value transformation to the 'ADC value' column:\n",
    "\n",
    "$$ \\textrm{Amplitude (mV)} = \\frac{\\left(\\frac{\\textrm{ADC value}}{\\textrm{$2^n$}}-\\frac{1}{2}\\right) \\times \\textrm {Vref}}{G_{E C G}}$$\n",
    "\n",
    "* Format the columns as a Table.\n",
    "\n",
    "* Create a plot containing the signal in real units, i.e., Amplitude (mV) vs. Time (s).\n",
    "\n",
    "\n",
    "*Hints:* \n",
    "\n",
    "- System operating voltage $Vref$ = $3.3$ V\n",
    "- ADC resolution = $2^n$, $n$ = number of bits of the ADC channel\n",
    "- ECG sensor gain $G_{ECG} = 1100$\n",
    "- Check the first line of the original .csv file for missing values ('Header' and 'Resolution (bits)')\n",
    "- Don't forget to be consistent with the units\n",
    "\n",
    "#### 3. Confirm the ECG sensor gain (optional)\n",
    "\n",
    "A biosignal simulator was used to produce an ECG signal with an amplitude of 1 mV and a heart rate of 60 beats per minute (bpm). By injecting this signal into the same ECG sensors, an acquisition was performed using the ScientISST board configured with a sampling rate of 500 Hz. The `reference.txt` file contains the ADC values recorded by the board. Given this, read the file and estimate the gain of the ECG sensor using the formula from the previous exercise."
   ]
  },
  {
   "cell_type": "code",
   "execution_count": null,
   "metadata": {},
   "outputs": [],
   "source": []
  },
  {
   "cell_type": "markdown",
   "metadata": {},
   "source": [
    "<tr>\n",
    "<td> <img src=\"https://github.com/PIA-Group/ScientIST-notebooks/blob/master/_Resources/Images/IT.png?raw=true\" alt=\"Drawing\" style=\"width:200px\"/> </td>\n",
    "\n",
    "<td> <img src=\"https://github.com/PIA-Group/ScientIST-notebooks/blob/master/_Resources/Images/IST.png?raw=true\" alt=\"Drawing\"\n",
    "style=\"width:200px\"/> </td>\n",
    "</tr>"
   ]
  },
  {
   "cell_type": "markdown",
   "metadata": {},
   "source": [
    "```Contributors:  ``` Ana Fred, Hugo Plácido da Silva and Rafael Silva"
   ]
  }
 ],
 "metadata": {
  "kernelspec": {
   "display_name": "Python 3",
   "language": "python",
   "name": "python3"
  },
  "language_info": {
   "codemirror_mode": {
    "name": "ipython",
    "version": 3
   },
   "file_extension": ".py",
   "mimetype": "text/x-python",
   "name": "python",
   "nbconvert_exporter": "python",
   "pygments_lexer": "ipython3",
   "version": "3.8.5"
  }
 },
 "nbformat": 4,
 "nbformat_minor": 4
}
