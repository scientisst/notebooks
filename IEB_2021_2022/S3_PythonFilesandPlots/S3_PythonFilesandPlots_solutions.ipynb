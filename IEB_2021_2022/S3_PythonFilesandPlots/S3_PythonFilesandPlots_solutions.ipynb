{
 "cells": [
  {
   "cell_type": "markdown",
   "metadata": {},
   "source": [
    "### Introdução à Engenharia Biomédica (P4 - 2021/2022)\n",
    "# Aula Prática #3 - Manuseamento de Ficheiros e Visualização em Python\n"
   ]
  },
  {
   "cell_type": "markdown",
   "metadata": {},
   "source": [
    "Name: (write here)\n",
    "\n",
    "IST ID: (write here)\n",
    "\n",
    "Date: (write here)"
   ]
  },
  {
   "cell_type": "markdown",
   "metadata": {},
   "source": [
    "# I. Overview\n",
    "<br>\n",
    "<div class=\"title\"style=\"width:100%; background:linear-gradient(to right,#FDC86E,#fbb144);font-family:'arial black',monospace; text-align: center; padding: 7px 0; border-radius: 5px 50px;margin-top:-15px\" >  </div>"
   ]
  },
  {
   "cell_type": "markdown",
   "metadata": {},
   "source": [
    "# <div style=\"color:#fbb144\"> 1. Introduction </div>\n",
    "\n",
    "While it is possible to use a spreadsheet environment for loading and visualizing signals, its use can be limited when dealing with multiple recordings and especially when they are of long duration (i.e. large file size). It is also more difficult and time consuming to develop methods and algorithms to process and analyze these signals. Thus, robust and efficient computational environments based on programming languages such as Python are a useful tool to perform such tasks. In addition, specialized libraries for visualizing and analyzing data, solving equations, applying mathematical functions, signal processing and using Artificial Intelligence algorithms can be extremely useful for scientific projects.\n",
    "\n",
    "In this lesson, we will learn how to create a standard Python environment suitable for scientific computing, which includes file manipulation, plotting, and other features provided by Python libraries."
   ]
  },
  {
   "cell_type": "markdown",
   "metadata": {},
   "source": [
    "<div style=\"background:#48ba57;font-family:'arial', monospace; text-align: center; padding: 10px 0; border-radius:10px; width:70%; margin:auto \" >\n",
    "  <span style=\"font-size:20px;position:relative;color:white; \">  Note </span> <br>\n",
    "  <div style=\"background:#9de3a6;font-size:12px\"> \n",
    "    In general, Python libraries are well documented and provide example applications, such as <a href='https://matplotlib.org/index.html'>Matplotlib</a> and <a href=\"https://numpy.org/\">NumPy</a>. However, there are also educational websites like <a href=\"https://www.w3schools.com/\">W3Schools</a> and <a href=\"https://www.programiz.com/There\">Programiz</a> for learners, as well as online forums and communities that respond to public requests and questions.     \n",
    "</div>\n",
    "</div>"
   ]
  },
  {
   "cell_type": "markdown",
   "metadata": {},
   "source": [
    "# <div style=\"color:#fbb144\"> 2. Objectives </div>\n",
    "\n",
    "* Load formatted text files in Python ('.txt' and '.csv')\n",
    "* Use basic functions for signal visualization and plot customization"
   ]
  },
  {
   "cell_type": "markdown",
   "metadata": {},
   "source": [
    "# II. File Handling\n",
    "<br>\n",
    "<div class=\"title\"style=\"width:100%; background:linear-gradient(to right,#FDC86E,#fbb144);font-family:'arial black',monospace; text-align: center; padding: 7px 0; border-radius: 5px 50px;margin-top:-15px\" >  </div>"
   ]
  },
  {
   "cell_type": "markdown",
   "metadata": {},
   "source": [
    "To be safe, please run the following piece of code to save the current directory in a variable."
   ]
  },
  {
   "cell_type": "code",
   "execution_count": null,
   "metadata": {},
   "outputs": [],
   "source": [
    "import os\n",
    "cwd = os.getcwd()"
   ]
  },
  {
   "cell_type": "markdown",
   "metadata": {},
   "source": [
    "# <div style=\"color:#fbb144\"> 1. Directory </div>\n",
    "\n",
    "An operating system organizes its files and folders in an hierarchical manner (i.e., the directory). To be able to handle files (open, create, update, delete) it is important to be aware of the main navigation commands in a Python environment. Unless we specify the whole or a relative path to a file, we will only have access to scripts and files that are in the same directory as we are. These commands are more useful in the interactive mode (i.e., the console), since in Python IDEs we can use the navigation buttons. \n",
    "\n",
    "* To show the present location (or path) of the directory, use the command `pwd`:"
   ]
  },
  {
   "cell_type": "code",
   "execution_count": null,
   "metadata": {},
   "outputs": [],
   "source": [
    "pwd"
   ]
  },
  {
   "cell_type": "markdown",
   "metadata": {},
   "source": [
    "This is the path to the folder where this notebook is located. Note that each level is separated by a double backslash `\\\\`. \n",
    "\n",
    "* To list all files and folders within the current directory we can use the `os.listdir()` function:"
   ]
  },
  {
   "cell_type": "code",
   "execution_count": null,
   "metadata": {},
   "outputs": [],
   "source": [
    "os.listdir()"
   ]
  },
  {
   "cell_type": "markdown",
   "metadata": {},
   "source": [
    "To navigate to other folders, we use the command `cd`.\n",
    "\n",
    "* To move to a folder within the current directory, we type the folder's name with double quotation marks ``\"<folder_name>\"``:"
   ]
  },
  {
   "cell_type": "code",
   "execution_count": null,
   "metadata": {
    "scrolled": true
   },
   "outputs": [],
   "source": [
    "cd \"resources\""
   ]
  },
  {
   "cell_type": "markdown",
   "metadata": {},
   "source": [
    "* To move up one directory level, we type `cd ..`:"
   ]
  },
  {
   "cell_type": "code",
   "execution_count": null,
   "metadata": {},
   "outputs": [],
   "source": [
    "cd .."
   ]
  },
  {
   "cell_type": "markdown",
   "metadata": {},
   "source": [
    "We can also specify the whole path to the desired folder:\n",
    "\n",
    "```\n",
    "cd \"<the path goes here>\"\n",
    "```"
   ]
  },
  {
   "cell_type": "markdown",
   "metadata": {},
   "source": [
    "To make sure we are using the correct directory, run the following piece of code:"
   ]
  },
  {
   "cell_type": "code",
   "execution_count": null,
   "metadata": {},
   "outputs": [],
   "source": [
    "os.chdir(cwd)"
   ]
  },
  {
   "cell_type": "markdown",
   "metadata": {},
   "source": [
    "# <div style=\"color:#fbb144\"> 2. Read files using Python built-in functions </div>\n",
    "\n",
    "For creating, reading and updating files, Python includes various functions, namely the function `open()`. This function receives two main parameters: \n",
    "* **filename**: the name of the file in the current directory, or the whole path to it\n",
    "\n",
    "* **mode**: `\"r\"` to read, `\"a\"` to append and `\"w\"` to write a file\n",
    "\n",
    "Let's open the `ecg_op3.csv` file by creating a file object called `f`:"
   ]
  },
  {
   "cell_type": "code",
   "execution_count": 1,
   "metadata": {},
   "outputs": [],
   "source": [
    "f = open(\"resources/ecg_op3.csv\", \"r\")"
   ]
  },
  {
   "cell_type": "markdown",
   "metadata": {},
   "source": [
    "Since the file is now accessible to the Python environment, we can interact with it. \n",
    "\n",
    "Let's use the `readline()` method associated with the file object, which reads one line at a time:"
   ]
  },
  {
   "cell_type": "code",
   "execution_count": 2,
   "metadata": {},
   "outputs": [
    {
     "data": {
      "text/plain": [
       "'1780\\n'"
      ]
     },
     "execution_count": 2,
     "metadata": {},
     "output_type": "execute_result"
    }
   ],
   "source": [
    "line = f.readline() # first line of the file\n",
    "line"
   ]
  },
  {
   "cell_type": "markdown",
   "metadata": {},
   "source": [
    "Note that `\\n` is the character for a new line. When we no longer need information from the file, we need to close it:"
   ]
  },
  {
   "cell_type": "code",
   "execution_count": 3,
   "metadata": {},
   "outputs": [],
   "source": [
    "f.close()"
   ]
  },
  {
   "cell_type": "markdown",
   "metadata": {},
   "source": [
    "To read the whole file, we can create a loop that reads each line and saves it on a list:"
   ]
  },
  {
   "cell_type": "code",
   "execution_count": 4,
   "metadata": {},
   "outputs": [],
   "source": [
    "f = open(\"resources/ecg_op3.csv\", \"r\")\n",
    "ecg_data = [] # empty list to save the signal\n",
    "\n",
    "for i in f:\n",
    "    row = f.readline() # reads line\n",
    "    row = row.strip('\\n') # removes the \\n character\n",
    "    ecg_data.append(row) # adds line to the list\n",
    "    \n",
    "f.close()"
   ]
  },
  {
   "cell_type": "markdown",
   "metadata": {},
   "source": [
    "We can now access the values inside the `ecg_data` list:"
   ]
  },
  {
   "cell_type": "code",
   "execution_count": 5,
   "metadata": {
    "scrolled": true
   },
   "outputs": [
    {
     "data": {
      "text/plain": [
       "['1774',\n",
       " '1727',\n",
       " '1667',\n",
       " '1616',\n",
       " '1588',\n",
       " '1581',\n",
       " '1588',\n",
       " '1613',\n",
       " '1637',\n",
       " '1654',\n",
       " '1667',\n",
       " '1669',\n",
       " '1667',\n",
       " '1664',\n",
       " '1666',\n",
       " '1664',\n",
       " '1671',\n",
       " '1675',\n",
       " '1679',\n",
       " '1679',\n",
       " '1676',\n",
       " '1675',\n",
       " '1679',\n",
       " '1686',\n",
       " '1700',\n",
       " '1713',\n",
       " '1728',\n",
       " '1741',\n",
       " '1745',\n",
       " '1754',\n",
       " '1760',\n",
       " '1760',\n",
       " '1757',\n",
       " '1758',\n",
       " '1753',\n",
       " '1755',\n",
       " '1763',\n",
       " '1776',\n",
       " '1793',\n",
       " '1808',\n",
       " '1824',\n",
       " '1841',\n",
       " '1853',\n",
       " '1858',\n",
       " '1861',\n",
       " '1857',\n",
       " '1857',\n",
       " '1861',\n",
       " '1869',\n",
       " '1877',\n",
       " '1899',\n",
       " '1917',\n",
       " '1936',\n",
       " '1953',\n",
       " '1968',\n",
       " '1977',\n",
       " '1984',\n",
       " '1986',\n",
       " '1994',\n",
       " '2001',\n",
       " '2017',\n",
       " '2032',\n",
       " '2059',\n",
       " '2078',\n",
       " '2091',\n",
       " '2096',\n",
       " '2095',\n",
       " '2085',\n",
       " '2078',\n",
       " '2070',\n",
       " '2067',\n",
       " '2067',\n",
       " '2071',\n",
       " '2070',\n",
       " '2074',\n",
       " '2071',\n",
       " '2064',\n",
       " '2057',\n",
       " '2044',\n",
       " '2035',\n",
       " '2027',\n",
       " '2011',\n",
       " '1998',\n",
       " '1972',\n",
       " '1945',\n",
       " '1915',\n",
       " '1887',\n",
       " '1862',\n",
       " '1840',\n",
       " '1819',\n",
       " '1797',\n",
       " '1776',\n",
       " '1751',\n",
       " '1733',\n",
       " '1713',\n",
       " '1693',\n",
       " '1676',\n",
       " '1652',\n",
       " '1632',\n",
       " '1613',\n",
       " '1590',\n",
       " '1567',\n",
       " '1547',\n",
       " '1523',\n",
       " '1512',\n",
       " '1501',\n",
       " '1497',\n",
       " '1492',\n",
       " '1490',\n",
       " '1489',\n",
       " '1479',\n",
       " '1472',\n",
       " '1463',\n",
       " '1456',\n",
       " '1454',\n",
       " '1452',\n",
       " '1456',\n",
       " '1460',\n",
       " '1469',\n",
       " '1472',\n",
       " '1469',\n",
       " '1461',\n",
       " '1450',\n",
       " '1436',\n",
       " '1427',\n",
       " '1424',\n",
       " '1425',\n",
       " '1431',\n",
       " '1443',\n",
       " '1452',\n",
       " '1456',\n",
       " '1454',\n",
       " '1446',\n",
       " '1439',\n",
       " '1435',\n",
       " '1438',\n",
       " '1442',\n",
       " '1456',\n",
       " '1470',\n",
       " '1473',\n",
       " '1472',\n",
       " '1465',\n",
       " '1454',\n",
       " '1447',\n",
       " '1446',\n",
       " '1457',\n",
       " '1477',\n",
       " '1504',\n",
       " '1526',\n",
       " '1549',\n",
       " '1552',\n",
       " '1549',\n",
       " '1529',\n",
       " '1520',\n",
       " '1513',\n",
       " '1509',\n",
       " '1520',\n",
       " '1535',\n",
       " '1555',\n",
       " '1574',\n",
       " '1583',\n",
       " '1584',\n",
       " '1579',\n",
       " '1570',\n",
       " '1557',\n",
       " '1552',\n",
       " '1549',\n",
       " '1551',\n",
       " '1553',\n",
       " '1565',\n",
       " '1574',\n",
       " '1584',\n",
       " '1594',\n",
       " '1600',\n",
       " '1601',\n",
       " '1602',\n",
       " '1603',\n",
       " '1600',\n",
       " '1599',\n",
       " '1595',\n",
       " '1593',\n",
       " '1589',\n",
       " '1586',\n",
       " '1584',\n",
       " '1581',\n",
       " '1578',\n",
       " '1571',\n",
       " '1563',\n",
       " '1563',\n",
       " '1566',\n",
       " '1571',\n",
       " '1579',\n",
       " '1584',\n",
       " '1585',\n",
       " '1582',\n",
       " '1577',\n",
       " '1565',\n",
       " '1562',\n",
       " '1563',\n",
       " '1573',\n",
       " '1578',\n",
       " '1579',\n",
       " '1573',\n",
       " '1559',\n",
       " '1546',\n",
       " '1530',\n",
       " '1523',\n",
       " '1523',\n",
       " '1531',\n",
       " '1546',\n",
       " '1552',\n",
       " '1553',\n",
       " '1555',\n",
       " '1553',\n",
       " '1554',\n",
       " '1552',\n",
       " '1551',\n",
       " '1546',\n",
       " '1542',\n",
       " '1533',\n",
       " '1528',\n",
       " '1523',\n",
       " '1520',\n",
       " '1521',\n",
       " '1520',\n",
       " '1517',\n",
       " '1511',\n",
       " '1506',\n",
       " '1503',\n",
       " '1506',\n",
       " '1510',\n",
       " '1519',\n",
       " '1526',\n",
       " '1535',\n",
       " '1552',\n",
       " '1554',\n",
       " '1556',\n",
       " '1552',\n",
       " '1533',\n",
       " '1521',\n",
       " '1510',\n",
       " '1505',\n",
       " '1505',\n",
       " '1510',\n",
       " '1520',\n",
       " '1535',\n",
       " '1552',\n",
       " '1559',\n",
       " '1567',\n",
       " '1567',\n",
       " '1559',\n",
       " '1552',\n",
       " '1543',\n",
       " '1529',\n",
       " '1523',\n",
       " '1521',\n",
       " '1520',\n",
       " '1521',\n",
       " '1526',\n",
       " '1529',\n",
       " '1533',\n",
       " '1535',\n",
       " '1541',\n",
       " '1542',\n",
       " '1540',\n",
       " '1533',\n",
       " '1529',\n",
       " '1526',\n",
       " '1528',\n",
       " '1524',\n",
       " '1532',\n",
       " '1533',\n",
       " '1533',\n",
       " '1525',\n",
       " '1520',\n",
       " '1514',\n",
       " '1504',\n",
       " '1514',\n",
       " '1520',\n",
       " '1541',\n",
       " '1558',\n",
       " '1565',\n",
       " '1570',\n",
       " '1568',\n",
       " '1552',\n",
       " '1550',\n",
       " '1535',\n",
       " '1524',\n",
       " '1517',\n",
       " '1515',\n",
       " '1520',\n",
       " '1533',\n",
       " '1547',\n",
       " '1552',\n",
       " '1551',\n",
       " '1554',\n",
       " '1552',\n",
       " '1547',\n",
       " '1535',\n",
       " '1531',\n",
       " '1531',\n",
       " '1531',\n",
       " '1549',\n",
       " '1559',\n",
       " '1570',\n",
       " '1575',\n",
       " '1575',\n",
       " '1570',\n",
       " '1568',\n",
       " '1567',\n",
       " '1577',\n",
       " '1586',\n",
       " '1602',\n",
       " '1615',\n",
       " '1627',\n",
       " '1631',\n",
       " '1629',\n",
       " '1621',\n",
       " '1617',\n",
       " '1617',\n",
       " '1630',\n",
       " '1648',\n",
       " '1677',\n",
       " '1699',\n",
       " '1712',\n",
       " '1714',\n",
       " '1707',\n",
       " '1680',\n",
       " '1654',\n",
       " '1629',\n",
       " '1613',\n",
       " '1600',\n",
       " '1600',\n",
       " '1604',\n",
       " '1609',\n",
       " '1609',\n",
       " '1603',\n",
       " '1598',\n",
       " '1586',\n",
       " '1579',\n",
       " '1563',\n",
       " '1546',\n",
       " '1520',\n",
       " '1501',\n",
       " '1488',\n",
       " '1481',\n",
       " '1487',\n",
       " '1498',\n",
       " '1517',\n",
       " '1527',\n",
       " '1541',\n",
       " '1542',\n",
       " '1535',\n",
       " '1523',\n",
       " '1514',\n",
       " '1500',\n",
       " '1493',\n",
       " '1495',\n",
       " '1504',\n",
       " '1520',\n",
       " '1535',\n",
       " '1554',\n",
       " '1567',\n",
       " '1567',\n",
       " '1564',\n",
       " '1552',\n",
       " '1542',\n",
       " '1531',\n",
       " '1527',\n",
       " '1524',\n",
       " '1529',\n",
       " '1527',\n",
       " '1522',\n",
       " '1504',\n",
       " '1471',\n",
       " '1424',\n",
       " '1375',\n",
       " '1330',\n",
       " '1314',\n",
       " '1333',\n",
       " '1408',\n",
       " '1552',\n",
       " '1751',\n",
       " '2015',\n",
       " '2348',\n",
       " '2746',\n",
       " '3202',\n",
       " '3691',\n",
       " '3707',\n",
       " '3706',\n",
       " '3707',\n",
       " '3706',\n",
       " '3705',\n",
       " '3705',\n",
       " '3377',\n",
       " '2705',\n",
       " '1813',\n",
       " '931',\n",
       " '340',\n",
       " '112',\n",
       " '237',\n",
       " '640',\n",
       " '1185',\n",
       " '1707',\n",
       " '2027',\n",
       " '2096',\n",
       " '1929',\n",
       " '1652',\n",
       " '1379',\n",
       " '1209',\n",
       " '1169',\n",
       " '1258',\n",
       " '1424',\n",
       " '1616',\n",
       " '1764',\n",
       " '1837',\n",
       " '1827',\n",
       " '1766',\n",
       " '1680',\n",
       " '1600',\n",
       " '1552',\n",
       " '1535',\n",
       " '1560',\n",
       " '1600',\n",
       " '1636',\n",
       " '1664',\n",
       " '1671',\n",
       " '1666',\n",
       " '1653',\n",
       " '1638',\n",
       " '1630',\n",
       " '1628',\n",
       " '1637',\n",
       " '1647',\n",
       " '1660',\n",
       " '1671',\n",
       " '1681',\n",
       " '1693',\n",
       " '1698',\n",
       " '1701',\n",
       " '1706',\n",
       " '1710',\n",
       " '1711',\n",
       " '1710',\n",
       " '1712',\n",
       " '1710',\n",
       " '1713',\n",
       " '1718',\n",
       " '1728',\n",
       " '1739',\n",
       " '1754',\n",
       " '1767',\n",
       " '1778',\n",
       " '1787',\n",
       " '1792',\n",
       " '1799',\n",
       " '1805',\n",
       " '1809',\n",
       " '1814',\n",
       " '1829',\n",
       " '1840',\n",
       " '1856',\n",
       " '1858',\n",
       " '1856',\n",
       " '1854',\n",
       " '1847',\n",
       " '1847',\n",
       " '1856',\n",
       " '1872',\n",
       " '1894',\n",
       " '1917',\n",
       " '1940',\n",
       " '1967',\n",
       " '1984',\n",
       " '1994',\n",
       " '2000',\n",
       " '2000',\n",
       " '1998',\n",
       " '1997',\n",
       " '2000',\n",
       " '2003',\n",
       " '2011',\n",
       " '2021',\n",
       " '2023',\n",
       " '2030',\n",
       " '2032',\n",
       " '2043',\n",
       " '2063',\n",
       " '2075',\n",
       " '2091',\n",
       " '2094',\n",
       " '2086',\n",
       " '2075',\n",
       " '2053',\n",
       " '2026',\n",
       " '2006',\n",
       " '1986',\n",
       " '1974',\n",
       " '1966',\n",
       " '1952',\n",
       " '1939',\n",
       " '1925',\n",
       " '1904',\n",
       " '1878',\n",
       " '1851',\n",
       " '1815',\n",
       " '1782',\n",
       " '1758',\n",
       " '1741',\n",
       " '1729',\n",
       " '1723',\n",
       " '1713',\n",
       " '1697',\n",
       " '1674',\n",
       " '1645',\n",
       " '1606',\n",
       " '1575',\n",
       " '1552',\n",
       " '1542',\n",
       " '1534',\n",
       " '1535',\n",
       " '1534',\n",
       " '1530',\n",
       " '1520',\n",
       " '1504',\n",
       " '1488',\n",
       " '1474',\n",
       " '1467',\n",
       " '1463',\n",
       " '1462',\n",
       " '1456',\n",
       " '1458',\n",
       " '1459',\n",
       " '1461',\n",
       " '1456',\n",
       " '1454',\n",
       " '1447',\n",
       " '1449',\n",
       " '1447',\n",
       " '1455',\n",
       " '1454',\n",
       " '1455',\n",
       " '1454',\n",
       " '1449',\n",
       " '1442',\n",
       " '1437',\n",
       " '1429',\n",
       " '1426',\n",
       " '1427',\n",
       " '1434',\n",
       " '1439',\n",
       " '1440',\n",
       " '1436',\n",
       " '1437',\n",
       " '1435',\n",
       " '1441',\n",
       " '1453',\n",
       " '1466',\n",
       " '1478',\n",
       " '1491',\n",
       " '1503',\n",
       " '1511',\n",
       " '1507',\n",
       " '1499',\n",
       " '1488',\n",
       " '1481',\n",
       " '1477',\n",
       " '1475',\n",
       " '1481',\n",
       " '1489',\n",
       " '1505',\n",
       " '1518',\n",
       " '1531',\n",
       " '1546',\n",
       " '1552',\n",
       " '1553',\n",
       " '1553',\n",
       " '1557',\n",
       " '1556',\n",
       " '1552',\n",
       " '1552',\n",
       " '1553',\n",
       " '1554',\n",
       " '1561',\n",
       " '1565',\n",
       " '1570',\n",
       " '1578',\n",
       " '1584',\n",
       " '1587',\n",
       " '1594',\n",
       " '1600',\n",
       " '1600',\n",
       " '1600',\n",
       " '1595',\n",
       " '1587',\n",
       " '1584',\n",
       " '1584',\n",
       " '1583',\n",
       " '1584',\n",
       " '1584',\n",
       " '1589',\n",
       " '1590',\n",
       " '1594',\n",
       " '1595',\n",
       " '1587',\n",
       " '1585',\n",
       " '1584',\n",
       " '1584',\n",
       " '1584',\n",
       " '1582',\n",
       " '1578',\n",
       " '1573',\n",
       " '1566',\n",
       " '1559',\n",
       " '1552',\n",
       " '1553',\n",
       " '1551',\n",
       " '1547',\n",
       " '1548',\n",
       " '1542',\n",
       " '1534',\n",
       " '1532',\n",
       " '1530',\n",
       " '1530',\n",
       " '1535',\n",
       " '1549',\n",
       " '1552',\n",
       " '1562',\n",
       " '1569',\n",
       " '1568',\n",
       " '1566',\n",
       " '1556',\n",
       " '1552',\n",
       " '1542',\n",
       " '1526',\n",
       " '1522',\n",
       " '1521',\n",
       " '1522',\n",
       " '1527',\n",
       " '1528',\n",
       " '1527',\n",
       " '1529',\n",
       " '1526',\n",
       " '1531',\n",
       " '1535',\n",
       " '1546',\n",
       " '1552',\n",
       " '1562',\n",
       " '1571',\n",
       " '1573',\n",
       " '1568',\n",
       " '1565',\n",
       " '1557',\n",
       " '1552',\n",
       " '1543',\n",
       " '1535',\n",
       " '1533',\n",
       " '1534',\n",
       " '1541',\n",
       " '1535',\n",
       " '1541',\n",
       " '1542',\n",
       " '1535',\n",
       " '1541',\n",
       " '1535',\n",
       " '1535',\n",
       " '1531',\n",
       " '1543',\n",
       " '1550',\n",
       " '1552',\n",
       " '1557',\n",
       " '1558',\n",
       " '1554',\n",
       " '1548',\n",
       " '1535',\n",
       " '1520',\n",
       " '1509',\n",
       " '1504',\n",
       " '1506',\n",
       " '1519',\n",
       " '1530',\n",
       " '1552',\n",
       " '1567',\n",
       " '1570',\n",
       " '1568',\n",
       " '1559',\n",
       " '1552',\n",
       " '1543',\n",
       " '1535',\n",
       " '1541',\n",
       " '1545',\n",
       " '1547',\n",
       " '1550',\n",
       " '1550',\n",
       " '1550',\n",
       " '1551',\n",
       " '1552',\n",
       " '1562',\n",
       " '1579',\n",
       " '1590',\n",
       " '1600',\n",
       " '1606',\n",
       " '1616',\n",
       " '1618',\n",
       " '1621',\n",
       " '1621',\n",
       " '1616',\n",
       " '1615',\n",
       " '1609',\n",
       " '1614',\n",
       " '1618',\n",
       " '1643',\n",
       " '1674',\n",
       " '1712',\n",
       " '1744',\n",
       " '1756',\n",
       " '1744',\n",
       " '1714',\n",
       " '1673',\n",
       " '1630',\n",
       " '1599',\n",
       " '1578',\n",
       " '1570',\n",
       " '1578',\n",
       " '1590',\n",
       " '1601',\n",
       " '1608',\n",
       " '1605',\n",
       " '1599',\n",
       " '1589',\n",
       " '1580',\n",
       " '1566',\n",
       " '1553',\n",
       " '1541',\n",
       " '1522',\n",
       " '1505',\n",
       " '1499',\n",
       " '1491',\n",
       " '1495',\n",
       " '1506',\n",
       " '1515',\n",
       " '1522',\n",
       " '1531',\n",
       " '1543',\n",
       " '1535',\n",
       " '1526',\n",
       " '1520',\n",
       " '1510',\n",
       " '1511',\n",
       " '1515',\n",
       " '1520',\n",
       " '1526',\n",
       " '1532',\n",
       " '1543',\n",
       " '1545',\n",
       " '1545',\n",
       " '1547',\n",
       " '1546',\n",
       " '1542',\n",
       " '1535',\n",
       " '1532',\n",
       " '1529',\n",
       " '1520',\n",
       " '1497',\n",
       " '1466',\n",
       " '1419',\n",
       " '1360',\n",
       " '1314',\n",
       " '1286',\n",
       " '1293',\n",
       " '1349',\n",
       " '1463',\n",
       " '1641',\n",
       " '1860',\n",
       " '2128',\n",
       " '2445',\n",
       " '2819',\n",
       " '3247',\n",
       " '3701',\n",
       " '3702',\n",
       " '3706',\n",
       " '3705',\n",
       " '3706',\n",
       " '3705',\n",
       " '3702',\n",
       " '3435',\n",
       " '2798',\n",
       " '1934',\n",
       " '1040',\n",
       " '400',\n",
       " '112',\n",
       " '167',\n",
       " '519',\n",
       " '1042',\n",
       " '1594',\n",
       " '1991',\n",
       " '2154',\n",
       " '2080',\n",
       " '1853',\n",
       " '1583',\n",
       " '1369',\n",
       " '1273',\n",
       " '1296',\n",
       " '1415',\n",
       " '1579',\n",
       " '1722',\n",
       " '1813',\n",
       " '1837',\n",
       " '1794',\n",
       " '1726',\n",
       " '1638',\n",
       " '1579',\n",
       " '1541',\n",
       " '1541',\n",
       " '1571',\n",
       " '1609',\n",
       " '1651',\n",
       " '1685',\n",
       " '1703',\n",
       " '1703',\n",
       " '1694',\n",
       " '1681',\n",
       " '1670',\n",
       " '1664',\n",
       " '1664',\n",
       " '1672',\n",
       " '1677',\n",
       " '1680',\n",
       " '1685',\n",
       " '1693',\n",
       " '1705',\n",
       " '1713',\n",
       " '1728',\n",
       " '1737',\n",
       " '1743',\n",
       " '1743',\n",
       " '1744',\n",
       " '1744',\n",
       " '1743',\n",
       " '1744',\n",
       " '1749',\n",
       " '1760',\n",
       " '1773',\n",
       " '1783',\n",
       " '1801',\n",
       " '1808',\n",
       " '1818',\n",
       " '1824',\n",
       " '1834',\n",
       " '1843',\n",
       " '1850',\n",
       " '1861',\n",
       " '1870',\n",
       " '1873',\n",
       " '1883',\n",
       " '1887',\n",
       " '1904',\n",
       " '1914',\n",
       " '1930',\n",
       " '1943',\n",
       " '1954',\n",
       " '1968',\n",
       " '1973',\n",
       " '1984',\n",
       " '1991',\n",
       " '2000',\n",
       " '2011',\n",
       " '2023',\n",
       " '2037',\n",
       " '2054',\n",
       " '2071',\n",
       " '2083',\n",
       " '2094',\n",
       " '2099',\n",
       " '2107',\n",
       " '2112',\n",
       " '2112',\n",
       " '2114',\n",
       " '2117',\n",
       " '2125',\n",
       " '2128',\n",
       " '2128',\n",
       " '2127',\n",
       " '2112',\n",
       " '2093',\n",
       " '2067',\n",
       " '2039',\n",
       " '2026',\n",
       " '2015',\n",
       " '2014',\n",
       " '2017',\n",
       " '2018',\n",
       " '2014',\n",
       " '2001',\n",
       " '1981',\n",
       " '1947',\n",
       " '1903',\n",
       " '1856',\n",
       " '1811',\n",
       " '1776',\n",
       " '1745',\n",
       " '1723',\n",
       " '1707',\n",
       " '1691',\n",
       " '1670',\n",
       " '1648',\n",
       " '1621',\n",
       " '1599',\n",
       " '1581',\n",
       " '1561',\n",
       " '1552',\n",
       " '1543',\n",
       " '1527',\n",
       " '1517',\n",
       " '1503',\n",
       " '1488',\n",
       " '1481',\n",
       " '1474',\n",
       " '1472',\n",
       " '1472',\n",
       " '1474',\n",
       " '1477',\n",
       " '1476',\n",
       " '1473',\n",
       " '1471',\n",
       " '1460',\n",
       " '1455',\n",
       " '1447',\n",
       " '1442',\n",
       " '1436',\n",
       " '1436',\n",
       " '1436',\n",
       " '1437',\n",
       " '1438',\n",
       " '1435',\n",
       " '1435',\n",
       " '1439',\n",
       " '1445',\n",
       " '1456',\n",
       " '1461',\n",
       " '1465',\n",
       " '1466',\n",
       " '1466',\n",
       " '1462',\n",
       " '1466',\n",
       " '1462',\n",
       " '1457',\n",
       " '1456',\n",
       " '1456',\n",
       " '1455',\n",
       " '1456',\n",
       " '1462',\n",
       " '1472',\n",
       " '1486',\n",
       " '1495',\n",
       " '1508',\n",
       " '1520',\n",
       " '1522',\n",
       " '1526',\n",
       " '1521',\n",
       " '1517',\n",
       " '1507',\n",
       " '1504',\n",
       " '1503',\n",
       " '1503',\n",
       " '1505',\n",
       " '1515',\n",
       " '1529',\n",
       " '1552',\n",
       " '1564',\n",
       " '1580',\n",
       " '1584',\n",
       " '1584',\n",
       " '1581',\n",
       " '1578',\n",
       " '1567',\n",
       " '1556',\n",
       " '1548',\n",
       " '1535',\n",
       " '1534',\n",
       " '1535',\n",
       " '1549',\n",
       " '1554',\n",
       " '1565',\n",
       " '1574',\n",
       " '1580',\n",
       " '1584',\n",
       " '1583',\n",
       " '1582',\n",
       " '1584',\n",
       " '1587',\n",
       " '1591',\n",
       " '1590',\n",
       " '1591',\n",
       " '1586',\n",
       " '1584',\n",
       " '1577',\n",
       " '1568',\n",
       " '1561',\n",
       " '1554',\n",
       " ...]"
      ]
     },
     "execution_count": 5,
     "metadata": {},
     "output_type": "execute_result"
    }
   ],
   "source": [
    "ecg_data"
   ]
  },
  {
   "cell_type": "markdown",
   "metadata": {},
   "source": [
    "Note that each value of the list is a string, and not a numeric representation (e.g., integer, float). To change all values to integer we could have indicated in the previous *for* loop the data type of the rows:\n",
    "```python\n",
    "f = open(\"resources/ecg_op3.csv\", \"r\")\n",
    "ecg_data = [] \n",
    "\n",
    "for i in f:\n",
    "    row = f.readline().rstrip('\\n') \n",
    "    ecg_data.append(int(row)) # <----- define row type with int()\n",
    "    \n",
    "f.close()\n",
    "```"
   ]
  },
  {
   "cell_type": "markdown",
   "metadata": {},
   "source": [
    "# <div style=\"color:#fbb144\"> 3. Read files using Python libraries </div>\n",
    "\n",
    "Python libraries can make some tasks easier to perform and more intuitive. For example, the Numpy library has a single function to read text files, that performs the same steps described previously, called `loadtxt`. Let's see how it works:"
   ]
  },
  {
   "cell_type": "code",
   "execution_count": 6,
   "metadata": {},
   "outputs": [],
   "source": [
    "import numpy as np\n",
    "np.loadtxt?"
   ]
  },
  {
   "cell_type": "markdown",
   "metadata": {},
   "source": [
    "The first parameter **fname** corresponds to filename or filepath of our file. Let's use this function to read the `ecg_op3.csv` file:"
   ]
  },
  {
   "cell_type": "code",
   "execution_count": 7,
   "metadata": {},
   "outputs": [
    {
     "data": {
      "text/plain": [
       "array([1780., 1774., 1749., ..., 1511., 1513., 1515.])"
      ]
     },
     "execution_count": 7,
     "metadata": {},
     "output_type": "execute_result"
    }
   ],
   "source": [
    "ecg_data = np.loadtxt('resources/ecg_op3.csv')\n",
    "ecg_data"
   ]
  },
  {
   "cell_type": "markdown",
   "metadata": {},
   "source": [
    "All it took was one line of code! Note that the function outputs a *numpy array* object, which is a Numpy data structure similar to lists and optimized for scientific computation.\n",
    "\n",
    "Depending on the format of our data we can specify more parameters in this function, namely:\n",
    "* **dtype**: the data-type of the resulting array (optional)\n",
    "* **comments**: the character that indicates a comment (optional)\n",
    "* **delimiter**: the character used to separate values (optional)\n",
    "* **skiprows**: number of rows to skip (optional)\n",
    "* **usecols**: which columns to read (optional)\n",
    "\n",
    "Now let's try to load the `ecg_op2.csv`, knowing that this file uses the `#` character for comments and uses `\\t` (tab) as its value delimiter:"
   ]
  },
  {
   "cell_type": "code",
   "execution_count": 8,
   "metadata": {},
   "outputs": [
    {
     "data": {
      "text/plain": [
       "array([[  0.,   0.,   0., ..., 254.,   0., 254.],\n",
       "       [  1.,   0.,   0., ..., 254.,   0., 254.],\n",
       "       [  2.,   0.,   0., ..., 254.,   0., 254.],\n",
       "       ...,\n",
       "       [ 13.,   0.,   0., ..., 254.,   0., 254.],\n",
       "       [ 14.,   0.,   0., ..., 254.,   0., 254.],\n",
       "       [ 15.,   0.,   0., ..., 254.,   0., 254.]])"
      ]
     },
     "execution_count": 8,
     "metadata": {},
     "output_type": "execute_result"
    }
   ],
   "source": [
    "ecg_data = np.loadtxt('resources/ecg_op2.csv', comments='#', delimiter='\\t')\n",
    "ecg_data"
   ]
  },
  {
   "cell_type": "markdown",
   "metadata": {},
   "source": [
    "Note that the first two rows of the file have been ignored. The output is a numpy array object, in which each row is another array containing the values of the columns separated by commas (i.e. a matrix) :"
   ]
  },
  {
   "cell_type": "code",
   "execution_count": 9,
   "metadata": {},
   "outputs": [
    {
     "data": {
      "text/plain": [
       "array([   0.,    0.,    0.,    0.,    0., 1780., 1706.,    0.,  254.,\n",
       "          0.,  254.,    0.,  254.,    0.,  254.,    0.,  254.])"
      ]
     },
     "execution_count": 9,
     "metadata": {},
     "output_type": "execute_result"
    }
   ],
   "source": [
    "ecg_data[0]"
   ]
  },
  {
   "cell_type": "markdown",
   "metadata": {},
   "source": [
    "Numpy arrays follow the same indexing and selecting notations as lists:\n",
    "```\n",
    "array[line, column]\n",
    "```\n",
    "Thus, to extract an entire column from an array and save it to a variable we use `:`:\n",
    "```\n",
    "col = array[:, column]\n",
    "```"
   ]
  },
  {
   "cell_type": "code",
   "execution_count": 10,
   "metadata": {},
   "outputs": [
    {
     "data": {
      "text/plain": [
       "array([ 0.,  1.,  2., ..., 13., 14., 15.])"
      ]
     },
     "execution_count": 10,
     "metadata": {},
     "output_type": "execute_result"
    }
   ],
   "source": [
    "first_column = ecg_data[:,0] # all lines from the first column\n",
    "first_column"
   ]
  },
  {
   "cell_type": "markdown",
   "metadata": {},
   "source": [
    "#### EXERCISE:\n",
    "\n",
    "1. Using the capabilities of *NumPy*, load the `ecg_op2.csv` into the variable `ecg_data`. Take into account that:\n",
    "\n",
    "* The *NumPy* array should only contain values of type integer ('int')\n",
    "\n",
    "* The function must ignore lines that begin with '#'\n",
    "\n",
    "* The tab character is used as a value delimiter\n",
    "\n",
    "* You should only read the 'NSeq', 'AI1_raw' and 'AI1_mv' columns\n",
    "\n",
    "*Hint: check the first line of the .csv file for the indexes of the desired columns and add them in a list.*"
   ]
  },
  {
   "cell_type": "code",
   "execution_count": 11,
   "metadata": {},
   "outputs": [],
   "source": [
    "ecg_data = np.loadtxt('resources/ecg_op2.csv', comments='#', delimiter='\\t', dtype='int', usecols=[0,5,6])"
   ]
  },
  {
   "cell_type": "markdown",
   "metadata": {},
   "source": [
    "2. Using the `ecg_data` variable, extract the 'AI1_mv' column into a numpy array called `ecg_mv`."
   ]
  },
  {
   "cell_type": "code",
   "execution_count": 12,
   "metadata": {},
   "outputs": [],
   "source": [
    "ecg_mv = ecg_data[:,2]"
   ]
  },
  {
   "cell_type": "markdown",
   "metadata": {},
   "source": [
    "3. Read the first line of the `ecg_op2.csv` file (i.e. metadata) and save it as a dictionary called `ecg_data_meta`. You should import the **ast** library and use the *literal_eval* function. Print the dictionary to check your output.\n",
    "\n",
    "*Hint: Use the example from II.2 and remove the `#` character from the line before using it in the function.*"
   ]
  },
  {
   "cell_type": "code",
   "execution_count": 13,
   "metadata": {},
   "outputs": [
    {
     "data": {
      "text/plain": [
       "{'API version': '0.1.2',\n",
       " 'Channels': [1, 2, 3, 4, 5, 6],\n",
       " 'Channels indexes mV': [6, 8, 10, 12, 14, 16],\n",
       " 'Channels indexes raw': [5, 7, 9, 11, 13, 15],\n",
       " 'Channels labels': ['AI1_raw',\n",
       "  'AI1_mv',\n",
       "  'AI2_raw',\n",
       "  'AI2_mv',\n",
       "  'AI3_raw',\n",
       "  'AI3_mv',\n",
       "  'AI4_raw',\n",
       "  'AI4_mv',\n",
       "  'AI5_raw',\n",
       "  'AI5_mv',\n",
       "  'AI6_raw',\n",
       "  'AI6_mv'],\n",
       " 'Device': 'COM14',\n",
       " 'Firmware version': '1.0',\n",
       " 'Header': ['NSeq',\n",
       "  'I1',\n",
       "  'I2',\n",
       "  'O1',\n",
       "  'O2',\n",
       "  'AI1_raw',\n",
       "  'AI1_mv',\n",
       "  'AI2_raw',\n",
       "  'AI2_mv',\n",
       "  'AI3_raw',\n",
       "  'AI3_mv',\n",
       "  'AI4_raw',\n",
       "  'AI4_mv',\n",
       "  'AI5_raw',\n",
       "  'AI5_mv',\n",
       "  'AI6_raw',\n",
       "  'AI6_mv'],\n",
       " 'ISO 8601': '2022-05-11T16:10:57.031185',\n",
       " 'Resolution (bits)': [4, 1, 1, 1, 1, 12, 12, 12, 12, 12, 12],\n",
       " 'Sampling rate (Hz)': 1000,\n",
       " 'Timestamp': 1652281857.031185}"
      ]
     },
     "execution_count": 13,
     "metadata": {},
     "output_type": "execute_result"
    }
   ],
   "source": [
    "import ast\n",
    "\n",
    "f = open(\"resources/ecg_op2.csv\", \"r\")\n",
    "line = f.readline().strip('\\n')\n",
    "ecg_data_meta = ast.literal_eval(line[1:])\n",
    "\n",
    "ecg_data_meta"
   ]
  },
  {
   "cell_type": "markdown",
   "metadata": {},
   "source": [
    "# III. Signal Visualization using Matplotlib Pyplot\n",
    "<br>\n",
    "<div class=\"title\"style=\"width:100%; background:linear-gradient(to right,#FDC86E,#fbb144);font-family:'arial black',monospace; text-align: center; padding: 7px 0; border-radius: 5px 50px;margin-top:-15px\" >  </div>"
   ]
  },
  {
   "cell_type": "markdown",
   "metadata": {},
   "source": [
    "*Matplotlib* is a comprehensive library broadly used for producing **static, animated and interactive representations** in Python including plots, histograms, bar charts, etc. It can be used in various environments, such as Python scripts, the Python and IPython shells and the Jupyter notebook. \n",
    "\n",
    "Below you'll find the main components of a *Matplotlib* figure."
   ]
  },
  {
   "cell_type": "markdown",
   "metadata": {},
   "source": [
    "<img src=\"https://matplotlib.org/stable/_images/anatomy.png\" style=\"width:50%\"/>"
   ]
  },
  {
   "cell_type": "markdown",
   "metadata": {},
   "source": [
    "*Matplotlib* is the main plotting library for Python, and most of its functions are accessible using the *Pyplot* submodule. The standard way to import the *Pyplot* module is by typing:"
   ]
  },
  {
   "cell_type": "code",
   "execution_count": 14,
   "metadata": {},
   "outputs": [],
   "source": [
    "import matplotlib.pyplot as plt"
   ]
  },
  {
   "cell_type": "markdown",
   "metadata": {},
   "source": [
    "# <div style=\"color:#fbb144\"> 1. Plot Basics </div>"
   ]
  },
  {
   "cell_type": "markdown",
   "metadata": {},
   "source": [
    "After importing the *Pyplot* module, we can now use the functions `plot()` and `show()` to create and visualize plots. The parameters of the function `plot()` are diverse, and many configurations are possible. The simplest way is to provide two lists or arrays with the coordinates of the horizontal and vertical data points.\n",
    "\n",
    "```python\n",
    "x = [x1, x2, x3] # list of x coordinates\n",
    "y = [y1, y2, y3] # list of y coordinates\n",
    "plt.plot(x, y)\n",
    "plt.show()\n",
    "```\n",
    "\n",
    "In the plot, the points (x1, y1), (x2, y2) and (x3,y3) will be sequentially connected with straigth lines.\n",
    "\n",
    "*Note: the `show()` function is optional in some Python environments.*"
   ]
  },
  {
   "cell_type": "markdown",
   "metadata": {},
   "source": [
    "<img src=\"resources/pyplot_graph.png\" style=\"width:40%\">"
   ]
  },
  {
   "cell_type": "markdown",
   "metadata": {},
   "source": [
    "Let's exemplify with the sine function:"
   ]
  },
  {
   "cell_type": "code",
   "execution_count": 15,
   "metadata": {},
   "outputs": [
    {
     "data": {
      "image/png": "[encoded data removed]",
      "text/plain": [
       "<Figure size 432x288 with 1 Axes>"
      ]
     },
     "metadata": {
      "needs_background": "light"
     },
     "output_type": "display_data"
    }
   ],
   "source": [
    "x = np.arange(0,2*np.pi,0.01) # arange(start, stop, step)\n",
    "y = np.sin(x) # each value of x is mapped into its sine value\n",
    "\n",
    "plt.plot(x, y)\n",
    "plt.show() # optional in jupyter notebook"
   ]
  },
  {
   "cell_type": "markdown",
   "metadata": {},
   "source": [
    "We can specify other plot elements using functions such as:\n",
    "\n",
    "* `title(str)`: plot title\n",
    "\n",
    "* `xlabel(str)`: horizontal axis title\n",
    "\n",
    "* `ylabel(str)`: vertical axis title\n",
    "\n",
    "* `legend()`: plot legend\n",
    "\n",
    "* `grid(bool)`: plot grid\n",
    "\n",
    "* `xlim(list)`: horizontal axis limits\n",
    "\n",
    "* `ylim(list)`: vertical axis limits"
   ]
  },
  {
   "cell_type": "code",
   "execution_count": 16,
   "metadata": {},
   "outputs": [
    {
     "data": {
      "image/png": "[encoded data removed]",
      "text/plain": [
       "<Figure size 432x288 with 1 Axes>"
      ]
     },
     "metadata": {
      "needs_background": "light"
     },
     "output_type": "display_data"
    }
   ],
   "source": [
    "plt.plot(x, y)\n",
    "plt.title('Sine Function')\n",
    "plt.xlabel('Samples')\n",
    "plt.ylabel('Amplitude')\n",
    "plt.grid(True)\n",
    "plt.xlim([0,2*np.pi])\n",
    "plt.ylim([-1,1])\n",
    "plt.show()"
   ]
  },
  {
   "cell_type": "markdown",
   "metadata": {},
   "source": [
    "Note that each one of the previous functions can receive other parameters for further customization, such as color, width, style, size, transparency, among others:"
   ]
  },
  {
   "cell_type": "code",
   "execution_count": 17,
   "metadata": {
    "scrolled": true
   },
   "outputs": [
    {
     "data": {
      "image/png": "[encoded data removed]",
      "text/plain": [
       "<Figure size 432x288 with 1 Axes>"
      ]
     },
     "metadata": {
      "needs_background": "light"
     },
     "output_type": "display_data"
    }
   ],
   "source": [
    "plt.plot(x, y, linestyle='--', linewidth=4, color='orange', label='Sine')\n",
    "plt.title('Sine Function', fontsize=14)\n",
    "plt.xlabel('Samples')\n",
    "plt.ylabel('Amplitude')\n",
    "plt.legend() # uses the label from the plt.plot\n",
    "plt.show() "
   ]
  },
  {
   "cell_type": "markdown",
   "metadata": {},
   "source": [
    "We can also add other plots to the same figure:"
   ]
  },
  {
   "cell_type": "code",
   "execution_count": 18,
   "metadata": {},
   "outputs": [
    {
     "data": {
      "image/png": "[encoded data removed]",
      "text/plain": [
       "<Figure size 432x288 with 1 Axes>"
      ]
     },
     "metadata": {
      "needs_background": "light"
     },
     "output_type": "display_data"
    }
   ],
   "source": [
    "x = np.arange(0,2*np.pi,0.01)\n",
    "y1 = np.sin(x) \n",
    "y2 = np.cos(x)\n",
    "\n",
    "plt.plot(x, y1, label='Sine')\n",
    "plt.plot(x, y2, label='Cossine')\n",
    "plt.legend()\n",
    "plt.show()"
   ]
  },
  {
   "cell_type": "markdown",
   "metadata": {},
   "source": [
    "Also, instead of connecting the data points with straight lines, we can use markers to highlight reference points:"
   ]
  },
  {
   "cell_type": "code",
   "execution_count": 19,
   "metadata": {},
   "outputs": [
    {
     "data": {
      "image/png": "[encoded data removed]",
      "text/plain": [
       "<Figure size 432x288 with 1 Axes>"
      ]
     },
     "metadata": {
      "needs_background": "light"
     },
     "output_type": "display_data"
    }
   ],
   "source": [
    "x_max = np.pi/2\n",
    "y_max = np.sin(x_max)\n",
    "x_min = np.pi*3/2\n",
    "y_min = np.sin(x_min)\n",
    "\n",
    "plt.plot(x, y, label='Sine')\n",
    "plt.plot(x_max, y_max, marker='o', label='Max', color='orange')\n",
    "plt.plot(x_min, y_min, marker='o', label='Min', color='green')\n",
    "plt.legend()\n",
    "plt.show()"
   ]
  },
  {
   "cell_type": "markdown",
   "metadata": {},
   "source": [
    "For future reference, here are some line and marker styles, along with base colors:\n",
    "\n",
    "<img src=\"resources/pyplot_styles.png\" style=\"width:90%\"/>"
   ]
  },
  {
   "cell_type": "markdown",
   "metadata": {},
   "source": [
    "<div style=\"background:#946db2;font-family:'arial', monospace; text-align: center; padding: 10px 0; border-radius:10px; width:70%; margin:auto \" >\n",
    "  <span style=\"font-size:20px;position:relative;color:white; \"> Explore </span> <br>\n",
    "  <div style=\"background:#d0b3e6;font-size:12px\"> \n",
    "    To learn more about Matplotlib funtionalities, visit <a href='https://matplotlib.org/index.html'>Matplotlib</a>.\n",
    "</div>"
   ]
  },
  {
   "cell_type": "markdown",
   "metadata": {},
   "source": [
    "#### EXERCISE:\n",
    "\n",
    "1. Using Pyplot, plot the `ecg_mv` array, using the following instructions:\n",
    "    - Line: color purple, width 0.5\n",
    "    \n",
    "    - Title: 'ECG Signal - ADC'\n",
    "    \n",
    "    - Vertical Axis: 'Amplitude (mV)'\n",
    "    \n",
    "    - Horizontal Axis: 'Samples', from 0 to 5000"
   ]
  },
  {
   "cell_type": "code",
   "execution_count": 20,
   "metadata": {},
   "outputs": [
    {
     "data": {
      "image/png": "[encoded data removed]",
      "text/plain": [
       "<Figure size 432x288 with 1 Axes>"
      ]
     },
     "metadata": {
      "needs_background": "light"
     },
     "output_type": "display_data"
    }
   ],
   "source": [
    "samples = np.arange(0,len(ecg_mv))\n",
    "\n",
    "plt.plot(samples, ecg_mv, color='purple', lw=0.5)\n",
    "plt.title('ECG Signal - ADC')\n",
    "plt.ylabel('Amplitude (mV)')\n",
    "plt.xlabel('Samples')\n",
    "plt.xlim([0,5000])\n",
    "plt.show()"
   ]
  },
  {
   "cell_type": "markdown",
   "metadata": {},
   "source": [
    "2. Replicate the previous plot but with the horizontal axis now converted to real units:\n",
    "\n",
    "    - Horizontal Axis: 'Time (s)', from 0 to 5 seconds\n",
    "    \n",
    "One way to create a time sequence is using the numpy `arange()` function in this format:\n",
    "\n",
    "```python\n",
    "import numpy as np\n",
    "np.arange(start, stop, step)\n",
    "```\n",
    "\n",
    "*Hint: you can use the `ecg_data_meta` dictionary to retrieve some important data*"
   ]
  },
  {
   "cell_type": "code",
   "execution_count": 21,
   "metadata": {},
   "outputs": [
    {
     "data": {
      "image/png": "[encoded data removed]",
      "text/plain": [
       "<Figure size 432x288 with 1 Axes>"
      ]
     },
     "metadata": {
      "needs_background": "light"
     },
     "output_type": "display_data"
    }
   ],
   "source": [
    "fs = ecg_data_meta['Sampling rate (Hz)']\n",
    "time = samples/fs # seconds\n",
    "\n",
    "plt.plot(time, ecg_mv, color='purple', lw=0.5)\n",
    "plt.title('ECG Signal - ADC')\n",
    "plt.ylabel('Amplitude (mV)')\n",
    "plt.xlabel('Time (s)')\n",
    "plt.xlim([0,5])\n",
    "plt.show()"
   ]
  },
  {
   "cell_type": "markdown",
   "metadata": {},
   "source": [
    "3. Since the `ecg_mv` array results from converting the ADC values to the ADC operating voltage scale, it is not yet in real units. Change the plot title to 'ECG Signal - Real' and use the ECG sensor specifications to correctly plot the ECG signal in time and amplitude:\n",
    "\n",
    "    - Gain = 1100\n",
    "    \n",
    "    - $V_{ref}$ = 3.3 V\n",
    "    \n",
    "    - Offset = $\\frac{Vref}{2}$\n",
    "    \n",
    "\n",
    "\n",
    "Recall the transfer function of the ECG sensor:\n",
    "\n",
    "$$ \\textrm{Amplitude (V)} = \\frac{\\left(\\frac{\\textrm{ADC value}}{\\textrm{$2^n$}}-\\frac{1}{2}\\right) \\times \\textrm {Vref (V)}}{G_{E C G}}$$\n",
    "\n",
    "*Hint: The ECG signal should be within the -1.5 to 1.5 mV amplitude range.*"
   ]
  },
  {
   "cell_type": "code",
   "execution_count": 22,
   "metadata": {},
   "outputs": [
    {
     "data": {
      "image/png": "[encoded data removed]",
      "text/plain": [
       "<Figure size 432x288 with 1 Axes>"
      ]
     },
     "metadata": {
      "needs_background": "light"
     },
     "output_type": "display_data"
    }
   ],
   "source": [
    "gain = 1100\n",
    "vref = 3.3 # V\n",
    "fs = ecg_data_meta['Sampling rate (Hz)']\n",
    "\n",
    "ecg_mv_real = (ecg_mv - vref*1000/2)/gain\n",
    "time = samples/fs\n",
    "\n",
    "plt.plot(time, ecg_mv_real, color='purple', lw=0.5)\n",
    "plt.title('ECG Signal - Real')\n",
    "plt.ylabel('Amplitude (mV)')\n",
    "plt.xlabel('Time(s)')\n",
    "plt.xlim([0,5])\n",
    "plt.show()"
   ]
  },
  {
   "cell_type": "markdown",
   "metadata": {},
   "source": [
    "# <div style=\"color:#fbb144\"> 2. Subplot </div>\n",
    "\n",
    "With Matplotlib it is also possible to draw multiple plots in one figure using the `subplot()` function. This function receives optional parameters to define the grid of subplots (rows and columns) and the desired location of the subplot:"
   ]
  },
  {
   "cell_type": "code",
   "execution_count": 23,
   "metadata": {},
   "outputs": [
    {
     "data": {
      "image/png": "[encoded data removed]",
      "text/plain": [
       "<Figure size 432x288 with 2 Axes>"
      ]
     },
     "metadata": {
      "needs_background": "light"
     },
     "output_type": "display_data"
    }
   ],
   "source": [
    "import matplotlib.pyplot as plt\n",
    "import numpy as np\n",
    "\n",
    "# plot 1:\n",
    "x = np.arange(0,2*np.pi,0.01)\n",
    "y1 = np.sin(x) \n",
    "\n",
    "plt.subplot(1, 2, 1) # the grid is 1x2, the subplot will be in the position 1\n",
    "plt.plot(x, y1, label='Sine')\n",
    "plt.legend()\n",
    "\n",
    "# plot 2:\n",
    "x = np.arange(0,2*np.pi,0.01)\n",
    "y2 = np.cos(x)\n",
    "\n",
    "plt.subplot(1, 2, 2) # the same grid, the subplot will be in the position 2\n",
    "plt.plot(x, y2, label='Cossine', color='orange')\n",
    "plt.legend()\n",
    "\n",
    "plt.show()"
   ]
  },
  {
   "cell_type": "markdown",
   "metadata": {},
   "source": [
    "# <div style=\"color:#fbb144\"> 3. Scatter </div>\n",
    "\n",
    "Another useful feature of Matplotlib is the scatter plot, for when we prefer not to connect the data points. This is the case when the data is made of observations. The operation of the `scatter()` function is similar to that of the `plot()` function."
   ]
  },
  {
   "cell_type": "code",
   "execution_count": 24,
   "metadata": {},
   "outputs": [
    {
     "data": {
      "image/png": "[encoded data removed]",
      "text/plain": [
       "<Figure size 432x288 with 1 Axes>"
      ]
     },
     "metadata": {
      "needs_background": "light"
     },
     "output_type": "display_data"
    }
   ],
   "source": [
    "# artificial data\n",
    "height = np.random.normal(170, 10, 100)\n",
    "weight = (height-100) * np.random.uniform(0.75, 1.25, 100)\n",
    "\n",
    "# scatter plot\n",
    "plt.scatter(height, weight)\n",
    "plt.xlabel('Height (cm)')\n",
    "plt.ylabel('Weight (kg)')\n",
    "plt.show()"
   ]
  },
  {
   "cell_type": "markdown",
   "metadata": {},
   "source": [
    "<tr>\n",
    "<td> <img src=\"https://github.com/PIA-Group/ScientIST-notebooks/blob/master/_Resources/Images/IT.png?raw=true\" alt=\"Drawing\" style=\"width:200px\"/> </td>\n",
    "\n",
    "<td> <img src=\"https://github.com/PIA-Group/ScientIST-notebooks/blob/master/_Resources/Images/IST.png?raw=true\" alt=\"Drawing\"\n",
    "style=\"width:200px\"/> </td>\n",
    "</tr>"
   ]
  },
  {
   "cell_type": "markdown",
   "metadata": {},
   "source": [
    "```Contributors:  ``` Ana Fred, Hugo Plácido da Silva and Rafael Silva"
   ]
  }
 ],
 "metadata": {
  "kernelspec": {
   "display_name": "Python 3",
   "language": "python",
   "name": "python3"
  },
  "language_info": {
   "codemirror_mode": {
    "name": "ipython",
    "version": 3
   },
   "file_extension": ".py",
   "mimetype": "text/x-python",
   "name": "python",
   "nbconvert_exporter": "python",
   "pygments_lexer": "ipython3",
   "version": "3.8.5"
  }
 },
 "nbformat": 4,
 "nbformat_minor": 4
}
