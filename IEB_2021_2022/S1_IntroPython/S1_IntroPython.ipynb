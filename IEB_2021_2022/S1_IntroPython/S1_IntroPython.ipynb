{
 "cells": [
  {
   "cell_type": "markdown",
   "metadata": {},
   "source": [
    "### Introdução à Engenharia Biomédica (P4 - 2021/2022)\n",
    "# Aula Prática #1 - Introdução ao Python\n"
   ]
  },
  {
   "cell_type": "markdown",
   "metadata": {},
   "source": [
    "<div style=\"background:#48ba57;font-family:'arial', monospace; text-align: center; padding: 10px 0; border-radius:10px; width:70%; margin:auto \" >\n",
    "  <span style=\"font-size:20px;position:relative;color:white; \">  Note </span> <br>\n",
    "  <div style=\"background:#9de3a6;font-size:12px\"> \n",
    "    Notebooks are organized by cells or blocks that can contain text or code, which can be edited by double-clicking them (try filling in your data below). To execute a cell, you can click the <b>Run</b> button (above) or press <b>CTRL+ENTER</b>. To execute the current cell and move to the next, press SHIFT+ENTER. Familiarize yourself with the notebook operations in the toolbar above.\n",
    "</div>\n",
    "</div>"
   ]
  },
  {
   "cell_type": "markdown",
   "metadata": {},
   "source": [
    "Name: (write here)\n",
    "\n",
    "IST ID: (write here)\n",
    "\n",
    "Date: (write here)"
   ]
  },
  {
   "cell_type": "markdown",
   "metadata": {},
   "source": [
    "# I. Overview\n",
    "<br>\n",
    "<div class=\"title\"style=\"width:100%; background:linear-gradient(to right,#FDC86E,#fbb144);font-family:'arial black',monospace; text-align: center; padding: 7px 0; border-radius: 5px 50px;margin-top:-15px\" >  </div>"
   ]
  },
  {
   "cell_type": "markdown",
   "metadata": {},
   "source": [
    "# <div style=\"color:#fbb144\"> 1. Introduction </div>\n",
    "\n",
    "Programming is the way we can communicate with computers, giving them instructions on what operations they should perform to achieve a specific goal. Nowadays, programming is an essential skill for scientists and engineers because it allows them to solve problems. Problem solving involves (i) formulating the problem, (ii) thinking of an approach to solve it, and (iii) reporting the results, which can all be done with programming. Programming can be used for many purposes, such as creating websites, configuring hardware, developing computer applications and games, managing databases, running simulations, etc.\n",
    "\n",
    "In this class, you will get a first approach to what programming is, using one of the most popular and simple programming languages: **Python**."
   ]
  },
  {
   "cell_type": "markdown",
   "metadata": {},
   "source": [
    "# <div style=\"color:#fbb144\"> 2. Objectives</div>\n",
    "Here's what you should learn by the end of this class:\n",
    "* Understand what Python is, and the benefits of working in a Python environment;\n",
    "* Learn key programming concepts and tasks;\n",
    "* Perform simple arithmetic operations and create functions;\n",
    "* Learn how to install a Python package and use its functions;"
   ]
  },
  {
   "cell_type": "markdown",
   "metadata": {},
   "source": [
    "# II. What is Python? How does it work?\n",
    "<br>\n",
    "<div style=\"width:100%; background:linear-gradient(to right,#FDC86E,#fbb144);font-family:'arial black'; text-align: center; padding: 7px 0; border-radius: 5px 50px; margin-top:-15px\" > </div>"
   ]
  },
  {
   "cell_type": "markdown",
   "metadata": {},
   "source": [
    "# <div style=\"color:#fbb144\">  1. High-level programming </div>\n",
    "\n",
    "**Python** is a high-level programming language, just like C, C++ and Java. This means that it does not communicate directly with the computer - something that is only possible with low-level languages. Instead, the *source code* (i.e., the high-level program) is first processed by an *interpreter* or by a *compiler*. These are responsible to convert the source code into *machine code*, written in binary language (0's and 1's). Python scripts are executed by an interpreter, which translates the program one statement (or instruction) at a time, making it easier to correct mistakes. Compilers, on the other hand, read the entire program and translate it into machine code, which is the case for languages such as C, C++ and Java.\n",
    "\n",
    "We can use interpreters in two ways: the interactive mode and the script mode. In the interactive mode we type a simple operation and the interpreter outputs the result. In the script mode we save the code in a file (.py for Python), called a script, and the interpreter executes it.\n",
    "\n",
    "Python is distinguished by its simple and clean syntax. This is not only beneficial when it comes to readability, thus allowing the expense of program maintenance to be reduced, but also because it is an easy-to-learn programming language. In addition, it appears to be an increasingly attractive language for application and scripting development due to its open source nature. \n",
    "\n",
    "Comparatively to other languages, Python is particularly appealing for scientific computing. Alternatives include MATLAB, GNU Octave and R."
   ]
  },
  {
   "cell_type": "markdown",
   "metadata": {},
   "source": [
    "#### EXERCISE:\n",
    "To test the interactive mode, type `1+1` in the cell below, run it (`SHIFT+ENTER`) and see the result:"
   ]
  },
  {
   "cell_type": "code",
   "execution_count": null,
   "metadata": {},
   "outputs": [],
   "source": []
  },
  {
   "cell_type": "markdown",
   "metadata": {},
   "source": [
    "# <div style=\"color:#fbb144\">  2. Python Interfaces </div>\n",
    "\n",
    "The interactive mode can be used to perform simple operations. However, for more complex tasks, the script mode is preferred. This can be done using *Integrated Development Environments* (IDEs), where we can create a script, such as:\n",
    "* [Visual Studio Code](https://code.visualstudio.com/)\n",
    "* [PyCharm](https://www.jetbrains.com/pycharm/)\n",
    "* [Spyder](https://www.spyder-ide.org/)\n",
    "\n",
    "However, the large number of development environment options, and diversity of useful packages is often overwhelming, which has lead to the creation of pre-configured distributions targeted at simplifying the initial package management and deployment. For instance, this notebook was written using the [Anaconda Distribution](https://www.anaconda.com/products/distribution), which has Jupyter Notebook as one of its programs. \n",
    "\n",
    "The **Anaconda Navigator** is a graphical interface to facilitate the management of Python packages and environments and allow easy access to useful developer applications. It has proven to be very useful since it provides thousands of science and machine learning packages through a central cloud-based repository. Furthermore, it presents multiple data management environments capable of being run separately without interfering with each other.\n",
    "\n",
    "<img src=\"https://github.com/PIA-Group/ScientIST-notebooks/blob/master/_Resources/Images/C.Signal_Processing_IMG/c010/anaconda-nav.png?raw=true\" alt=\"anaconda-nav\" border=\"0\" >"
   ]
  },
  {
   "cell_type": "markdown",
   "metadata": {},
   "source": [
    "<div style=\"background:#48ba57;font-family:'arial', monospace; text-align: center; padding: 10px 0; border-radius:10px; width:70%; margin:auto \" >\n",
    "  <span style=\"font-size:20px;position:relative;color:white; \">  Note </span> <br>\n",
    "  <div style=\"background:#9de3a6;font-size:12px\"> \n",
    "    Since we will be using Anaconda Navigator in our classes, it is recommended to install it in your computer.\n",
    "</div>\n",
    "</div>"
   ]
  },
  {
   "cell_type": "markdown",
   "metadata": {},
   "source": [
    "# <div style=\"color:#fbb144\">  3. What is a program? </div>\n",
    "\n",
    "A *program* can be defined as a set of specific instructions to perform some task. Examples of programs include: creating a document file with some text, plotting a function, solving an equation, multiplying two matrices, applying a filter to an image, managing a database, ... the possibilities are endless! The rules and the way we define the structure (i.e., the syntax) of these tasks may differ between programming languages, however there are basic elements that are common:\n",
    "* **Input**: get data from some source (e.g., a text file, a keyboard)\n",
    "* **Output**: the result of the program (e.g., a graph, a file containing results, a vector describing a feature)\n",
    "* **Mathematical operations**: performing mathematical operations (e.g., addition, multiplication, logarithm calculation)\n",
    "* **Looping**: repeating an action (e.g., reading a document line by line)\n",
    "* **Conditionals**: check a condition (e.g., check if a value is an integer)\n",
    "* **Variables and data structures**: store information (e.g., an array containing a signal)\n",
    "\n",
    "To illustrate, let's create a simple program that displays \"Hello, World!\". Note that we use the *print* function to instruct the intepreter to display our phrase on the screen which is enclosed in parentheses. In addition, we have to delimit the characters with quotation marks (single `'` or double `\"`)."
   ]
  },
  {
   "cell_type": "code",
   "execution_count": 1,
   "metadata": {},
   "outputs": [
    {
     "name": "stdout",
     "output_type": "stream",
     "text": [
      "Hello, World!\n"
     ]
    }
   ],
   "source": [
    "print('Hello, World!')"
   ]
  },
  {
   "cell_type": "markdown",
   "metadata": {},
   "source": [
    "# III. Python Basics\n",
    "<br>\n",
    "<div style=\"width:100%; background:linear-gradient(to right,#FDC86E,#fbb144);font-family:'arial black'; text-align: center; padding: 7px 0; border-radius: 5px 50px; margin-top:-15px\" > </div>"
   ]
  },
  {
   "cell_type": "markdown",
   "metadata": {},
   "source": [
    "# <div style=\"color:#fbb144\">  1. Values and types </div>\n",
    "\n",
    "A *value* is the basic unit of data that a program works with, like a letter, a word or a number. Examples of values are `10`, `5.2` and `'Hello, World!'`. Values can be classified into different *types*, which will influence how programs interact with them. For example:\n",
    "\n",
    "* `'a'`, `'Hello, World!'` and `'100'` are *strings* (str), because they are made of alphanumeric characters enclosed by quotation marks;\n",
    "\n",
    "* `0` and `10` are *integers* (int);\n",
    "\n",
    "* `10.0` and `25.3` are *floats* (flt), because they are numbers with a decimal point (floating-point representation);\n",
    "\n",
    "* `True` and `False` are booleans (bool), and are used to evaluate logical operations.\n",
    "\n",
    "To check what is the value's type you can call `type( )`, with the value inside the parenthesis."
   ]
  },
  {
   "cell_type": "code",
   "execution_count": 2,
   "metadata": {},
   "outputs": [
    {
     "data": {
      "text/plain": [
       "str"
      ]
     },
     "execution_count": 2,
     "metadata": {},
     "output_type": "execute_result"
    }
   ],
   "source": [
    "type('Biomedical Engineering')"
   ]
  },
  {
   "cell_type": "code",
   "execution_count": 3,
   "metadata": {},
   "outputs": [
    {
     "data": {
      "text/plain": [
       "int"
      ]
     },
     "execution_count": 3,
     "metadata": {},
     "output_type": "execute_result"
    }
   ],
   "source": [
    "type(123)"
   ]
  },
  {
   "cell_type": "code",
   "execution_count": 4,
   "metadata": {},
   "outputs": [
    {
     "data": {
      "text/plain": [
       "str"
      ]
     },
     "execution_count": 4,
     "metadata": {},
     "output_type": "execute_result"
    }
   ],
   "source": [
    "type('123')"
   ]
  },
  {
   "cell_type": "code",
   "execution_count": 5,
   "metadata": {},
   "outputs": [
    {
     "data": {
      "text/plain": [
       "float"
      ]
     },
     "execution_count": 5,
     "metadata": {},
     "output_type": "execute_result"
    }
   ],
   "source": [
    "type(3.14)"
   ]
  },
  {
   "cell_type": "code",
   "execution_count": 6,
   "metadata": {},
   "outputs": [
    {
     "data": {
      "text/plain": [
       "bool"
      ]
     },
     "execution_count": 6,
     "metadata": {},
     "output_type": "execute_result"
    }
   ],
   "source": [
    "type(True)"
   ]
  },
  {
   "cell_type": "markdown",
   "metadata": {},
   "source": [
    "We can also check what is the length of strings and other data types by using the function `len( )`. Integers, floats and booleans have no length."
   ]
  },
  {
   "cell_type": "code",
   "execution_count": 7,
   "metadata": {},
   "outputs": [
    {
     "data": {
      "text/plain": [
       "22"
      ]
     },
     "execution_count": 7,
     "metadata": {},
     "output_type": "execute_result"
    }
   ],
   "source": [
    "len('Biomedical Engineering')"
   ]
  },
  {
   "cell_type": "code",
   "execution_count": 8,
   "metadata": {},
   "outputs": [
    {
     "ename": "TypeError",
     "evalue": "object of type 'int' has no len()",
     "output_type": "error",
     "traceback": [
      "\u001b[1;31m---------------------------------------------------------------------------\u001b[0m",
      "\u001b[1;31mTypeError\u001b[0m                                 Traceback (most recent call last)",
      "\u001b[1;32m<ipython-input-8-a95e54e61f62>\u001b[0m in \u001b[0;36m<module>\u001b[1;34m\u001b[0m\n\u001b[1;32m----> 1\u001b[1;33m \u001b[0mlen\u001b[0m\u001b[1;33m(\u001b[0m\u001b[1;36m123\u001b[0m\u001b[1;33m)\u001b[0m\u001b[1;33m\u001b[0m\u001b[1;33m\u001b[0m\u001b[0m\n\u001b[0m",
      "\u001b[1;31mTypeError\u001b[0m: object of type 'int' has no len()"
     ]
    }
   ],
   "source": [
    "len(123)"
   ]
  },
  {
   "cell_type": "markdown",
   "metadata": {},
   "source": [
    "Additionally, we can access each character or element by index using squared brackets `[ index ]`. Note that this is only possible for some data objets, called *subscriptable*, like strings, lists and dictionaries (we will cover them in section IV).\n",
    "\n",
    "In Python, indexing starts with `0`, and `-1` refers to the last element:"
   ]
  },
  {
   "cell_type": "code",
   "execution_count": 9,
   "metadata": {},
   "outputs": [
    {
     "data": {
      "text/plain": [
       "'H'"
      ]
     },
     "execution_count": 9,
     "metadata": {},
     "output_type": "execute_result"
    }
   ],
   "source": [
    "'Hello'[0]"
   ]
  },
  {
   "cell_type": "code",
   "execution_count": 10,
   "metadata": {},
   "outputs": [
    {
     "data": {
      "text/plain": [
       "'o'"
      ]
     },
     "execution_count": 10,
     "metadata": {},
     "output_type": "execute_result"
    }
   ],
   "source": [
    "'Hello'[4]"
   ]
  },
  {
   "cell_type": "code",
   "execution_count": 11,
   "metadata": {},
   "outputs": [
    {
     "data": {
      "text/plain": [
       "'o'"
      ]
     },
     "execution_count": 11,
     "metadata": {},
     "output_type": "execute_result"
    }
   ],
   "source": [
    "'Hello'[-1]"
   ]
  },
  {
   "cell_type": "markdown",
   "metadata": {},
   "source": [
    "<div style=\"background:#946db2;font-family:'arial', monospace; text-align: center; padding: 10px 0; border-radius:10px; width:70%; margin:auto \" >\n",
    "  <span style=\"font-size:20px;position:relative;color:white; \"> Explore </span> <br>\n",
    "  <div style=\"background:#d0b3e6;font-size:12px\"> \n",
    "    Try to check which value types have a defined length in Python, and which are subscriptable. You can add a code cell below by pressing the <b>+</b> symbol in the toolbar.     \n",
    "</div>\n",
    "</div>"
   ]
  },
  {
   "cell_type": "markdown",
   "metadata": {},
   "source": [
    "# <div style=\"color:#fbb144\">  2. Operators </div>\n",
    "\n",
    "Operators are symbols that represent computations and can only be performed with values of the same type. The basic *arithmetic operators* in Python are:\n",
    "\n",
    "* Addition: `+`\n",
    "\n",
    "* Subtraction: `-`\n",
    "\n",
    "* Multiplication: `*`\n",
    "\n",
    "* Division: `/`\n",
    "\n",
    "* Exponentiation: `**`\n",
    "\n",
    "Let's see some examples:"
   ]
  },
  {
   "cell_type": "code",
   "execution_count": 12,
   "metadata": {},
   "outputs": [
    {
     "data": {
      "text/plain": [
       "25"
      ]
     },
     "execution_count": 12,
     "metadata": {},
     "output_type": "execute_result"
    }
   ],
   "source": [
    "20+5"
   ]
  },
  {
   "cell_type": "code",
   "execution_count": 13,
   "metadata": {},
   "outputs": [
    {
     "data": {
      "text/plain": [
       "1.5"
      ]
     },
     "execution_count": 13,
     "metadata": {},
     "output_type": "execute_result"
    }
   ],
   "source": [
    "90/60"
   ]
  },
  {
   "cell_type": "code",
   "execution_count": 14,
   "metadata": {},
   "outputs": [
    {
     "data": {
      "text/plain": [
       "'Hello World!'"
      ]
     },
     "execution_count": 14,
     "metadata": {},
     "output_type": "execute_result"
    }
   ],
   "source": [
    "'Hello'+' World!'"
   ]
  },
  {
   "cell_type": "markdown",
   "metadata": {},
   "source": [
    "Note that with string values, the '+' operation results in joining both strings, which is called *concatenation*. \n",
    "\n",
    "And what if we try an operation with two different value types?"
   ]
  },
  {
   "cell_type": "code",
   "execution_count": 15,
   "metadata": {},
   "outputs": [
    {
     "ename": "TypeError",
     "evalue": "unsupported operand type(s) for +: 'int' and 'str'",
     "output_type": "error",
     "traceback": [
      "\u001b[1;31m---------------------------------------------------------------------------\u001b[0m",
      "\u001b[1;31mTypeError\u001b[0m                                 Traceback (most recent call last)",
      "\u001b[1;32m<ipython-input-15-61267643c417>\u001b[0m in \u001b[0;36m<module>\u001b[1;34m\u001b[0m\n\u001b[1;32m----> 1\u001b[1;33m \u001b[1;36m1\u001b[0m\u001b[1;33m+\u001b[0m\u001b[1;34m'Hello'\u001b[0m\u001b[1;33m\u001b[0m\u001b[1;33m\u001b[0m\u001b[0m\n\u001b[0m",
      "\u001b[1;31mTypeError\u001b[0m: unsupported operand type(s) for +: 'int' and 'str'"
     ]
    }
   ],
   "source": [
    "1+'Hello'"
   ]
  },
  {
   "cell_type": "markdown",
   "metadata": {},
   "source": [
    "We get an error message. In this case it is a TypeError indicating that is not possible to add an integer and a string together."
   ]
  },
  {
   "cell_type": "markdown",
   "metadata": {},
   "source": [
    "There are also *comparison operators* that return logical values (True or False):\n",
    "\n",
    "* Less than: `<` \n",
    "* Less than or equal to: `<=`\n",
    "* Greater than: `>` \n",
    "* Greater than or equal to: `>=`\n",
    "* Equal to: `==`\n",
    "* Not equal to: `!=`\n",
    "\n",
    "Some examples:"
   ]
  },
  {
   "cell_type": "code",
   "execution_count": 16,
   "metadata": {},
   "outputs": [
    {
     "data": {
      "text/plain": [
       "True"
      ]
     },
     "execution_count": 16,
     "metadata": {},
     "output_type": "execute_result"
    }
   ],
   "source": [
    "1<10"
   ]
  },
  {
   "cell_type": "code",
   "execution_count": 17,
   "metadata": {},
   "outputs": [
    {
     "data": {
      "text/plain": [
       "True"
      ]
     },
     "execution_count": 17,
     "metadata": {},
     "output_type": "execute_result"
    }
   ],
   "source": [
    "'Python' == 'Python'"
   ]
  },
  {
   "cell_type": "code",
   "execution_count": 18,
   "metadata": {},
   "outputs": [
    {
     "data": {
      "text/plain": [
       "False"
      ]
     },
     "execution_count": 18,
     "metadata": {},
     "output_type": "execute_result"
    }
   ],
   "source": [
    "'10' == 10"
   ]
  },
  {
   "cell_type": "markdown",
   "metadata": {},
   "source": [
    "Another important set of operators are the *logical operators*:\n",
    "\n",
    "* `and`: True if both statements are true;\n",
    "\n",
    "* `or`: True if at least one statement is true;\n",
    "\n",
    "* `not`: True if the statement is false."
   ]
  },
  {
   "cell_type": "code",
   "execution_count": 19,
   "metadata": {},
   "outputs": [
    {
     "data": {
      "text/plain": [
       "True"
      ]
     },
     "execution_count": 19,
     "metadata": {},
     "output_type": "execute_result"
    }
   ],
   "source": [
    "1==1 and 2<3"
   ]
  },
  {
   "cell_type": "code",
   "execution_count": 20,
   "metadata": {},
   "outputs": [
    {
     "data": {
      "text/plain": [
       "True"
      ]
     },
     "execution_count": 20,
     "metadata": {},
     "output_type": "execute_result"
    }
   ],
   "source": [
    "1==10 or 2<3"
   ]
  },
  {
   "cell_type": "code",
   "execution_count": 21,
   "metadata": {},
   "outputs": [
    {
     "data": {
      "text/plain": [
       "True"
      ]
     },
     "execution_count": 21,
     "metadata": {},
     "output_type": "execute_result"
    }
   ],
   "source": [
    "not 1==2"
   ]
  },
  {
   "cell_type": "markdown",
   "metadata": {},
   "source": [
    "<div style=\"background:#946db2;font-family:'arial', monospace; text-align: center; padding: 10px 0; border-radius:10px; width:70%; margin:auto \" >\n",
    "  <span style=\"font-size:20px;position:relative;color:white; \"> Explore </span> <br>\n",
    "  <div style=\"background:#d0b3e6;font-size:12px\"> \n",
    "    Try to perform basic computations with arithmetic, comparison and logical operators. You can add a code cell below by pressing the '+' symbol in the toolbar.     \n",
    "</div>\n",
    "</div>"
   ]
  },
  {
   "cell_type": "markdown",
   "metadata": {},
   "source": [
    "# <div style=\"color:#fbb144\">  3. Variables </div>\n",
    "\n",
    "One of the most useful features of a programming language is to work with variables. A variable is an object that refers to a value, allowing us to store information and make operations with. In Python, to create a variable, we don't need to declare it beforehand nor to define its type, it is created the moment we assign it to a value.\n",
    "\n",
    "A variable is identified by its name, which can contain letters (e.g., `var`), numbers (e.g., `var1`) and the underscore character (e.g., `var_1`). However, remember that it must begin with a letter, it can't have spaces, and it is case sensitive.\n",
    "\n",
    "Let's create two variables `x` and `y` and assign them values:"
   ]
  },
  {
   "cell_type": "code",
   "execution_count": 22,
   "metadata": {},
   "outputs": [],
   "source": [
    "x = 2"
   ]
  },
  {
   "cell_type": "code",
   "execution_count": 23,
   "metadata": {},
   "outputs": [],
   "source": [
    "y = 10"
   ]
  },
  {
   "cell_type": "markdown",
   "metadata": {},
   "source": [
    "Note that there is no output, since we are simply making a *variable assignment*. We can now make operations with these variables:"
   ]
  },
  {
   "cell_type": "code",
   "execution_count": 24,
   "metadata": {},
   "outputs": [
    {
     "name": "stdout",
     "output_type": "stream",
     "text": [
      "5.0\n"
     ]
    }
   ],
   "source": [
    "print(y/x)"
   ]
  },
  {
   "cell_type": "markdown",
   "metadata": {},
   "source": [
    "Or even create a new variable using a combination of other variables and values:"
   ]
  },
  {
   "cell_type": "code",
   "execution_count": 25,
   "metadata": {},
   "outputs": [],
   "source": [
    "z = x + y/2"
   ]
  },
  {
   "cell_type": "code",
   "execution_count": 26,
   "metadata": {},
   "outputs": [
    {
     "name": "stdout",
     "output_type": "stream",
     "text": [
      "7.0\n"
     ]
    }
   ],
   "source": [
    "print(z)"
   ]
  },
  {
   "cell_type": "markdown",
   "metadata": {},
   "source": [
    "Variables can also be updated (i.e., change its value):"
   ]
  },
  {
   "cell_type": "code",
   "execution_count": 27,
   "metadata": {},
   "outputs": [
    {
     "name": "stdout",
     "output_type": "stream",
     "text": [
      "2\n"
     ]
    }
   ],
   "source": [
    "print(x)"
   ]
  },
  {
   "cell_type": "code",
   "execution_count": 28,
   "metadata": {},
   "outputs": [],
   "source": [
    "x = 5"
   ]
  },
  {
   "cell_type": "code",
   "execution_count": 29,
   "metadata": {},
   "outputs": [
    {
     "name": "stdout",
     "output_type": "stream",
     "text": [
      "5\n"
     ]
    }
   ],
   "source": [
    "print(x)"
   ]
  },
  {
   "cell_type": "markdown",
   "metadata": {},
   "source": [
    "Using *casting*, it is possible to specifiy the value type of a variable:"
   ]
  },
  {
   "cell_type": "code",
   "execution_count": 30,
   "metadata": {},
   "outputs": [
    {
     "name": "stdout",
     "output_type": "stream",
     "text": [
      "2\n",
      "<class 'int'>\n"
     ]
    }
   ],
   "source": [
    "a = int(2)\n",
    "print(a)\n",
    "print(type(a))"
   ]
  },
  {
   "cell_type": "code",
   "execution_count": 31,
   "metadata": {},
   "outputs": [
    {
     "name": "stdout",
     "output_type": "stream",
     "text": [
      "2\n",
      "<class 'str'>\n"
     ]
    }
   ],
   "source": [
    "b = str(2)\n",
    "print(b)\n",
    "print(type(b))"
   ]
  },
  {
   "cell_type": "code",
   "execution_count": 32,
   "metadata": {},
   "outputs": [
    {
     "name": "stdout",
     "output_type": "stream",
     "text": [
      "2.0\n",
      "<class 'float'>\n"
     ]
    }
   ],
   "source": [
    "c = float(2)\n",
    "print(c)\n",
    "print(type(c))"
   ]
  },
  {
   "cell_type": "markdown",
   "metadata": {},
   "source": [
    "Variables can be removed from memory using the keyword **del**:"
   ]
  },
  {
   "cell_type": "code",
   "execution_count": 33,
   "metadata": {},
   "outputs": [
    {
     "data": {
      "text/plain": [
       "2.0"
      ]
     },
     "execution_count": 33,
     "metadata": {},
     "output_type": "execute_result"
    }
   ],
   "source": [
    "c"
   ]
  },
  {
   "cell_type": "code",
   "execution_count": 34,
   "metadata": {},
   "outputs": [],
   "source": [
    "del c"
   ]
  },
  {
   "cell_type": "code",
   "execution_count": 35,
   "metadata": {},
   "outputs": [
    {
     "ename": "NameError",
     "evalue": "name 'c' is not defined",
     "output_type": "error",
     "traceback": [
      "\u001b[1;31m---------------------------------------------------------------------------\u001b[0m",
      "\u001b[1;31mNameError\u001b[0m                                 Traceback (most recent call last)",
      "\u001b[1;32m<ipython-input-35-2b66fd261ee5>\u001b[0m in \u001b[0;36m<module>\u001b[1;34m\u001b[0m\n\u001b[1;32m----> 1\u001b[1;33m \u001b[0mc\u001b[0m\u001b[1;33m\u001b[0m\u001b[1;33m\u001b[0m\u001b[0m\n\u001b[0m",
      "\u001b[1;31mNameError\u001b[0m: name 'c' is not defined"
     ]
    }
   ],
   "source": [
    "c"
   ]
  },
  {
   "cell_type": "markdown",
   "metadata": {},
   "source": [
    "<div style=\"background:#48ba57;font-family:'arial', monospace; text-align: center; padding: 10px 0; border-radius:10px; width:70%; margin:auto \" >\n",
    "  <span style=\"font-size:20px;position:relative;color:white; \">  Note </span> <br>\n",
    "  <div style=\"background:#9de3a6;font-size:12px\"> \n",
    "    Note that we can write multiple lines of code in each cell, where each line corresponds to a new expression or statement. In Python, we can simply press Enter to start a new line of code. The output of the statements will follow the same order.\n",
    "</div>\n",
    "</div>"
   ]
  },
  {
   "cell_type": "markdown",
   "metadata": {},
   "source": [
    "<div style=\"background:#fbb144;font-family:'arial', monospace; text-align: center; padding: 10px 0; border-radius:10px; width:70%; margin:auto \" >\n",
    "  <span style=\"font-size:20px;position:relative;color:white; \">  Warning! </span> <br>\n",
    "  <div style=\"background:#ffd08a;font-size:12px\"> \n",
    "    Some names are exclusive of Python keywords, which cannot be used to name variables. Examples of such keywords include: <b> class, True, False, None, and, or, not, if, else, with, while, for, return, from, import, is, continue, break </b>. You can access the whole list by typing: <i>import keyword; keyword.kwlist</i>\n",
    "    </div>\n",
    "</div>"
   ]
  },
  {
   "cell_type": "markdown",
   "metadata": {},
   "source": [
    "#### EXERCISE:\n",
    "1. Create a variable named `first`, assigning the value `'Hello'` to it. Then, create the variable `second` with value `'Python'`."
   ]
  },
  {
   "cell_type": "code",
   "execution_count": null,
   "metadata": {},
   "outputs": [],
   "source": []
  },
  {
   "cell_type": "code",
   "execution_count": null,
   "metadata": {},
   "outputs": [],
   "source": []
  },
  {
   "cell_type": "markdown",
   "metadata": {},
   "source": [
    "2. Using the variables `first` and `second`, previously defined, create an operation that allows you to print the phrase \"Hello Python!\" (space and exclamation point included)."
   ]
  },
  {
   "cell_type": "code",
   "execution_count": null,
   "metadata": {},
   "outputs": [],
   "source": []
  },
  {
   "cell_type": "markdown",
   "metadata": {},
   "source": [
    "# <div style=\"color:#fbb144\">  4. Comments </div>\n",
    "\n",
    "When writing a program, and especially if it gets big and complex, it is useful to write notes or comments that allows anyone to read and understand what the different steps of the program do. In Python, comments start by the `#` symbol, and the interpreter ignores what comes right after."
   ]
  },
  {
   "cell_type": "code",
   "execution_count": 36,
   "metadata": {},
   "outputs": [
    {
     "name": "stdout",
     "output_type": "stream",
     "text": [
      "Hello, World!\n"
     ]
    }
   ],
   "source": [
    "# This is a comment\n",
    "print('Hello, World!')"
   ]
  },
  {
   "cell_type": "code",
   "execution_count": 37,
   "metadata": {},
   "outputs": [
    {
     "name": "stdout",
     "output_type": "stream",
     "text": [
      "Hello, World!\n"
     ]
    }
   ],
   "source": [
    "print('Hello, World!') # This is a comment"
   ]
  },
  {
   "cell_type": "markdown",
   "metadata": {},
   "source": [
    "Comments can also be used to clarify the meaning of variables, which can be very useful:\n"
   ]
  },
  {
   "cell_type": "code",
   "execution_count": 38,
   "metadata": {},
   "outputs": [
    {
     "name": "stdout",
     "output_type": "stream",
     "text": [
      "5.0\n"
     ]
    }
   ],
   "source": [
    "d = 100 # distance in meters\n",
    "t = 20 # time in seconds\n",
    "\n",
    "# Compute velocity\n",
    "v = d/t # velocity in meters per second\n",
    "print(v)"
   ]
  },
  {
   "cell_type": "markdown",
   "metadata": {},
   "source": [
    "<div style=\"background:#fbb144;font-family:'arial', monospace; text-align: center; padding: 10px 0; border-radius:10px; width:70%; margin:auto \" >\n",
    "  <span style=\"font-size:20px;position:relative;color:white; \">  Warning! </span> <br>\n",
    "  <div style=\"background:#ffd08a;font-size:12px\"> \n",
    "    Comments should be short and straight to the point. They should not state obvious operations or be redundant. Also, when explaining the meaning of your variables, try to compromise between an explicit variable name and its length. Check <a href=\"https://realpython.com/python-comments-guide/\">this</a> article.\n",
    "    </div>\n",
    "</div>"
   ]
  },
  {
   "cell_type": "markdown",
   "metadata": {},
   "source": [
    "Here are some examples of comment practices that **should be avoided**:"
   ]
  },
  {
   "cell_type": "code",
   "execution_count": 39,
   "metadata": {},
   "outputs": [
    {
     "name": "stdout",
     "output_type": "stream",
     "text": [
      "Hello\n"
     ]
    }
   ],
   "source": [
    "print('Hello') # prints Hello"
   ]
  },
  {
   "cell_type": "code",
   "execution_count": 40,
   "metadata": {},
   "outputs": [],
   "source": [
    "d = 100 # assign 100 to d"
   ]
  },
  {
   "cell_type": "code",
   "execution_count": 41,
   "metadata": {},
   "outputs": [],
   "source": [
    "# count variable\n",
    "count = 0"
   ]
  },
  {
   "cell_type": "code",
   "execution_count": 42,
   "metadata": {},
   "outputs": [
    {
     "name": "stdout",
     "output_type": "stream",
     "text": [
      "5.0\n"
     ]
    }
   ],
   "source": [
    "# Compute and print velocity\n",
    "v = d/t # compute velocity, defined as the quotient between the displacement d and the elapsed time t\n",
    "print(v) # prints the velocity in the console"
   ]
  },
  {
   "cell_type": "markdown",
   "metadata": {},
   "source": [
    "# <div style=\"color:#fbb144\">  5. Functions </div>\n",
    "\n",
    "<img src=\"https://runestone.academy/ns/books/published/fopp/_images/function_calls.gif\" alt=\"function_calls\" width=200 border=\"0\" >\n",
    "\n",
    "<p style= text-align:right> Reference: <a href=\"https://runestone.academy\">Runestone Academy</a> </p>\n",
    "\n",
    "When writing a program, we can define *functions* to perform a whole sequence of operations, and return a result when called. This helps us to better manage and organize our program in its different steps. Note that functions can receive more than one input (called arguments). To create a function in Python, we need to follow this structure:\n",
    "\n",
    "\n",
    "```python\n",
    "def MY_FUNCTION(a, b, c):\n",
    "    # do something\n",
    "    \n",
    "    return # return something\n",
    "```\n",
    "\n",
    "The different elements are:\n",
    "* `def`: to declare we are creating a function\n",
    "\n",
    "* `MY_FUNCTION`: to give our function a name\n",
    "\n",
    "* `(a, b, c)`: to provide the list of desired inputs (also called *arguments*), which are separated by commas\n",
    "\n",
    "* `# do something`: to define what operations are made with the arguments\n",
    "\n",
    "* `return`: to declare the output of the function\n",
    "\n"
   ]
  },
  {
   "cell_type": "markdown",
   "metadata": {},
   "source": [
    "<div style=\"background:#48ba57;font-family:'arial', monospace; text-align: center; padding: 10px 0; border-radius:10px; width:70%; margin:auto \" >\n",
    "  <span style=\"font-size:20px;position:relative;color:white; \">  Note </span> <br>\n",
    "  <div style=\"background:#9de3a6;font-size:12px\"> \n",
    "    Normally the programming environment will automatically stylize the text (color, bold, italic, ...) to make it easier to read. Also note that in Python we need to be very careful with the spaces at the beggining of a code line, which is called <b>indentation</b>.    \n",
    "</div>\n",
    "</div>"
   ]
  },
  {
   "cell_type": "markdown",
   "metadata": {},
   "source": [
    "Now let's try creating a function called `mean` that receives two numbers `x` and `y`(the input) and returns their arithmetic mean (the output)."
   ]
  },
  {
   "cell_type": "code",
   "execution_count": 43,
   "metadata": {},
   "outputs": [],
   "source": [
    "def mean(x, y):\n",
    "    \n",
    "    return (x+y)/2"
   ]
  },
  {
   "cell_type": "markdown",
   "metadata": {},
   "source": [
    "We can test this function by using two numbers of our choice by replacing `x` and `y`:"
   ]
  },
  {
   "cell_type": "code",
   "execution_count": 44,
   "metadata": {},
   "outputs": [
    {
     "name": "stdout",
     "output_type": "stream",
     "text": [
      "15.0\n"
     ]
    }
   ],
   "source": [
    "print(mean(10, 20))"
   ]
  },
  {
   "cell_type": "markdown",
   "metadata": {},
   "source": [
    "#### EXERCISE:\n",
    "Try to create a function called ```temp_in_F``` that receives a temperature in Celsius and returns the temperature in Fahrenheit, according to the following formula:\n",
    "\n",
    "$$\n",
    "T_F = \\frac{9}{5}\\times T_c + 32\n",
    "$$"
   ]
  },
  {
   "cell_type": "code",
   "execution_count": null,
   "metadata": {},
   "outputs": [],
   "source": []
  },
  {
   "cell_type": "markdown",
   "metadata": {},
   "source": [
    "Check if $150ºC$ corresponds to $302ºF$:"
   ]
  },
  {
   "cell_type": "code",
   "execution_count": null,
   "metadata": {},
   "outputs": [],
   "source": [
    "print(temp_in_F(150))"
   ]
  },
  {
   "cell_type": "markdown",
   "metadata": {},
   "source": [
    "# IV. Python Data Structures: Lists and Dictionaries\n",
    "<br>\n",
    "<div class='h1'  style=\"width:100%; background:linear-gradient(to right,#FDC86E,#fbb144);font-family:'arial black'; text-align: center; padding: 7px 0; border-radius: 5px 50px;margin-top:-15px\" > </div>"
   ]
  },
  {
   "cell_type": "markdown",
   "metadata": {},
   "source": [
    "Python has 4 built-in data types to store collections of data: *lists*, *dictionaries*, *tuples* and *sets*. In this notebook we will cover the main features of lists and dictionaries."
   ]
  },
  {
   "cell_type": "markdown",
   "metadata": {},
   "source": [
    "# <div style=\"color:#fbb144\">  1. Lists </div>\n",
    "\n",
    "Lists are data structures that can have multiple elements inside. They are created by placing its elements between squared brackets `[ ]` separated by commas. Lists are very versatile because they can contain any kind of object inside, like strings, floats, and other lists. \n",
    "\n",
    "Note that **list** is a Python built-in type, and should not be used as a variable name."
   ]
  },
  {
   "cell_type": "code",
   "execution_count": 45,
   "metadata": {},
   "outputs": [
    {
     "name": "stdout",
     "output_type": "stream",
     "text": [
      "[]\n"
     ]
    }
   ],
   "source": [
    "list_a = [] # empty list\n",
    "print(list_a)"
   ]
  },
  {
   "cell_type": "code",
   "execution_count": 46,
   "metadata": {},
   "outputs": [
    {
     "name": "stdout",
     "output_type": "stream",
     "text": [
      "[1, 2, 3]\n"
     ]
    }
   ],
   "source": [
    "list_b = [1, 2, 3]\n",
    "print(list_b)"
   ]
  },
  {
   "cell_type": "markdown",
   "metadata": {},
   "source": [
    "Like strings, we can concatenate lists with the `+` operator, check their length with `len( )`, and access its items by index using squared brackets:"
   ]
  },
  {
   "cell_type": "code",
   "execution_count": 47,
   "metadata": {},
   "outputs": [
    {
     "name": "stdout",
     "output_type": "stream",
     "text": [
      "[1, 2, 3, 4, 5, 6]\n"
     ]
    }
   ],
   "source": [
    "list_c = [4, 5, 6]\n",
    "list_d = list_b + list_c\n",
    "print(list_d)"
   ]
  },
  {
   "cell_type": "code",
   "execution_count": 48,
   "metadata": {},
   "outputs": [
    {
     "data": {
      "text/plain": [
       "6"
      ]
     },
     "execution_count": 48,
     "metadata": {},
     "output_type": "execute_result"
    }
   ],
   "source": [
    "len(list_d)"
   ]
  },
  {
   "cell_type": "code",
   "execution_count": 49,
   "metadata": {},
   "outputs": [
    {
     "data": {
      "text/plain": [
       "1"
      ]
     },
     "execution_count": 49,
     "metadata": {},
     "output_type": "execute_result"
    }
   ],
   "source": [
    "list_d[0]"
   ]
  },
  {
   "cell_type": "markdown",
   "metadata": {},
   "source": [
    "It is also possible to access a section of the list by using the notation `[i:j]`, where we select the items from index $i$ (inclusive) to $j$ (exclusive). See some of the examples below:"
   ]
  },
  {
   "cell_type": "code",
   "execution_count": 50,
   "metadata": {},
   "outputs": [
    {
     "data": {
      "text/plain": [
       "[1, 2, 3, 4]"
      ]
     },
     "execution_count": 50,
     "metadata": {},
     "output_type": "execute_result"
    }
   ],
   "source": [
    "list_d[0:4] # select the first 4 elements (indexes 0, 1, 2 and 3)"
   ]
  },
  {
   "cell_type": "code",
   "execution_count": 51,
   "metadata": {},
   "outputs": [
    {
     "data": {
      "text/plain": [
       "[1]"
      ]
     },
     "execution_count": 51,
     "metadata": {},
     "output_type": "execute_result"
    }
   ],
   "source": [
    "list_d[0:1] # select the 1st element"
   ]
  },
  {
   "cell_type": "code",
   "execution_count": 52,
   "metadata": {},
   "outputs": [
    {
     "data": {
      "text/plain": [
       "[]"
      ]
     },
     "execution_count": 52,
     "metadata": {},
     "output_type": "execute_result"
    }
   ],
   "source": [
    "list_d[1:1]"
   ]
  },
  {
   "cell_type": "code",
   "execution_count": 53,
   "metadata": {},
   "outputs": [
    {
     "data": {
      "text/plain": [
       "[1, 2, 3, 4, 5, 6]"
      ]
     },
     "execution_count": 53,
     "metadata": {},
     "output_type": "execute_result"
    }
   ],
   "source": [
    "list_d[0:len(list_d)] "
   ]
  },
  {
   "cell_type": "code",
   "execution_count": 54,
   "metadata": {},
   "outputs": [
    {
     "data": {
      "text/plain": [
       "[2, 3, 4, 5, 6]"
      ]
     },
     "execution_count": 54,
     "metadata": {},
     "output_type": "execute_result"
    }
   ],
   "source": [
    "list_d[1:] "
   ]
  },
  {
   "cell_type": "markdown",
   "metadata": {},
   "source": [
    "Lists can contain other value types, and they can also be heterogenous:"
   ]
  },
  {
   "cell_type": "code",
   "execution_count": 55,
   "metadata": {},
   "outputs": [],
   "source": [
    "f = ['a', 'b', 'c']"
   ]
  },
  {
   "cell_type": "code",
   "execution_count": 56,
   "metadata": {},
   "outputs": [],
   "source": [
    "g = [1,2,'a'] # it contains int and str values"
   ]
  },
  {
   "cell_type": "code",
   "execution_count": 57,
   "metadata": {},
   "outputs": [
    {
     "data": {
      "text/plain": [
       "['a', 'b', 'c', 1, 2, 'a']"
      ]
     },
     "execution_count": 57,
     "metadata": {},
     "output_type": "execute_result"
    }
   ],
   "source": [
    "h = f + g\n",
    "h"
   ]
  },
  {
   "cell_type": "code",
   "execution_count": 58,
   "metadata": {},
   "outputs": [
    {
     "data": {
      "text/plain": [
       "[1, [1, 2], 'hello']"
      ]
     },
     "execution_count": 58,
     "metadata": {},
     "output_type": "execute_result"
    }
   ],
   "source": [
    "i = [1,[1, 2], 'hello'] # there is a list inside a list\n",
    "i"
   ]
  },
  {
   "cell_type": "code",
   "execution_count": 59,
   "metadata": {},
   "outputs": [
    {
     "data": {
      "text/plain": [
       "[1, 2]"
      ]
     },
     "execution_count": 59,
     "metadata": {},
     "output_type": "execute_result"
    }
   ],
   "source": [
    "i[1]"
   ]
  },
  {
   "cell_type": "markdown",
   "metadata": {},
   "source": [
    "Lists have several methods that we can work with. Some examples are:\n",
    "\n",
    "* `append()`\n",
    "\n",
    "* `insert()`\n",
    "\n",
    "* `remove()`\n",
    "\n",
    "* `pop()`\n",
    "\n",
    "* `sort()`\n",
    "\n",
    "* `copy()`\n",
    "\n",
    "To use them, we use the dot notation:\n",
    "\n",
    "```python\n",
    "list_name.method_name(arguments)\n",
    "```\n",
    "\n",
    "To check which methods are available when writing code, you can press **Tab** after typing dot `.`. Another option is to type: \n",
    "\n",
    "```python\n",
    "dir(list)\n",
    "```"
   ]
  },
  {
   "cell_type": "code",
   "execution_count": 60,
   "metadata": {},
   "outputs": [],
   "source": [
    "list_1 = [20, 10, 15, 5, 1]\n",
    "list_1.sort()"
   ]
  },
  {
   "cell_type": "code",
   "execution_count": 61,
   "metadata": {},
   "outputs": [
    {
     "data": {
      "text/plain": [
       "[1, 5, 10, 15, 20]"
      ]
     },
     "execution_count": 61,
     "metadata": {},
     "output_type": "execute_result"
    }
   ],
   "source": [
    "list_1"
   ]
  },
  {
   "cell_type": "markdown",
   "metadata": {},
   "source": [
    "<div style=\"background:#946db2;font-family:'arial', monospace; text-align: center; padding: 10px 0; border-radius:10px; width:70%; margin:auto \" >\n",
    "  <span style=\"font-size:20px;position:relative;color:white; \"> Explore </span> <br>\n",
    "  <div style=\"background:#d0b3e6;font-size:12px\"> \n",
    "      To find more about <b>lists</b> and associated methods consult Python's <a documentation href=\"https://docs.python.org/3/tutorial/datastructures.html\">here</a>. Alternatively, check Programiz's page on Python lists <a href=\"https://www.programiz.com/python-programming/list\">here</a>.\n",
    "</div>"
   ]
  },
  {
   "cell_type": "markdown",
   "metadata": {},
   "source": [
    "# <div style=\"color:#fbb144\">  2. Dictionaries </div>\n",
    "\n",
    "*Dictionaries* are another python datatype that can be very useful. Unlike lists, they are not defined by number indexes. Instead, dictionaries are indexed by keys (i.e., a label), with a value inside. They are written with curly brackets `{ }` and their elements follow the format `key: value`, separated by commas."
   ]
  },
  {
   "cell_type": "code",
   "execution_count": 62,
   "metadata": {},
   "outputs": [
    {
     "data": {
      "text/plain": [
       "{}"
      ]
     },
     "execution_count": 62,
     "metadata": {},
     "output_type": "execute_result"
    }
   ],
   "source": [
    "dict_a = {} # empty dictionary\n",
    "dict_a"
   ]
  },
  {
   "cell_type": "code",
   "execution_count": 63,
   "metadata": {},
   "outputs": [
    {
     "data": {
      "text/plain": [
       "{'key_1': 123, 'key_2': 'hello', 'key_3': [1, 2, 3]}"
      ]
     },
     "execution_count": 63,
     "metadata": {},
     "output_type": "execute_result"
    }
   ],
   "source": [
    "dict_b = {'key_1': 123, 'key_2': 'hello', 'key_3': [1,2,3]}\n",
    "dict_b"
   ]
  },
  {
   "cell_type": "markdown",
   "metadata": {},
   "source": [
    "We cannot access a dictionary's items by index. To access a key and view its contents, we can use squared brackets with the key string inside `[key]`, or call the method `.get( )`:"
   ]
  },
  {
   "cell_type": "code",
   "execution_count": 64,
   "metadata": {},
   "outputs": [
    {
     "data": {
      "text/plain": [
       "123"
      ]
     },
     "execution_count": 64,
     "metadata": {},
     "output_type": "execute_result"
    }
   ],
   "source": [
    "dict_b['key_1']"
   ]
  },
  {
   "cell_type": "code",
   "execution_count": 65,
   "metadata": {},
   "outputs": [
    {
     "data": {
      "text/plain": [
       "[1, 2, 3]"
      ]
     },
     "execution_count": 65,
     "metadata": {},
     "output_type": "execute_result"
    }
   ],
   "source": [
    "dict_b.get('key_3')"
   ]
  },
  {
   "cell_type": "code",
   "execution_count": 66,
   "metadata": {},
   "outputs": [
    {
     "ename": "KeyError",
     "evalue": "0",
     "output_type": "error",
     "traceback": [
      "\u001b[1;31m---------------------------------------------------------------------------\u001b[0m",
      "\u001b[1;31mKeyError\u001b[0m                                  Traceback (most recent call last)",
      "\u001b[1;32m<ipython-input-66-348ce9da501e>\u001b[0m in \u001b[0;36m<module>\u001b[1;34m\u001b[0m\n\u001b[1;32m----> 1\u001b[1;33m \u001b[0mdict_b\u001b[0m\u001b[1;33m[\u001b[0m\u001b[1;36m0\u001b[0m\u001b[1;33m]\u001b[0m \u001b[1;31m# doesn't work\u001b[0m\u001b[1;33m\u001b[0m\u001b[1;33m\u001b[0m\u001b[0m\n\u001b[0m",
      "\u001b[1;31mKeyError\u001b[0m: 0"
     ]
    }
   ],
   "source": [
    "dict_b[0] # doesn't work"
   ]
  },
  {
   "cell_type": "markdown",
   "metadata": {},
   "source": [
    "To update a dictionary, we simply have to redefine its key:value pair and, if there is no matching key, the pair is added to the dictionary:"
   ]
  },
  {
   "cell_type": "code",
   "execution_count": 67,
   "metadata": {},
   "outputs": [
    {
     "data": {
      "text/plain": [
       "{'key_1': 123, 'key_2': 'hello', 'key_3': [1, 2, 3]}"
      ]
     },
     "execution_count": 67,
     "metadata": {},
     "output_type": "execute_result"
    }
   ],
   "source": [
    "dict_b"
   ]
  },
  {
   "cell_type": "code",
   "execution_count": 68,
   "metadata": {},
   "outputs": [
    {
     "data": {
      "text/plain": [
       "{'key_1': 'Python', 'key_2': 'hello', 'key_3': [1, 2, 3]}"
      ]
     },
     "execution_count": 68,
     "metadata": {},
     "output_type": "execute_result"
    }
   ],
   "source": [
    "dict_b['key_1'] =  'Python' # rewrite a value\n",
    "dict_b"
   ]
  },
  {
   "cell_type": "code",
   "execution_count": 69,
   "metadata": {},
   "outputs": [
    {
     "data": {
      "text/plain": [
       "{'key_1': 'Python', 'key_2': 'hello', 'key_3': [1, 2, 3], 'key_4': [4, 5, 6]}"
      ]
     },
     "execution_count": 69,
     "metadata": {},
     "output_type": "execute_result"
    }
   ],
   "source": [
    "dict_b['key_4'] = [4, 5, 6] # add a new key with a value\n",
    "dict_b"
   ]
  },
  {
   "cell_type": "markdown",
   "metadata": {},
   "source": [
    "Some dictionary methods include:\n",
    "\n",
    "* `clear()`\n",
    "\n",
    "* `get(key)`\n",
    "\n",
    "* `pop(key)`\n",
    "\n",
    "* `update([other])`\n",
    "\n",
    "* `keys()`\n",
    "\n",
    "* `values()`"
   ]
  },
  {
   "cell_type": "markdown",
   "metadata": {},
   "source": [
    "<div style=\"background:#946db2;font-family:'arial', monospace; text-align: center; padding: 10px 0; border-radius:10px; width:70%; margin:auto \" >\n",
    "  <span style=\"font-size:20px;position:relative;color:white; \"> Explore </span> <br>\n",
    "  <div style=\"background:#d0b3e6;font-size:12px\"> \n",
    "      To find more about <b>dictionaries</b> and its methods consult Python's documentation <a href=\"https://docs.python.org/3/tutorial/datastructures.html#dictionaries\">here</a> and <a href=\"https://docs.python.org/3/library/stdtypes.html#typesmapping\">here</a>. Alternatively, check Programiz's <a href=\"https://programiz.com/python-programming/dictionary\">page</a> on Python programming.\n",
    "</div>"
   ]
  },
  {
   "cell_type": "markdown",
   "metadata": {},
   "source": [
    "#### EXERCISE:\n",
    "\n",
    "1. Create a dictionary called `my_dict` with the keys 'Name', 'Age', 'IST_ID' and 'Course' and add the corresponding values with your data."
   ]
  },
  {
   "cell_type": "code",
   "execution_count": null,
   "metadata": {},
   "outputs": [],
   "source": []
  },
  {
   "cell_type": "markdown",
   "metadata": {},
   "source": [
    "2. Without creating a new dictionary, delete the key 'Name' and add the keys 'First Name' and 'Last Name', associating the corresponding values.\n",
    "*Hint: check the pop(key) method*"
   ]
  },
  {
   "cell_type": "code",
   "execution_count": null,
   "metadata": {},
   "outputs": [],
   "source": []
  },
  {
   "cell_type": "markdown",
   "metadata": {},
   "source": [
    "# V. Python Flow Control\n",
    "<br>\n",
    "<div class='h1'  style=\"width:100%; background:linear-gradient(to right,#FDC86E,#fbb144);font-family:'arial black'; text-align: center; padding: 7px 0; border-radius: 5px 50px;margin-top:-15px\" > </div>"
   ]
  },
  {
   "cell_type": "markdown",
   "metadata": {},
   "source": [
    "One of the most important tools to build complex programs is to control what the program does in specific scenarios. There are two main types of flow control: *conditional* and *loops*."
   ]
  },
  {
   "cell_type": "markdown",
   "metadata": {},
   "source": [
    "# <div style=\"color:#fbb144\">  1. Conditional Statements </div>\n",
    "\n",
    "Conditional statements allows to define what part of the code to run based on whether a conditional statement is met or not. This is made using the **if**, **elif** and **else** statements. Let's start by the simplest form of conditional statement using an **if** statement:"
   ]
  },
  {
   "cell_type": "markdown",
   "metadata": {},
   "source": [
    "```java\n",
    "if expression:\n",
    "    statement\n",
    "```"
   ]
  },
  {
   "cell_type": "code",
   "execution_count": 70,
   "metadata": {},
   "outputs": [
    {
     "name": "stdout",
     "output_type": "stream",
     "text": [
      "Run!\n"
     ]
    }
   ],
   "source": [
    "run = True # our variable\n",
    "\n",
    "if run == True: # if statement\n",
    "    print('Run!')"
   ]
  },
  {
   "cell_type": "markdown",
   "metadata": {},
   "source": [
    "Because the condition `run==True` is met, the statements below it and **indented accordingly** are executed, and the console prints the sentence. If this were not the case, the interpreter would not execute any of the statements associated with the condition:"
   ]
  },
  {
   "cell_type": "code",
   "execution_count": 71,
   "metadata": {},
   "outputs": [],
   "source": [
    "run = False\n",
    "\n",
    "if run == True:\n",
    "    print('Run!')"
   ]
  },
  {
   "cell_type": "markdown",
   "metadata": {},
   "source": [
    "The condition can be any expression that evaluates a boolean (check section III.2 - operators), and multiple statements can be made:"
   ]
  },
  {
   "cell_type": "code",
   "execution_count": 72,
   "metadata": {},
   "outputs": [],
   "source": [
    "a = 0\n",
    "b = 10\n",
    "\n",
    "if b > a:\n",
    "    c = True\n",
    "\n",
    "if b < a:\n",
    "    c = False"
   ]
  },
  {
   "cell_type": "code",
   "execution_count": 73,
   "metadata": {
    "scrolled": true
   },
   "outputs": [
    {
     "name": "stdout",
     "output_type": "stream",
     "text": [
      "True\n"
     ]
    }
   ],
   "source": [
    "print(c) # since b>a, c equals True"
   ]
  },
  {
   "cell_type": "markdown",
   "metadata": {},
   "source": [
    "With the **else** keyword we can define what will happen if the condition is not met:\n",
    "\n",
    "```python\n",
    "if expression:\n",
    "    # do something\n",
    "else:\n",
    "    # do something else\n",
    "```"
   ]
  },
  {
   "cell_type": "code",
   "execution_count": 74,
   "metadata": {},
   "outputs": [
    {
     "name": "stdout",
     "output_type": "stream",
     "text": [
      "Don't run!\n"
     ]
    }
   ],
   "source": [
    "run = False\n",
    "\n",
    "if run: # since run is a boolean, we can use it as the condition\n",
    "    print('Run!')\n",
    "else:\n",
    "    print(\"Don't run!\")"
   ]
  },
  {
   "cell_type": "markdown",
   "metadata": {},
   "source": [
    "If we have multiple conditional statements to check sequentially, we can use the **elif** keyword:"
   ]
  },
  {
   "cell_type": "code",
   "execution_count": 75,
   "metadata": {},
   "outputs": [
    {
     "name": "stdout",
     "output_type": "stream",
     "text": [
      "Adult\n"
     ]
    }
   ],
   "source": [
    "age = 20\n",
    "\n",
    "if age < 3:\n",
    "    print(\"Baby\")\n",
    "elif age < 12:\n",
    "    print(\"Child\")\n",
    "elif age < 19:\n",
    "    print(\"Teenager\")\n",
    "elif age < 64:\n",
    "    print(\"Adult\")\n",
    "else:\n",
    "    print(\"Senior\")"
   ]
  },
  {
   "cell_type": "markdown",
   "metadata": {},
   "source": [
    "The same could be done with multiple **if** statements and the **and** operator in the condition. However, in this case, the conditional statements are independent, which should be avoidable:"
   ]
  },
  {
   "cell_type": "code",
   "execution_count": 76,
   "metadata": {},
   "outputs": [
    {
     "name": "stdout",
     "output_type": "stream",
     "text": [
      "Adult\n"
     ]
    }
   ],
   "source": [
    "age = 20\n",
    "\n",
    "if age < 3:\n",
    "    print(\"Baby\")\n",
    "if age >= 3 and age < 12:\n",
    "    print(\"Child\")\n",
    "if age >= 12 and age < 19:\n",
    "    print(\"Teenager\")\n",
    "if age >= 19 and age < 64:\n",
    "    print(\"Adult\")\n",
    "if age >= 64:\n",
    "    print(\"Senior\")"
   ]
  },
  {
   "cell_type": "markdown",
   "metadata": {},
   "source": [
    "#### EXERCISE:\n",
    "\n",
    "1. Create an if-else statement that takes the variable `grade` and checks if it's smaller or greater than 9.5. It should print 'Pass' ($\\geq9.5$) or 'Fail' ($<9.5$). "
   ]
  },
  {
   "cell_type": "code",
   "execution_count": null,
   "metadata": {},
   "outputs": [],
   "source": [
    "grade = 8.3"
   ]
  },
  {
   "cell_type": "markdown",
   "metadata": {},
   "source": [
    "2. Create a function that takes two integers and prints the highest value. Test it with your own examples."
   ]
  },
  {
   "cell_type": "code",
   "execution_count": null,
   "metadata": {},
   "outputs": [],
   "source": []
  },
  {
   "cell_type": "markdown",
   "metadata": {},
   "source": [
    "# <div style=\"color:#fbb144\">  2. Loops </div>\n",
    "\n",
    "To perform a sequence of repetitive operations by changing only a few parameters, python provides the *for* and *while* loops. For example, they can be used to perform the same processing steps for different files or variables.\n",
    "\n",
    "### <div style=\"color:#fbb144\">   2.1. For Loop  </div>\n",
    "\n",
    "The *for* loop is used to iterate over a sequence (for example, a list, a dictionary, a string) and to repeat its statements a precise number of times. Remember that indentation is key! The *for* loops follow the following structure:\n",
    "\n",
    "```python\n",
    "for var in sequence:\n",
    "    # do something with var\n",
    "```\n",
    "\n",
    "where `var` is a local variable that we especially assign for the loop. Common local variable names are `i, j, k`. \n",
    "\n",
    "Let's see some examples:"
   ]
  },
  {
   "cell_type": "code",
   "execution_count": 77,
   "metadata": {},
   "outputs": [
    {
     "name": "stdout",
     "output_type": "stream",
     "text": [
      "file_1.txt\n",
      "file_2.csv\n",
      "file_3.txt\n",
      "file_4.csv\n",
      "file_5.png\n"
     ]
    }
   ],
   "source": [
    "list_files = ['file_1.txt', 'file_2.csv', 'file_3.txt', 'file_4.csv', 'file_5.png']\n",
    "\n",
    "for i in list_files:\n",
    "    print(i)"
   ]
  },
  {
   "cell_type": "markdown",
   "metadata": {},
   "source": [
    "In this case, the variable `i` takes one of the values of the sequence at a time, and it is printed to the console. Another useful method to use with the *for* loop is the *range* method, for when we wish the variable to take the index of the sequence values, and not the values themselves, or to simply work with a sequence of ordered integer values. For the previous example, we could work with the index of the items of the list:"
   ]
  },
  {
   "cell_type": "code",
   "execution_count": 78,
   "metadata": {},
   "outputs": [
    {
     "name": "stdout",
     "output_type": "stream",
     "text": [
      "0\n",
      "1\n",
      "2\n",
      "3\n",
      "4\n"
     ]
    }
   ],
   "source": [
    "for i in range(len(list_files)):\n",
    "    print(i)"
   ]
  },
  {
   "cell_type": "markdown",
   "metadata": {},
   "source": [
    "<div style=\"background:#946db2;font-family:'arial', monospace; text-align: center; padding: 10px 0; border-radius:10px; width:70%; margin:auto \" >\n",
    "  <span style=\"font-size:20px;position:relative;color:white; \"> Explore </span> <br>\n",
    "  <div style=\"background:#d0b3e6;font-size:12px\"> \n",
    "      To see how the range method works, try typing help(range). The help() method can be used to get information about the functions. An alternative is to search for it on the Internet.\n",
    "</div>"
   ]
  },
  {
   "cell_type": "markdown",
   "metadata": {},
   "source": [
    "A practical example would be to search for the '.txt' files only, and output their indexes on the list:"
   ]
  },
  {
   "cell_type": "code",
   "execution_count": 79,
   "metadata": {},
   "outputs": [
    {
     "name": "stdout",
     "output_type": "stream",
     "text": [
      "[0, 2]\n"
     ]
    }
   ],
   "source": [
    "txt_index = [] # empty list\n",
    "\n",
    "for i in range(len(list_files)): \n",
    "    \n",
    "    file_name = list_files[i] # corresponds to the value on the list\n",
    "    \n",
    "    if file_name[-4:]=='.txt': # verify if the last 4 characters of the string are .txt\n",
    "        txt_index.append(i) # adds the index to the empty list\n",
    "\n",
    "print(txt_index) # files with indexes 0 and 2 have the .txt file extension"
   ]
  },
  {
   "cell_type": "markdown",
   "metadata": {},
   "source": [
    "Notice that the empty list `txt_index` is outside of the loop. Why?\n",
    "\n",
    "Then we could recover the filenames later:"
   ]
  },
  {
   "cell_type": "code",
   "execution_count": 80,
   "metadata": {},
   "outputs": [
    {
     "name": "stdout",
     "output_type": "stream",
     "text": [
      "file_1.txt\n",
      "file_3.txt\n"
     ]
    }
   ],
   "source": [
    "for i in txt_index:\n",
    "    print(list_files[i])"
   ]
  },
  {
   "cell_type": "markdown",
   "metadata": {},
   "source": [
    "Another useful strategy is to update a variable inside the *for* loop. For example, to sum the elements of a list, we can initialize a variable with the value 0 and update its value as the list is being read."
   ]
  },
  {
   "cell_type": "code",
   "execution_count": 81,
   "metadata": {},
   "outputs": [
    {
     "name": "stdout",
     "output_type": "stream",
     "text": [
      "sum = 1, i = 1\n",
      "sum = 3, i = 2\n",
      "sum = 6, i = 3\n",
      "sum = 10, i = 4\n"
     ]
    }
   ],
   "source": [
    "numbers = [1, 2, 3, 4]\n",
    "\n",
    "sum_numbers = 0 # initialize sum variable\n",
    "\n",
    "for i in numbers:\n",
    "    \n",
    "    sum_numbers = sum_numbers + i # takes the previous saved variable and adds the new item\n",
    "    \n",
    "    print(f'sum = {sum_numbers}, i = {i}') # print the variables"
   ]
  },
  {
   "cell_type": "code",
   "execution_count": 82,
   "metadata": {},
   "outputs": [
    {
     "data": {
      "text/plain": [
       "10"
      ]
     },
     "execution_count": 82,
     "metadata": {},
     "output_type": "execute_result"
    }
   ],
   "source": [
    "sum_numbers"
   ]
  },
  {
   "cell_type": "markdown",
   "metadata": {},
   "source": [
    "#### EXERCISE:\n",
    "\n",
    "1. Create a *for* loop that prints the square of the items of the list `numbers`."
   ]
  },
  {
   "cell_type": "code",
   "execution_count": null,
   "metadata": {},
   "outputs": [],
   "source": []
  },
  {
   "cell_type": "markdown",
   "metadata": {},
   "source": [
    "2. On the previous example to search for the '.txt' files, we checked the file extension by the 4 last characters. How could this be a problem? Try to search for the '.csv' files usig the method .split() instead.\n",
    "*Note: search for the split method documentation <a href=\"https://docs.python.org/3/library/stdtypes.html#:~:text=)%0A%27Monty%27-,str.split,-(sep%3D\">here</a> or <a href=\"https://www.w3schools.com/python/ref_string_split.asp\">here</a>, or type `help(str.split)`.*"
   ]
  },
  {
   "cell_type": "code",
   "execution_count": null,
   "metadata": {},
   "outputs": [],
   "source": []
  },
  {
   "cell_type": "markdown",
   "metadata": {},
   "source": [
    "### <div style=\"color:#fbb144\">   2.2. While Loop  </div>\n",
    "\n",
    "*While* loops are useful for when we want to repeat its statements as long as a condition is met (i.e., when we don't know the exact number of times to repeat). Their structure is as follows:\n",
    "\n",
    "```python\n",
    "while condition:\n",
    "    # keep doing this until the condition is not true\n",
    "```\n",
    "\n",
    "Let's see one example of a *while* loop that prints integer values that are smaller than 6 (starting from 0):"
   ]
  },
  {
   "cell_type": "code",
   "execution_count": 83,
   "metadata": {},
   "outputs": [
    {
     "name": "stdout",
     "output_type": "stream",
     "text": [
      "0\n",
      "1\n",
      "2\n",
      "3\n",
      "4\n",
      "5\n"
     ]
    }
   ],
   "source": [
    "i = 0 # count variable\n",
    "\n",
    "while i < 6:\n",
    "    print(i)\n",
    "    i = i + 1 # i gets updated each iteration by i+1"
   ]
  },
  {
   "cell_type": "markdown",
   "metadata": {},
   "source": [
    "This loop prints the count variable `i` as long as it is smaller than 6. When it takes the value 6, the condition `i<6` is false and the *while* loop stops."
   ]
  },
  {
   "cell_type": "markdown",
   "metadata": {},
   "source": [
    "<div style=\"background:#fbb144;font-family:'arial', monospace; text-align: center; padding: 10px 0; border-radius:10px; width:70%; margin:auto \" >\n",
    "  <span style=\"font-size:20px;position:relative;color:white; \">  Warning! </span> <br>\n",
    "  <div style=\"background:#ffd08a;font-size:12px\"> \n",
    "Be careful with while loops: if the condition is always True, the loop will not stop! To force the interpreter to stop running press the <b>'interrupt the kernel'</b> button in Jupyter Notebook or <b>CTRL+C</b> in the console/IDE.\n",
    "</div>"
   ]
  },
  {
   "cell_type": "markdown",
   "metadata": {},
   "source": [
    "#### EXERCISE:\n",
    "\n",
    "1. Create a *while* loop that prints each item of the `list_files` until the 4th file. \n",
    "\n",
    "*Don't forget to update the condition variable!*"
   ]
  },
  {
   "cell_type": "code",
   "execution_count": null,
   "metadata": {},
   "outputs": [],
   "source": []
  },
  {
   "cell_type": "markdown",
   "metadata": {},
   "source": [
    "2. Create a *while* loop that prints the number of elements of `list_files` that are before the `'file_4.csv'`.\n",
    "\n",
    "*Hint: use the != operator*"
   ]
  },
  {
   "cell_type": "code",
   "execution_count": null,
   "metadata": {},
   "outputs": [],
   "source": []
  },
  {
   "cell_type": "markdown",
   "metadata": {},
   "source": [
    "\n",
    "<div style=\"background:#946db2;font-family:'arial', monospace; text-align: center; padding: 10px 0; border-radius:10px; width:70%; margin:auto \" >\n",
    "  <span style=\"font-size:20px;position:relative;color:white; \"> Explore </span> <br>\n",
    "  <div style=\"background:#d0b3e6;font-size:12px\"> \n",
    "      The <b>continue</b>, <b>pass</b> and <b>break</b> keywords can be used in loops to control its functioning. Check the python documentation <a href=\"https://docs.python.org/3/tutorial/controlflow.html\">here</a>.\n",
    "</div>"
   ]
  },
  {
   "cell_type": "markdown",
   "metadata": {},
   "source": [
    "# VI. Python Libraries and Packages\n",
    "<br>\n",
    "<div class='h1'  style=\"width:100%; background:linear-gradient(to right,#FDC86E,#fbb144);font-family:'arial black'; text-align: center; padding: 7px 0; border-radius: 5px 50px;margin-top:-15px\" > </div>"
   ]
  },
  {
   "cell_type": "markdown",
   "metadata": {},
   "source": [
    "Although Python offers a wide variety of features and data structures (called <a href=\"https://docs.python.org/3/library/index.html#library-index\">Python Standard Library</a>), most projects can benefit from sources of supplementary functions and methods. Libraries and packages can be made available to everyone, and are often useful for specific applications and projects, such as complex numerical computations, data analysis and plotting, scientific computing, machine learning, web development, and others.\n",
    "\n",
    "Two important concepts are package and module: a *module* is a .py file that contains the actual written functions and methods designed for a specific application, and a *package* is a collection of modules. This kind of structuring of a library can be particularly useful when applications become large and complex.\n",
    "\n",
    "\n",
    "<img src=\"https://files.realpython.com/media/pkg2.dab97c2f9c58.png\"></img>\n",
    "\n",
    "<p style= text-align:right> Reference: <a href=\"https://realpython.com/python-modules-packages/\">Real Python</a> </p>"
   ]
  },
  {
   "cell_type": "markdown",
   "metadata": {},
   "source": [
    "# <div style=\"color:#fbb144\">  1. How to install a package </div>\n",
    "\n",
    "Packages are a very practical tool for numerous purposes. In order to install them, two main options can be used.\t\n",
    "\n",
    "* **Python Package Index (PyPI)**\n",
    "\n",
    "PyPI is a repository of software for the Python programming language. It enables an easy access to packages shared by the Python Community. Installing a package only takes writing:\n",
    "\n",
    "```python\n",
    "!pip install package_name\n",
    "```"
   ]
  },
  {
   "cell_type": "markdown",
   "metadata": {},
   "source": [
    "* **Anaconda Navigator**\n",
    "\n",
    "The Anaconda Navigator **Environments** tab has the list of every installed and uninstalled package plus it is possible to install them, as ilustrated:\n",
    "\n",
    "\n",
    "\n",
    "<img src=\"https://github.com/PIA-Group/ScientIST-notebooks/blob/master/_Resources/Images/C.Signal_Processing_IMG/c010/Install-packages.gif?raw=true\" alt=\"Install-packages\" border=\"0\" width=\"700\" /></a>\n",
    "\n",
    "\n",
    "An alternative is to type in the console: \n",
    "```python \n",
    "conda install package_name\n",
    "```"
   ]
  },
  {
   "cell_type": "markdown",
   "metadata": {},
   "source": [
    "# <div style=\"color:#fbb144\">  2. How to import and use a package </div>\n",
    "\n",
    "Even after installing a library, we still need to import the package or module into our Python environment. To do this, we use the keyword **import**:\n",
    "\n",
    "```python\n",
    "import module_name\n",
    "```\n",
    "\n",
    "Here we exemplify package import with the math *module*, which is always available in Python and gives access to several mathematical functions and numbers (e.g, the numbers $\\pi$ and $e$, the logarithm function)."
   ]
  },
  {
   "cell_type": "code",
   "execution_count": 86,
   "metadata": {},
   "outputs": [
    {
     "ename": "NameError",
     "evalue": "name 'math' is not defined",
     "output_type": "error",
     "traceback": [
      "\u001b[1;31m---------------------------------------------------------------------------\u001b[0m",
      "\u001b[1;31mNameError\u001b[0m                                 Traceback (most recent call last)",
      "\u001b[1;32m<ipython-input-86-a984292e3e46>\u001b[0m in \u001b[0;36m<module>\u001b[1;34m\u001b[0m\n\u001b[1;32m----> 1\u001b[1;33m \u001b[0mmath\u001b[0m\u001b[1;33m\u001b[0m\u001b[1;33m\u001b[0m\u001b[0m\n\u001b[0m",
      "\u001b[1;31mNameError\u001b[0m: name 'math' is not defined"
     ]
    }
   ],
   "source": [
    "math"
   ]
  },
  {
   "cell_type": "code",
   "execution_count": 87,
   "metadata": {},
   "outputs": [],
   "source": [
    "import math"
   ]
  },
  {
   "cell_type": "markdown",
   "metadata": {},
   "source": [
    "To have access to the module's objects we can use the `dir( )` method:"
   ]
  },
  {
   "cell_type": "code",
   "execution_count": 88,
   "metadata": {},
   "outputs": [
    {
     "name": "stdout",
     "output_type": "stream",
     "text": [
      "['__doc__', '__loader__', '__name__', '__package__', '__spec__', 'acos', 'acosh', 'asin', 'asinh', 'atan', 'atan2', 'atanh', 'ceil', 'comb', 'copysign', 'cos', 'cosh', 'degrees', 'dist', 'e', 'erf', 'erfc', 'exp', 'expm1', 'fabs', 'factorial', 'floor', 'fmod', 'frexp', 'fsum', 'gamma', 'gcd', 'hypot', 'inf', 'isclose', 'isfinite', 'isinf', 'isnan', 'isqrt', 'ldexp', 'lgamma', 'log', 'log10', 'log1p', 'log2', 'modf', 'nan', 'perm', 'pi', 'pow', 'prod', 'radians', 'remainder', 'sin', 'sinh', 'sqrt', 'tan', 'tanh', 'tau', 'trunc'] "
     ]
    }
   ],
   "source": [
    "print(dir(math), end=' ')"
   ]
  },
  {
   "cell_type": "markdown",
   "metadata": {},
   "source": [
    "We can now use it's functionalities using the dot notation (`module_name.object_name`):"
   ]
  },
  {
   "cell_type": "code",
   "execution_count": 89,
   "metadata": {},
   "outputs": [
    {
     "name": "stdout",
     "output_type": "stream",
     "text": [
      "3.141592653589793\n"
     ]
    }
   ],
   "source": [
    "print(math.pi)"
   ]
  },
  {
   "cell_type": "markdown",
   "metadata": {},
   "source": [
    "In this case, calling *pi* will not work:"
   ]
  },
  {
   "cell_type": "code",
   "execution_count": 90,
   "metadata": {},
   "outputs": [
    {
     "ename": "NameError",
     "evalue": "name 'pi' is not defined",
     "output_type": "error",
     "traceback": [
      "\u001b[1;31m---------------------------------------------------------------------------\u001b[0m",
      "\u001b[1;31mNameError\u001b[0m                                 Traceback (most recent call last)",
      "\u001b[1;32m<ipython-input-90-9e2d2bd32686>\u001b[0m in \u001b[0;36m<module>\u001b[1;34m\u001b[0m\n\u001b[1;32m----> 1\u001b[1;33m \u001b[0mprint\u001b[0m\u001b[1;33m(\u001b[0m\u001b[0mpi\u001b[0m\u001b[1;33m)\u001b[0m\u001b[1;33m\u001b[0m\u001b[1;33m\u001b[0m\u001b[0m\n\u001b[0m",
      "\u001b[1;31mNameError\u001b[0m: name 'pi' is not defined"
     ]
    }
   ],
   "source": [
    "print(pi)"
   ]
  },
  {
   "cell_type": "markdown",
   "metadata": {},
   "source": [
    "To import an object from a module and avoid using the dot notation, we can use the keywords **from** and **import**:\n",
    "```python\n",
    "from module_name import object_name\n",
    "```"
   ]
  },
  {
   "cell_type": "code",
   "execution_count": 91,
   "metadata": {},
   "outputs": [
    {
     "name": "stdout",
     "output_type": "stream",
     "text": [
      "3.141592653589793\n"
     ]
    }
   ],
   "source": [
    "from math import pi\n",
    "print(pi)"
   ]
  },
  {
   "cell_type": "markdown",
   "metadata": {},
   "source": [
    "There are objects that are functions:"
   ]
  },
  {
   "cell_type": "code",
   "execution_count": 92,
   "metadata": {},
   "outputs": [
    {
     "name": "stdout",
     "output_type": "stream",
     "text": [
      "2.0\n"
     ]
    }
   ],
   "source": [
    "value = 100\n",
    "base = 10\n",
    "value_log = math.log(value, base) # compute the logarithm\n",
    "print(value_log)"
   ]
  },
  {
   "cell_type": "markdown",
   "metadata": {},
   "source": [
    "To import all objects, we use `*`:"
   ]
  },
  {
   "cell_type": "code",
   "execution_count": 93,
   "metadata": {},
   "outputs": [
    {
     "name": "stdout",
     "output_type": "stream",
     "text": [
      "2.718281828459045\n"
     ]
    }
   ],
   "source": [
    "from math import *\n",
    "print(e)"
   ]
  },
  {
   "cell_type": "markdown",
   "metadata": {},
   "source": [
    "It is also possible to give a short-name to a package or module by using the keywords **import** and **as**:\n",
    "\n",
    "```python\n",
    "import module_name as mod # to import the module with an alternative name\n",
    "\n",
    "mod.object # to call the object inside the module\n",
    "```"
   ]
  },
  {
   "cell_type": "code",
   "execution_count": 94,
   "metadata": {},
   "outputs": [
    {
     "data": {
      "text/plain": [
       "3.141592653589793"
      ]
     },
     "execution_count": 94,
     "metadata": {},
     "output_type": "execute_result"
    }
   ],
   "source": [
    "import math as m\n",
    "m.pi"
   ]
  },
  {
   "cell_type": "markdown",
   "metadata": {},
   "source": [
    "<div style=\"background:#fe9b29;font-family:'arial', monospace; text-align: center; padding: 10px 0; border-radius:10px; width:70%; margin:auto \" >\n",
    "  <span style=\"font-size:20px;position:relative;color:white; \">  Caution! </span> <br>\n",
    "  <div style=\"background:#ffdab0;font-size:12px\"> \n",
    "      When using different packages and modules, be careful about objects that may be imported with the same name. Because of such conflicts, it is advised to use dot notation to call the objects, along with a simplified module name.   \n",
    "</div>\n",
    "</div>"
   ]
  },
  {
   "cell_type": "markdown",
   "metadata": {},
   "source": [
    "Packages often contain multiple modules with different functionalities. In this case, the different modules can be accessed by using dot notation:\n",
    "\n",
    "```python\n",
    "import package_name # imports all modules, need to use dot notation to call objects\n",
    "\n",
    "import package_name.module_name # imports one module, need to use dot notation to call objects\n",
    "\n",
    "import package_name.module_name as short_name # imports a module with another name\n",
    "\n",
    "from package_name.module_name import object_name # avoids dot notation to call an object\n",
    "\n",
    "from package_name.module_name import * # avoids dot notation, imports all objects\n",
    "\n",
    "```"
   ]
  },
  {
   "cell_type": "markdown",
   "metadata": {},
   "source": [
    "# <div style=\"color:#fbb144\">  3. Scientific Computing Libraries </div>"
   ]
  },
  {
   "cell_type": "markdown",
   "metadata": {},
   "source": [
    "### <div style=\"color:#fbb144\">   3.1. NumPy  </div>\n",
    "\n",
    "*NumPy* is an easy-to-use, efficient tool for scientific computing.\n",
    "For instance, it offers:\n",
    "* a **N-dimensional array** object;\n",
    "\n",
    "* sophisticated **mathematical functions**;\n",
    "\n",
    "* **linear algebra** and **random number** capabilities.\n",
    "\n",
    "Let's visualize some of its operations."
   ]
  },
  {
   "cell_type": "code",
   "execution_count": 95,
   "metadata": {},
   "outputs": [
    {
     "data": {
      "text/plain": [
       "array([[1, 2, 3],\n",
       "       [4, 5, 6]])"
      ]
     },
     "execution_count": 95,
     "metadata": {},
     "output_type": "execute_result"
    }
   ],
   "source": [
    "import numpy as np\n",
    "np.array([[1,2,3],[4,5,6]])"
   ]
  },
  {
   "cell_type": "code",
   "execution_count": 96,
   "metadata": {},
   "outputs": [
    {
     "data": {
      "text/plain": [
       "33"
      ]
     },
     "execution_count": 96,
     "metadata": {},
     "output_type": "execute_result"
    }
   ],
   "source": [
    "np.random.randint(100) # Everytime you run this code, a different integer up to, but not including, 100  will appear."
   ]
  },
  {
   "cell_type": "code",
   "execution_count": 97,
   "metadata": {},
   "outputs": [
    {
     "data": {
      "text/plain": [
       "(array([[ 0,  1,  2,  3],\n",
       "        [ 4,  5,  6,  7],\n",
       "        [ 8,  9, 10, 11]]),\n",
       " array([[False, False, False, False],\n",
       "        [False,  True,  True,  True],\n",
       "        [ True,  True,  True,  True]]),\n",
       " array([ 5,  6,  7,  8,  9, 10, 11]))"
      ]
     },
     "execution_count": 97,
     "metadata": {},
     "output_type": "execute_result"
    }
   ],
   "source": [
    "a = np.arange(12).reshape(3,4) # Creates a 3x4 array with the numbers from 1 to 11\n",
    "b = a > 4\n",
    "a, b, a[b]                                     "
   ]
  },
  {
   "cell_type": "code",
   "execution_count": 98,
   "metadata": {},
   "outputs": [
    {
     "data": {
      "text/plain": [
       "array([ 3,  7, 30, 56, 61, 89])"
      ]
     },
     "execution_count": 98,
     "metadata": {},
     "output_type": "execute_result"
    }
   ],
   "source": [
    "x = [56, 7, 3, 89, 30, 61]\n",
    "np.sort(x)   # rearranges the list in ascending order"
   ]
  },
  {
   "cell_type": "code",
   "execution_count": 99,
   "metadata": {},
   "outputs": [
    {
     "name": "stdout",
     "output_type": "stream",
     "text": [
      "[0 1 2 3 4 5]\n"
     ]
    },
    {
     "data": {
      "text/plain": [
       "array([[0, 1, 2],\n",
       "       [3, 4, 5]])"
      ]
     },
     "execution_count": 99,
     "metadata": {},
     "output_type": "execute_result"
    }
   ],
   "source": [
    "x = np.arange (6)\n",
    "print(x)\n",
    "\n",
    "x.reshape(2,3) # reshapes the array, receiving as arguments (line, column)"
   ]
  },
  {
   "cell_type": "markdown",
   "metadata": {},
   "source": [
    "<div style=\"background:#946db2;font-family:'arial', monospace; text-align: center; padding: 10px 0; border-radius:10px; width:70%; margin:auto \" >\n",
    "  <span style=\"font-size:20px;position:relative;color:white; \"> Explore </span> <br>\n",
    "  <div style=\"background:#d0b3e6;font-size:12px\"> \n",
    "      To learn more about NumPy funtionalities, visit <a href=\"https://numpy.org/\">NumPy</a>.\n",
    "</div>"
   ]
  },
  {
   "cell_type": "markdown",
   "metadata": {},
   "source": [
    "### <div style=\"color:#fbb144\">   3.2. Matplotlib  </div>\n",
    "\n",
    "*Matplotlib* is a comprehensive library broadly used for producing **static, animated and interactive representations** in Python including plots, histograms, bar charts, etc.. It can be used in various environments, such as Python scripts, the Python and IPython shells and the Jupyter notebook.\n",
    "\n",
    "To properly utilize this library, here are some key steps to get started."
   ]
  },
  {
   "cell_type": "code",
   "execution_count": 100,
   "metadata": {},
   "outputs": [
    {
     "data": {
      "text/plain": [
       "<matplotlib.legend.Legend at 0x243af2cc760>"
      ]
     },
     "execution_count": 100,
     "metadata": {},
     "output_type": "execute_result"
    },
    {
     "data": {
      "image/png": "[encoded data removed]",
      "text/plain": [
       "<Figure size 432x288 with 1 Axes>"
      ]
     },
     "metadata": {
      "needs_background": "light"
     },
     "output_type": "display_data"
    }
   ],
   "source": [
    "import matplotlib.pyplot as plt\n",
    "import matplotlib.patches as mpatches\n",
    "import numpy as np\n",
    "\n",
    "t = np.arange(0.0, 2*np.pi, 0.01) # timeline we want to plot\n",
    "\n",
    "plt.grid(True)          \n",
    "\n",
    "plt.title('Plot Example')  \n",
    "plt.xlabel('Time (s)')\n",
    "plt.ylabel('Amplitude')\n",
    "\n",
    "plt.xlim([0, 2*np.pi])\n",
    "plt.ylim([-1-0.1, 1+0.1])\n",
    "\n",
    "plt.plot(t, np.sin(t), label='Sine', color=\"#00bfc2\") \n",
    "\n",
    "plt.plot(t, np.cos(t), label='Cosine', color=\"#5756d6\") \n",
    "plt.legend()"
   ]
  },
  {
   "cell_type": "code",
   "execution_count": 101,
   "metadata": {},
   "outputs": [
    {
     "data": {
      "text/plain": [
       "<function matplotlib.pyplot.show(close=None, block=None)>"
      ]
     },
     "execution_count": 101,
     "metadata": {},
     "output_type": "execute_result"
    },
    {
     "data": {
      "text/plain": [
       "<Figure size 432x288 with 0 Axes>"
      ]
     },
     "metadata": {},
     "output_type": "display_data"
    },
    {
     "data": {
      "image/png": "[encoded data removed]",
      "text/plain": [
       "<Figure size 1440x288 with 2 Axes>"
      ]
     },
     "metadata": {
      "needs_background": "light"
     },
     "output_type": "display_data"
    }
   ],
   "source": [
    "Age = ['0-25','25-50','+50']\n",
    "Data =[10, 23, 16]\n",
    "\n",
    "plt.suptitle('Bar chart and plot example') \n",
    "\n",
    "plt.figure(figsize=(20, 4))\n",
    "plt.subplot(131)\n",
    "plt.bar(Age, Data,color=\"#00bfc2\")\n",
    "plt.xlabel('Age group')\n",
    "plt.ylabel('Number of individuals')\n",
    "\n",
    "\n",
    "plt.subplot(132)\n",
    "plt.plot(Age,Data,color=\"#5756d6\")\n",
    "plt.xlabel('Age group')\n",
    "plt.ylabel('Number of individuals')\n",
    "plt.show"
   ]
  },
  {
   "cell_type": "markdown",
   "metadata": {},
   "source": [
    "<div style=\"background:#946db2;font-family:'arial', monospace; text-align: center; padding: 10px 0; border-radius:10px; width:70%; margin:auto \" >\n",
    "  <span style=\"font-size:20px;position:relative;color:white; \"> Explore </span> <br>\n",
    "  <div style=\"background:#d0b3e6;font-size:12px\"> \n",
    "    To learn more about Matplotlib funtionalities, visit <a href='https://matplotlib.org/index.html'>Matplotlib</a>.\n",
    "</div>"
   ]
  },
  {
   "cell_type": "markdown",
   "metadata": {},
   "source": [
    "### <div style=\"color:#fbb144\">   3.3. Pandas  </div>\n",
    "\n",
    "*Pandas* is a package designed to work with **tabular data**, namely data stored in spreadsheets and databases. It allows, for instance, the manipulation of rows and columns by selecting/modifying/eliminating specific data. \n",
    "\n",
    "Here's some examples of how it works."
   ]
  },
  {
   "cell_type": "code",
   "execution_count": 102,
   "metadata": {},
   "outputs": [
    {
     "name": "stdout",
     "output_type": "stream",
     "text": [
      "    Name  Age\n",
      "0    Tom   20\n",
      "1   Jack   30\n",
      "2  Meera   25\n"
     ]
    }
   ],
   "source": [
    "import pandas as pd \n",
    "\n",
    "data = [['Tom', 20], ['Jack', 30], ['Meera', 25]]\n",
    "\n",
    "df = pd.DataFrame(data, columns = ['Name', 'Age'])\n",
    "\n",
    "print(df)"
   ]
  },
  {
   "cell_type": "code",
   "execution_count": 103,
   "metadata": {},
   "outputs": [
    {
     "name": "stdout",
     "output_type": "stream",
     "text": [
      "    Name  Age\n",
      "1   Jack   30\n",
      "2  Meera   25\n"
     ]
    }
   ],
   "source": [
    "print(df[df.Age > 20])"
   ]
  },
  {
   "cell_type": "markdown",
   "metadata": {},
   "source": [
    "\n",
    "<div style=\"background:#946db2;font-family:'arial', monospace; text-align: center; padding: 10px 0; border-radius:10px; width:70%; margin:auto \" >\n",
    "  <span style=\"font-size:20px;position:relative;color:white; \"> Explore </span> <br>\n",
    "  <div style=\"background:#d0b3e6;font-size:12px\"> \n",
    "    To learn more about Pandas funtionalities, visit <a href=\"https://pandas.pydata.org/docs/index.html/\">Pandas</a>.\n",
    "</div>"
   ]
  },
  {
   "cell_type": "markdown",
   "metadata": {},
   "source": [
    "# References\n",
    "<br>\n",
    "<div class='h1'  style=\"width:100%; background:linear-gradient(to right,#FDC86E,#fbb144);font-family:'arial black'; text-align: center; padding: 7px 0; border-radius: 5px 50px;margin-top:-15px\" > </div>"
   ]
  },
  {
   "cell_type": "markdown",
   "metadata": {},
   "source": [
    "* A. Downey, [*Think Python*](https://www.greenteapress.com/thinkpython/thinkpython.pdf). *How to Think Like a Computer Scientist*, 2nd ed. Needham, Massachusetts: Green Tea Press, 2014.\n",
    "* https://runestone.academy/\n",
    "* https://www.scaler.com/\n",
    "* https://www.math.tecnico.ulisboa.pt/~ccal/python/"
   ]
  },
  {
   "cell_type": "markdown",
   "metadata": {},
   "source": [
    "## <div style=\"color:#fbb144\">  1. Where to learn Python?</div>\n",
    "\n",
    "* [Real Python](https://realpython.com/)\n",
    "\n",
    "* [Codecademy](https://www.codecademy.com)\n",
    "\n",
    "* [Programiz](https://www.programiz.com/)\n",
    "\n",
    "* [W3Schools](https://www.w3schools.com/)"
   ]
  },
  {
   "cell_type": "markdown",
   "metadata": {},
   "source": [
    "## <div style=\"color:#fbb144\">  2. Further Reading  </div>\n",
    "\n",
    "* A. Downey, [*Think Python*](https://www.greenteapress.com/thinkpython/thinkpython.pdf). *How to Think Like a Computer Scientist*, 2nd ed. Needham, Massachusetts: Green Tea Press, 2014."
   ]
  },
  {
   "cell_type": "markdown",
   "metadata": {},
   "source": [
    "<tr>\n",
    "<td> <img src=\"https://github.com/PIA-Group/ScientIST-notebooks/blob/master/_Resources/Images/IT.png?raw=true\" alt=\"Drawing\" style=\"width:200px\"/> </td>\n",
    "\n",
    "<td> <img src=\"https://github.com/PIA-Group/ScientIST-notebooks/blob/master/_Resources/Images/IST.png?raw=true\" alt=\"Drawing\"\n",
    "style=\"width:200px\"/> </td>\n",
    "</tr>"
   ]
  },
  {
   "cell_type": "markdown",
   "metadata": {},
   "source": [
    "```Contributors:  ``` Ana Fred, Hugo Plácido da Silva and Rafael Silva"
   ]
  }
 ],
 "metadata": {
  "kernelspec": {
   "display_name": "Python 3",
   "language": "python",
   "name": "python3"
  },
  "language_info": {
   "codemirror_mode": {
    "name": "ipython",
    "version": 3
   },
   "file_extension": ".py",
   "mimetype": "text/x-python",
   "name": "python",
   "nbconvert_exporter": "python",
   "pygments_lexer": "ipython3",
   "version": "3.8.5"
  }
 },
 "nbformat": 4,
 "nbformat_minor": 4
}
