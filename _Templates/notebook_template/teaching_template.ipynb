{
 "cells": [
  {
   "attachments": {},
   "cell_type": "markdown",
   "id": "1e2a027b",
   "metadata": {},
   "source": [
    "![scientisst-notebooks_top-banner](../../_Resources/top-banner.png)"
   ]
  },
  {
   "cell_type": "markdown",
   "id": "3cf183a2",
   "metadata": {},
   "source": [
    "# <span style=\"color:#484848;\"> ADD YOUR TITLE HERE (*) </span>"
   ]
  },
  {
   "cell_type": "markdown",
   "id": "03e0262c",
   "metadata": {},
   "source": [
    "### <span style=\"color:#484848;\"> ADD YOUR SUBTITLE HERE (e.g., course name) </span> "
   ]
  },
  {
   "cell_type": "markdown",
   "id": "36a4cefd",
   "metadata": {},
   "source": [
    "### <span style=\"color:#00aba1;\"> Keywords </span>\n",
    "`keyword1`, `keyword2`, `keyword3` (max 5) (*)"
   ]
  },
  {
   "cell_type": "markdown",
   "id": "e09b7dc0",
   "metadata": {},
   "source": [
    "### <span style=\"color:#00aba1;\"> Notebook Info </span>\n",
    "\n",
    "**Author(s):** Author1, Author2 (*)\n",
    "\n",
    "**Date of creation:** dd/mm/aaaa (*)\n",
    "\n",
    "**Last update:** dd/mm/aaaa (*)\n",
    "\n",
    "**Last revision:** dd/mm/aaaa (*)"
   ]
  },
  {
   "cell_type": "markdown",
   "id": "69307772",
   "metadata": {},
   "source": [
    "# <span style=\"color:#00aba1;\"> 1. Overview </span>"
   ]
  },
  {
   "cell_type": "markdown",
   "id": "b9614666",
   "metadata": {},
   "source": [
    "## <span style=\"color:#484848;\"> 1.1. Introduction </span>"
   ]
  },
  {
   "cell_type": "markdown",
   "id": "521fbb4a",
   "metadata": {},
   "source": [
    "Write here the main concepts that readers should familiarize themselves with."
   ]
  },
  {
   "cell_type": "markdown",
   "id": "eadddb27",
   "metadata": {},
   "source": [
    "## <span style=\"color:#484848;\"> 1.2. Objectives </span>"
   ]
  },
  {
   "cell_type": "markdown",
   "id": "76f8b1f4",
   "metadata": {},
   "source": [
    "By the end of this class you should be able to:\n",
    "\n",
    "* Do this\n",
    "\n",
    "* Understand this\n",
    "\n",
    "* Perform this\n",
    "\n",
    "* Analyse this\n",
    "\n",
    "* Know how to do this\n",
    "\n",
    "* ..."
   ]
  },
  {
   "cell_type": "markdown",
   "id": "a663b45f",
   "metadata": {},
   "source": [
    "## <span style=\"color:#484848;\"> 1.3. Materials</span>"
   ]
  },
  {
   "cell_type": "markdown",
   "id": "d920090f",
   "metadata": {},
   "source": [
    "If useful use this section to let your readers know what they need to possess in order to follow the notebook. For example:\n",
    "\n",
    "* 1 ScientISST Board\n",
    "\n",
    "* 1 ECG sensor\n",
    "\n",
    "* ..."
   ]
  },
  {
   "cell_type": "markdown",
   "id": "323747c1",
   "metadata": {},
   "source": [
    "# <span style=\"color:#00aba1;\"> 2. Topic 1 </span>"
   ]
  },
  {
   "cell_type": "markdown",
   "id": "a17cb18d",
   "metadata": {},
   "source": [
    "## <span style=\"color:#484848;\"> 2.1. Subtitle 3 </span>"
   ]
  },
  {
   "cell_type": "markdown",
   "id": "dd607404",
   "metadata": {},
   "source": []
  },
  {
   "cell_type": "markdown",
   "id": "d71e62bc",
   "metadata": {},
   "source": [
    "## <span style=\"color:#484848;\"> 2.1. Subtitle 4 </span>"
   ]
  },
  {
   "cell_type": "markdown",
   "id": "78397a75",
   "metadata": {},
   "source": []
  },
  {
   "cell_type": "markdown",
   "id": "69d9066b",
   "metadata": {},
   "source": [
    "# <span style=\"color:#00aba1;\"> Conclusion </span>"
   ]
  },
  {
   "cell_type": "markdown",
   "id": "7815de5e",
   "metadata": {},
   "source": [
    "Write a conclusion and/or summary."
   ]
  },
  {
   "cell_type": "markdown",
   "id": "1579bd52",
   "metadata": {},
   "source": [
    "# <span style=\"color:#00aba1;\"> Summary </span>"
   ]
  },
  {
   "cell_type": "markdown",
   "id": "89f0e95c",
   "metadata": {},
   "source": [
    "* Try to use bullet points"
   ]
  },
  {
   "cell_type": "markdown",
   "id": "58f3777a",
   "metadata": {},
   "source": [
    "# <span style=\"color:#00aba1;\"> Exercises </span>"
   ]
  },
  {
   "cell_type": "markdown",
   "id": "27c2375e",
   "metadata": {},
   "source": [
    "### 1. Do something"
   ]
  },
  {
   "cell_type": "code",
   "execution_count": null,
   "id": "4c242ec8",
   "metadata": {},
   "outputs": [],
   "source": []
  },
  {
   "cell_type": "markdown",
   "id": "4569a624",
   "metadata": {},
   "source": [
    "### 2. Comment "
   ]
  },
  {
   "cell_type": "markdown",
   "id": "1fa45f9c",
   "metadata": {},
   "source": [
    "(write here)"
   ]
  },
  {
   "cell_type": "markdown",
   "id": "d82ebb62",
   "metadata": {},
   "source": [
    "### References:\n",
    "\n",
    "1. ref1\n",
    "\n",
    "2. ref2\n",
    "\n",
    "3. ..."
   ]
  },
  {
   "cell_type": "markdown",
   "id": "ca853781",
   "metadata": {},
   "source": [
    "\n",
    "### Further Reading:\n",
    "\n",
    "* link\n",
    "\n",
    "* book\n",
    "\n",
    "* scientisst notebook\n",
    "\n",
    "* ..."
   ]
  },
  {
   "cell_type": "markdown",
   "id": "a89892a6",
   "metadata": {},
   "source": [
    "![scientisst-notebooks_bottom-banner](../../_Resources/bottom-banner.png)"
   ]
  },
  {
   "cell_type": "markdown",
   "id": "049bcab5",
   "metadata": {},
   "source": [
    "# >>> (please delete this cell and the ones below) <<<\n",
    "\n",
    "# NOTEBOOK GUIDELINES \n",
    "\n",
    "\n",
    "* All fields without `(*)` are optional.\n",
    "\n",
    "* Create sections according to your preference, but try to fill in the ones already proposed.\n",
    "\n",
    "* Use different cells for text, code and pictures. Try to follow the example in the template.\n",
    "\n",
    "* You can use a different numbering style for sections.\n",
    "\n",
    "* To add **any** images, add them to the `_Resources` folder of your notebook and use the relative path.\n",
    "\n",
    "* Try to fill in the objectives, requirements and materials sections\n",
    "\n",
    "* Try to provide references and/or further reading.\n",
    "\n",
    "* Reference your sources.\n",
    "\n",
    "* Where possible, include exercises. Use the template below when exercises are within a section, and use an **Exercises** section if exercises are at the end of the notebook."
   ]
  },
  {
   "cell_type": "markdown",
   "id": "b5635e90",
   "metadata": {},
   "source": [
    "✏️ **EXERCISE:** \n",
    "\n",
    "1. Use under a section for exercises\n",
    "\n",
    "2. Feel free to place text/code cells in between the exercices\n",
    "\n",
    "3. ..."
   ]
  },
  {
   "cell_type": "markdown",
   "id": "063fac0e",
   "metadata": {},
   "source": [
    "> ⚠️ **WARNING:** Write here something the readers must be careful with."
   ]
  },
  {
   "cell_type": "markdown",
   "id": "48833e82",
   "metadata": {},
   "source": [
    "> 📋 **NOTE:** Write here a brief note for the readers."
   ]
  },
  {
   "cell_type": "markdown",
   "id": "da58713d",
   "metadata": {},
   "source": [
    "> 💡 **EXPLORE:** Write here something for the readers to explore outside of the notebook."
   ]
  },
  {
   "cell_type": "markdown",
   "id": "a75305c7",
   "metadata": {},
   "source": [
    "> ❗ **DON'T FORGET:** Write here something important to remember."
   ]
  },
  {
   "cell_type": "markdown",
   "id": "4251c4ac",
   "metadata": {},
   "source": [
    "> ❓ **DID YOU KNOW?** Write here a curiosity."
   ]
  },
  {
   "cell_type": "markdown",
   "id": "d53112d2",
   "metadata": {},
   "source": [
    "> ⚡ **TIP:** Write here a tip."
   ]
  }
 ],
 "metadata": {
  "kernelspec": {
   "display_name": "Python 3 (ipykernel)",
   "language": "python",
   "name": "python3"
  },
  "language_info": {
   "codemirror_mode": {
    "name": "ipython",
    "version": 3
   },
   "file_extension": ".py",
   "mimetype": "text/x-python",
   "name": "python",
   "nbconvert_exporter": "python",
   "pygments_lexer": "ipython3",
   "version": "3.9.12"
  }
 },
 "nbformat": 4,
 "nbformat_minor": 5
}
