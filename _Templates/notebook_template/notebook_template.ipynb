{
 "cells": [
  {
   "attachments": {},
   "cell_type": "markdown",
   "id": "1e2a027b",
   "metadata": {},
   "source": [
    "![scientisst-notebooks_top-banner](../../_Resources/top-banner.png)"
   ]
  },
  {
   "cell_type": "markdown",
   "id": "3cf183a2",
   "metadata": {},
   "source": [
    "# <span style=\"color:#484848;\"> ADD YOUR TITLE HERE (*) </span>"
   ]
  },
  {
   "cell_type": "markdown",
   "id": "36a4cefd",
   "metadata": {},
   "source": [
    "### <span style=\"color:#00aba1;\"> Keywords (*) </span>\n",
    "`keyword1`, `keyword2`, `keyword3`"
   ]
  },
  {
   "cell_type": "markdown",
   "id": "e09b7dc0",
   "metadata": {},
   "source": [
    "### <span style=\"color:#00aba1;\"> Notebook Info (*) </span>\n",
    "\n",
    "**Author(s):** Author1, Author2\n",
    "\n",
    "**Date of creation:** dd/mm/aa\n",
    "\n",
    "**Last update:** dd/mm/aa"
   ]
  },
  {
   "cell_type": "markdown",
   "id": "e00a3dd5",
   "metadata": {},
   "source": [
    "![Graphical Abstract](https://raw.githubusercontent.com/scientisst/notebooks/master/_Resources/Images/C.Signal_Processing_IMG/C001/LCD.png)\n",
    "<p style=\"text-align:center\"> <i> Caption for the graphical abstract. </i> </p>"
   ]
  },
  {
   "cell_type": "markdown",
   "id": "043fa9be",
   "metadata": {},
   "source": [
    "### <span style=\"color:#00aba1;\"> Description (*) </span>\n",
    "In this cell you should succinctly explain the **purpose/motivation** of this notebook and/or give an **overview** of the content"
   ]
  },
  {
   "cell_type": "markdown",
   "id": "cbb9bfa7",
   "metadata": {},
   "source": [
    "### <span style=\"color:#00aba1;\"> Requirements </span>\n",
    "If useful use this section to let your readers know what they should know to fully reach the goals. For example:\n",
    "\n",
    "* Basic knowledge of Python\n",
    "\n",
    "* Circuit analysis\n",
    "\n",
    "* ..."
   ]
  },
  {
   "cell_type": "markdown",
   "id": "3dbf9202",
   "metadata": {},
   "source": [
    "### <span style=\"color:#00aba1;\"> Materials</span>\n",
    "\n",
    "If useful use this section to let your readers know what they need to possess in order to follow the notebook. For example:\n",
    "\n",
    "* 1 ScientISST Board\n",
    "\n",
    "* 1 ECG sensor\n",
    "\n",
    "* ..."
   ]
  },
  {
   "cell_type": "markdown",
   "id": "01d58803",
   "metadata": {},
   "source": [
    "***"
   ]
  },
  {
   "cell_type": "markdown",
   "id": "69307772",
   "metadata": {},
   "source": [
    "# <span style=\"color:#00aba1;\"> 1. Section 1 (*) </span>"
   ]
  },
  {
   "cell_type": "markdown",
   "id": "521fbb4a",
   "metadata": {},
   "source": [
    "(Place your main contents here and below; they can be organized by sections.)"
   ]
  },
  {
   "cell_type": "markdown",
   "id": "92b16b2b",
   "metadata": {},
   "source": [
    "## <span style=\"color:#484848;\"> 1.1. Subsection 1 </span>"
   ]
  },
  {
   "cell_type": "markdown",
   "id": "1896e5db",
   "metadata": {},
   "source": []
  },
  {
   "cell_type": "markdown",
   "id": "67579b83",
   "metadata": {},
   "source": [
    "## <span style=\"color:#484848;\"> 1.2. Subsection 2 </span>"
   ]
  },
  {
   "cell_type": "markdown",
   "id": "72db922c",
   "metadata": {},
   "source": []
  },
  {
   "cell_type": "markdown",
   "id": "323747c1",
   "metadata": {},
   "source": [
    "# <span style=\"color:#00aba1;\"> 2. Section 2 </span>"
   ]
  },
  {
   "cell_type": "markdown",
   "id": "a17cb18d",
   "metadata": {},
   "source": [
    "## <span style=\"color:#484848;\"> 2.1. Subsection 3 </span>"
   ]
  },
  {
   "cell_type": "markdown",
   "id": "dd607404",
   "metadata": {},
   "source": []
  },
  {
   "cell_type": "markdown",
   "id": "d71e62bc",
   "metadata": {},
   "source": [
    "## <span style=\"color:#484848;\"> 2.1. Subsection 4 </span>"
   ]
  },
  {
   "cell_type": "markdown",
   "id": "78397a75",
   "metadata": {},
   "source": []
  },
  {
   "cell_type": "markdown",
   "id": "69d9066b",
   "metadata": {},
   "source": [
    "# <span style=\"color:#00aba1;\"> Conclusion </span>"
   ]
  },
  {
   "cell_type": "markdown",
   "id": "7815de5e",
   "metadata": {},
   "source": [
    "Write a conclusion and/or summary."
   ]
  },
  {
   "cell_type": "markdown",
   "id": "1579bd52",
   "metadata": {},
   "source": [
    "# <span style=\"color:#00aba1;\"> Summary </span>"
   ]
  },
  {
   "cell_type": "markdown",
   "id": "89f0e95c",
   "metadata": {},
   "source": [
    "* Try to use bullet points"
   ]
  },
  {
   "cell_type": "markdown",
   "id": "923b217f",
   "metadata": {},
   "source": [
    "# <span style=\"color:#00aba1;\"> Exercises </span>"
   ]
  },
  {
   "cell_type": "markdown",
   "id": "92672c6a",
   "metadata": {},
   "source": [
    "### 1. Do something"
   ]
  },
  {
   "cell_type": "code",
   "execution_count": null,
   "id": "54277ce3",
   "metadata": {},
   "outputs": [],
   "source": []
  },
  {
   "cell_type": "markdown",
   "id": "ac6c8172",
   "metadata": {},
   "source": [
    "### 2. Comment"
   ]
  },
  {
   "cell_type": "markdown",
   "id": "79646329",
   "metadata": {},
   "source": [
    "_write your answer here_"
   ]
  },
  {
   "cell_type": "markdown",
   "id": "b4c52f8a",
   "metadata": {},
   "source": [
    "***"
   ]
  },
  {
   "cell_type": "markdown",
   "id": "d82ebb62",
   "metadata": {},
   "source": [
    "### References:\n",
    "\n",
    "1. ref1\n",
    "\n",
    "2. ref2\n",
    "\n",
    "3. ..."
   ]
  },
  {
   "cell_type": "markdown",
   "id": "ca853781",
   "metadata": {},
   "source": [
    "\n",
    "### Further Reading:\n",
    "\n",
    "* link\n",
    "\n",
    "* book\n",
    "\n",
    "* scientisst notebook\n",
    "\n",
    "* ..."
   ]
  },
  {
   "cell_type": "markdown",
   "id": "13f4c736",
   "metadata": {},
   "source": [
    "![scientisst-notebooks_bottom-banner](../../_Resources/bottom-banner.png)"
   ]
  },
  {
   "cell_type": "markdown",
   "id": "074ac30e",
   "metadata": {},
   "source": [
    "# NOTEBOOK GUIDELINES (please delete this cell)\n",
    "\n",
    "### Formating guidelines\n",
    "\n",
    "* The sections with an **asterisk (\\*)** are mandatory, but please remove the **(\\*)** when editing the Notebook\n",
    "\n",
    "* When creating a new Notebook, add a new directory within the respective chapter with the same name as the Notebook and inside create a Jupyter Notebook and a `_Resources` directory.\n",
    "\n",
    "* To add **any** image (including graphical abstract), add them in the respective Notebook's `_Resources` directory and use a relative path (e.g. `![image-name](../notebook-name/_Resources/image-name)`).\n",
    "\n",
    "* Use different cells for text, code and figures. Try to follow the template's example.\n",
    "\n",
    "* Try to add a caption (with source, if applicable) to every image (check the _Graphical Abstract_ for an example).\n",
    "\n",
    "* Try to use the _Objectives_, _Requirements_ and _Materials_ sections, as well as to provide references, further reading, and exercises.\n",
    "\n",
    "### When you want to highlight something use the following formats:\n",
    "\n",
    "> ⚠️ **WARNING:** Write here something the readers must be careful with.\n",
    "\n",
    "> 📋 **NOTE:** Write here a brief note for the readers.\n",
    "\n",
    "> 💡 **EXPLORE:** Write here something for the readers to explore outside of the notebook.\n",
    "\n",
    "> ❗ **DON'T FORGET:** Write here something important to remember.\n",
    "\n",
    "> ❓ **DID YOU KNOW?** Write here a curiosity.\n",
    "\n",
    "> ⚡ **TIP:** Write here a tip.\n",
    "\n",
    "✏️ **EXERCISE:** \n",
    "\n",
    "1. Use under a section for exercises\n",
    "\n",
    "2. Feel free to place text/code cells in between the exercices\n",
    "\n",
    "3. ..."
   ]
  }
 ],
 "metadata": {
  "kernelspec": {
   "display_name": "Python 3.10.0 64-bit",
   "language": "python",
   "name": "python3"
  },
  "language_info": {
   "codemirror_mode": {
    "name": "ipython",
    "version": 3
   },
   "file_extension": ".py",
   "mimetype": "text/x-python",
   "name": "python",
   "nbconvert_exporter": "python",
   "pygments_lexer": "ipython3",
   "version": "3.10.0"
  },
  "vscode": {
   "interpreter": {
    "hash": "7e1998ff7f8aa20ada591c520b972326324e5ea05489af9e422744c7c09f6dad"
   }
  }
 },
 "nbformat": 4,
 "nbformat_minor": 5
}
