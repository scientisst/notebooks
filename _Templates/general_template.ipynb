{
 "cells": [
  {
   "attachments": {
    "SI-Notebooks-Hor-Break-Col.svg": {
     "image/svg+xml": [
      "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"
     ]
    }
   },
   "cell_type": "markdown",
   "id": "1e2a027b",
   "metadata": {},
   "source": [
    "<p align=\"center\">\n",
    "    <img align=\"center\" src=\"_Resources/top-banner.svg\">\n",
    "</p>"
   ]
  },
  {
   "cell_type": "markdown",
   "id": "3cf183a2",
   "metadata": {},
   "source": [
    "# <span style=\"color:#484848;\"> ADD YOUR TITLE HERE (*) </span>"
   ]
  },
  {
   "cell_type": "markdown",
   "id": "03e0262c",
   "metadata": {},
   "source": [
    "### <span style=\"color:#484848;\"> ADD YOUR SUBTITLE HERE</span> "
   ]
  },
  {
   "cell_type": "markdown",
   "id": "36a4cefd",
   "metadata": {},
   "source": [
    "### <span style=\"color:#00aba1;\"> Keywords </span>\n",
    "`keyword1`, `keyword2`, `keyword3` (max 5) (*)"
   ]
  },
  {
   "cell_type": "markdown",
   "id": "e09b7dc0",
   "metadata": {},
   "source": [
    "### <span style=\"color:#00aba1;\"> Notebook Info </span>\n",
    "\n",
    "**Author(s):** Author1, Author2 (*)\n",
    "\n",
    "**Date of creation:** dd/mm/aa (*)\n",
    "\n",
    "**Last update:** dd/mm/aa (*)\n",
    "\n",
    "**Last revision:** dd/mm/aa (*)"
   ]
  },
  {
   "cell_type": "markdown",
   "id": "e00a3dd5",
   "metadata": {},
   "source": [
    "![Graphical Abstract](https://raw.githubusercontent.com/scientisst/notebooks/master/_Resources/Images/C.Signal_Processing_IMG/C001/LCD.png)\n",
    "<p style=\"text-align:center\"> <i> Caption for the graphical abstract. </i> </p>"
   ]
  },
  {
   "cell_type": "markdown",
   "id": "043fa9be",
   "metadata": {},
   "source": [
    "### <span style=\"color:#00aba1;\"> Description (*) </span>\n",
    "In this cell you should succinctly explain the **purpose/motivation** of this notebook and/or give an **overview** of the article | 140-156 characters long --> Check this https://seochatter.com/medium-seo-strategy/#:~:text=2.%20Use%20Keywords%20In%20the%20SEO%20Descriptions"
   ]
  },
  {
   "cell_type": "markdown",
   "id": "cbb9bfa7",
   "metadata": {},
   "source": [
    "### <span style=\"color:#00aba1;\"> Requirements </span>\n",
    "If useful use this section to let your readers know what they should know to fully reach the goals. For example:\n",
    "\n",
    "* Basic knowledge of Python\n",
    "\n",
    "* Circuit analysis\n",
    "\n",
    "* ..."
   ]
  },
  {
   "cell_type": "markdown",
   "id": "3dbf9202",
   "metadata": {},
   "source": [
    "### <span style=\"color:#00aba1;\"> Materials</span>\n",
    "\n",
    "If useful use this section to let your readers know what they need to possess in order to follow the notebook. For example:\n",
    "\n",
    "* 1 ScientISST Board\n",
    "\n",
    "* 1 ECG sensor\n",
    "\n",
    "* ..."
   ]
  },
  {
   "cell_type": "markdown",
   "id": "69307772",
   "metadata": {},
   "source": [
    "# <span style=\"color:#00aba1;\"> 1. Title 1 (*) </span>"
   ]
  },
  {
   "cell_type": "markdown",
   "id": "521fbb4a",
   "metadata": {},
   "source": [
    "(Place your main contents here and below; they can be organized by sections.)"
   ]
  },
  {
   "cell_type": "markdown",
   "id": "92b16b2b",
   "metadata": {},
   "source": [
    "## <span style=\"color:#484848;\"> 1.1. Subtitle 1 </span>"
   ]
  },
  {
   "cell_type": "markdown",
   "id": "1896e5db",
   "metadata": {},
   "source": []
  },
  {
   "cell_type": "markdown",
   "id": "67579b83",
   "metadata": {},
   "source": [
    "## <span style=\"color:#484848;\"> 1.2. Subtitle 2 </span>"
   ]
  },
  {
   "cell_type": "markdown",
   "id": "72db922c",
   "metadata": {},
   "source": []
  },
  {
   "cell_type": "markdown",
   "id": "323747c1",
   "metadata": {},
   "source": [
    "# <span style=\"color:#00aba1;\"> 2. Title 2 </span>"
   ]
  },
  {
   "cell_type": "markdown",
   "id": "a17cb18d",
   "metadata": {},
   "source": [
    "## <span style=\"color:#484848;\"> 2.1. Subtitle 3 </span>"
   ]
  },
  {
   "cell_type": "markdown",
   "id": "dd607404",
   "metadata": {},
   "source": []
  },
  {
   "cell_type": "markdown",
   "id": "d71e62bc",
   "metadata": {},
   "source": [
    "## <span style=\"color:#484848;\"> 2.1. Subtitle 4 </span>"
   ]
  },
  {
   "cell_type": "markdown",
   "id": "78397a75",
   "metadata": {},
   "source": []
  },
  {
   "cell_type": "markdown",
   "id": "69d9066b",
   "metadata": {},
   "source": [
    "# <span style=\"color:#00aba1;\"> Conclusion </span>"
   ]
  },
  {
   "cell_type": "markdown",
   "id": "7815de5e",
   "metadata": {},
   "source": [
    "Write a conclusion and/or summary."
   ]
  },
  {
   "cell_type": "markdown",
   "id": "1579bd52",
   "metadata": {},
   "source": [
    "# <span style=\"color:#00aba1;\"> Summary </span>"
   ]
  },
  {
   "cell_type": "markdown",
   "id": "89f0e95c",
   "metadata": {},
   "source": [
    "* Try to use bullet points"
   ]
  },
  {
   "cell_type": "markdown",
   "id": "d82ebb62",
   "metadata": {},
   "source": [
    "### References:\n",
    "\n",
    "1. ref1\n",
    "\n",
    "2. ref2\n",
    "\n",
    "3. ..."
   ]
  },
  {
   "cell_type": "markdown",
   "id": "ca853781",
   "metadata": {},
   "source": [
    "\n",
    "### Further Reading:\n",
    "\n",
    "* link\n",
    "\n",
    "* book\n",
    "\n",
    "* scientisst notebook\n",
    "\n",
    "* ..."
   ]
  },
  {
   "cell_type": "markdown",
   "id": "074ac30e",
   "metadata": {},
   "source": [
    "# NOTEBOOK GUIDELINES (please delete this cell)\n",
    "\n",
    "\n",
    "* Use different cells for text, code, figures and figure captions. Try to follow the template's example.\n",
    "\n",
    "* You can use a different numbering style for the sections.\n",
    "\n",
    "* Try to provide references and/or further reading.\n",
    "\n",
    "* To add **any** image (including graphical abstract), upload image to GitHub, click \"Download\" and copy url.\n",
    "\n",
    "**Guidelines for Tutorials:**\n",
    "\n",
    "* It should have an informative title/subtitle (e.g. How to create your first Python script).\n",
    "\n",
    "* Follow the template's structure as close as possible.\n",
    "\n",
    "* Use ONLY markdown, even for code:\n",
    "\n",
    "```python\n",
    "# this is a piece of code\n",
    "import numpy as np\n",
    "\n",
    "def function(a, b, c):\n",
    "    return (a, b, c)\n",
    "```\n",
    "\n",
    "* ALWAYS provide a figure caption.\n",
    "\n",
    "* ALWAYS reference your sources.\n",
    "\n",
    "\n",
    "**Guidelines for Hands-on:**\n",
    "\n",
    "* Feel free to rearrange the notebook's structure\n",
    "\n",
    "* Try to use the objectives, requirements and materials sections\n",
    "\n",
    "* Whenever possible include exercices"
   ]
  },
  {
   "cell_type": "markdown",
   "id": "78380b9d",
   "metadata": {},
   "source": [
    "<p align=\"center\">\n",
    "  <img style=\"height:2.5cm\" align=\"center\" src=\"_Resources/bottom-banner.png\">\n",
    "</p>"
   ]
  }
 ],
 "metadata": {
  "kernelspec": {
   "display_name": "Python 3.10.0 64-bit",
   "language": "python",
   "name": "python3"
  },
  "language_info": {
   "codemirror_mode": {
    "name": "ipython",
    "version": 3
   },
   "file_extension": ".py",
   "mimetype": "text/x-python",
   "name": "python",
   "nbconvert_exporter": "python",
   "pygments_lexer": "ipython3",
   "version": "3.10.0"
  },
  "vscode": {
   "interpreter": {
    "hash": "7e1998ff7f8aa20ada591c520b972326324e5ea05489af9e422744c7c09f6dad"
   }
  }
 },
 "nbformat": 4,
 "nbformat_minor": 5
}
