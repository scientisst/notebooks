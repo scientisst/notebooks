{
 "cells": [
  {
   "cell_type": "markdown",
   "metadata": {},
   "source": [
    "  <div  style=\"color:#303030;font-family:'arial blACK', sans-serif,monospace; text-align: center; padding: 50px 0; vertical-align:middle;\" > <img src=\"https://github.com/PIA-Group/ScientIST-notebooks/blob/master/_Resources/Images/Lightbulb.png?raw=true\" style=\" background:linear-gradient(to right,#FDC86E,#fbb144);border-radius:10px;width:150px;text-align:left; margin-left:10%\"  /> <span style=\"position:relative; bottom:70px; margin-left:5%;font-size:170%;\">    Equipment of electronics laboratory and basic circuits </span> </div>"
   ]
  },
  {
   "cell_type": "markdown",
   "metadata": {},
   "source": [
    "## <span style=\"color:#fbb144;\"> Keywords: </span>"
   ]
  },
  {
   "cell_type": "markdown",
   "metadata": {},
   "source": [
    "```Electronic components```, ```Instrumentation```, ```Passive Circuits```"
   ]
  },
  {
   "cell_type": "markdown",
   "metadata": {},
   "source": [
    "# I. Introduction\n",
    "<br>\n",
    "<div class=\"title\"style=\"width:100%; background:linear-gradient(to right,#FDC86E,#fbb144);font-family:'arial black',monospace; text-align: center; padding: 7px 0; border-radius: 5px 50px;margin-top:-15px\" >  </div>"
   ]
  },
  {
   "cell_type": "markdown",
   "metadata": {},
   "source": [
    "This session will comprise an introduction to the typical electronic equipment and instrumentation in a laboratory."
   ]
  },
  {
   "cell_type": "markdown",
   "metadata": {},
   "source": [
    "## <div style=\"color:#fbb144\"> 1. Background </div>"
   ]
  },
  {
   "cell_type": "markdown",
   "metadata": {},
   "source": [
    "### DC Power Supply\n",
    "<br>\n",
    "<div class=\"title\" style=\"width:100%; background:#FDC86E;font-family:'arial black',monospace; text-align: center; padding: 7px 0; border-radius: 5px 50px;margin-top:-15px\" >\n",
    "</div>\n",
    "\n",
    "A DC power supply is a type of power supply that gives direct current (DC) voltage to power a device. Because DC power supply is commonly used on an engineer's or technician's bench for a ton of power tests, they are also often called a \"bench power supply\".\n",
    "\n",
    "A typical DC power supply looks like this:\n",
    "\n",
    "<p align=\"center\">\n",
    "<img src=\"https://github.com/PIA-Group/ScientISST-notebooks/raw/master/_Resources/Images/A.Signal_Acquisition_IMG/a009/IMG_1783.HEIC.jpg\" width=\"350\"/> \n",
    "</p>\n",
    "\n",
    "The probes connected to the power supply are the following:\n",
    "\n",
    "<p align=\"center\">\n",
    "<img src=\"https://github.com/PIA-Group/ScientISST-notebooks/raw/master/_Resources/Images/A.Signal_Acquisition_IMG/a009/IMG_1782.jpg\" width=\"350\"/> \n",
    "</p>\n",
    "\n",
    "The power supply has knobs that allow it to select the desired voltage and the current it outputs. Remember that if the current is 0, the output will have 0 volts.\n",
    "\n",
    "Some power supplies even have an `OUTPUT` button that allows toggling the output voltage between `ON` and `OFF`.\n",
    "\n",
    "<p align=\"center\">\n",
    "<img src=\"https://github.com/PIA-Group/ScientISST-notebooks/raw/master/_Resources/Images/A.Signal_Acquisition_IMG/a009/IMG_1789.HEIC.jpg\" width=\"350\"/> \n",
    "</p>\n",
    "\n",
    "You can easily power your circuit with a power supply:\n",
    "\n",
    "<p align=\"center\">\n",
    "<img src=\"https://github.com/PIA-Group/ScientISST-notebooks/raw/master/_Resources/Images/A.Signal_Acquisition_IMG/a009/IMG_1784.HEIC.jpg\" width=\"350\"/> \n",
    "</p>\n",
    "\n",
    "<br>\n",
    "<br>\n",
    "<div style=\"background:#fe9b29;font-family:'arial', monospace; text-align: center; padding: 10px 0; border-radius:10px; width:70%; margin:auto \" >\n",
    "  <span style=\"font-size:20px;position:relative;color:white; \">  Caution! </span> <br>\n",
    "  <div style=\"background:#ffdab0;font-size:12px\"> \n",
    "    The power supply is capable of damaging your circuit. Always be extra careful when using this device. Always verify the selected voltage before connecting to your circuit. Voltages too high can damage your parts and even be dangerous to you.   \n",
    "</div>\n",
    "</div>\n",
    "\n",
    "\n"
   ]
  },
  {
   "cell_type": "markdown",
   "metadata": {},
   "source": [
    "## Multimeter\n",
    "<br>\n",
    "<div class=\"title\" style=\"width:100%; background:#FDC86E;font-family:'arial black',monospace; text-align: center; padding: 7px 0; border-radius: 5px 50px;margin-top:-15px\" >\n",
    "</div>\n",
    "\n",
    "A Multimeter is known as a multitester or VOM (Volt-Ohm Milliammeter). It is an all-in-one electronic measuring instrument that combines several measurement functions. Thus, it’ll be able to troubleshoot issues with your circuit or electronic designs!\n",
    "\n",
    "A typical multimeter nowadays looks like this:\n",
    "\n",
    "<p align=\"center\">\n",
    "<img src=\"https://github.com/PIA-Group/ScientISST-notebooks/raw/master/_Resources/Images/A.Signal_Acquisition_IMG/a009/IMG_1785.HEIC.jpg\" width=\"350\"/> \n",
    "</p>\n",
    "\n",
    "As you can see, you have a selection knob that allows you to select what to measure.\n",
    "\n",
    "Selecting the `V` means you are measuring *Voltage* and using the multimeter probes you can measure the voltage across two terminals:\n",
    "\n",
    "<p align=\"center\">\n",
    "<img src=\"https://github.com/PIA-Group/ScientISST-notebooks/raw/master/_Resources/Images/A.Signal_Acquisition_IMG/a009/IMG_1786.HEIC.jpg\" width=\"350\"/> \n",
    "</p>\n",
    "\n",
    "Another very useful feature of multimeters is the ability to test for continuity. This can be used to check if there is a short circuit in your circuit or to verify if something is connected properly. Just turn the knob to the continuity test position and press the blue button. Now if you touch the probes together the multimeter will *beep*.\n",
    "\n",
    "<p align=\"center\">\n",
    "<img src=\"https://github.com/PIA-Group/ScientISST-notebooks/raw/master/_Resources/Images/A.Signal_Acquisition_IMG/a009/IMG_1787.HEIC.jpg\" width=\"350\"/> \n",
    "</p>\n",
    "\n"
   ]
  },
  {
   "cell_type": "markdown",
   "metadata": {},
   "source": [
    "## Function Generator\n",
    "<br>\n",
    "<div class=\"title\" style=\"width:100%; background:#FDC86E;font-family:'arial black',monospace; text-align: center; padding: 7px 0; border-radius: 5px 50px;margin-top:-15px\" >\n",
    "</div>\n",
    "\n",
    "A function generator is usually a piece of electronic test equipment or software used to generate different types of electrical waveforms over a wide range of frequencies. Some of the most common waveforms produced by the function generator are the sine wave, square wave, triangular wave, and sawtooth shapes.\n",
    "\n",
    "<p align=\"center\">\n",
    "<img src=\"https://github.com/PIA-Group/ScientISST-notebooks/raw/master/_Resources/Images/A.Signal_Acquisition_IMG/a009/waveforms.jpg\" width=\"350\"/> \n",
    "</p>\n",
    "\n",
    "Function generators are used in the development, test, and repair of electronic equipment. For example, they may be used as a signal source to test amplifiers or to introduce an error signal into a control loop. \n",
    "\n",
    "\n",
    "A typical function generator looks like this:\n",
    "\n",
    "<p align=\"center\">\n",
    "<img src=\"https://github.com/PIA-Group/ScientISST-notebooks/raw/master/_Resources/Images/A.Signal_Acquisition_IMG/a009/IMG_1779.HEIC.jpg\" width=\"350\"/> \n",
    "</p>\n",
    "\n",
    "To start using a function generator, make sure you connect the BNC-crocodile cable to the **MAIN** output of the generator.\n",
    "\n",
    "<p align=\"center\">\n",
    "<img src=\"https://github.com/PIA-Group/ScientISST-notebooks/raw/master/_Resources/Images/A.Signal_Acquisition_IMG/a009/IMG_1781.HEIC.jpg\" width=\"350\"/> \n",
    "</p>\n",
    "\n",
    "The function generator allows you to select the characteristics of the output signal. You can select its shape, frequency, amplitude, *etc*. As an example, to select a frequency of 10 Hz, you press the `FREC`button, then press the number `10`, and finally, press the `Hz/Vpp` button.\n",
    "\n",
    "Note that if the `OUTPUT` button is not activated, no signal is generated.\n",
    "\n",
    "\n",
    "<br>\n",
    "<br>\n",
    "\n",
    "<div style=\"background:#fe9b29;font-family:'arial', monospace; text-align: center; padding: 10px 0; border-radius:10px; width:70%; margin:auto \" >\n",
    "  <span style=\"font-size:20px;position:relative;color:white; \">  Caution! </span> <br>\n",
    "  <div style=\"background:#ffdab0;font-size:12px\"> \n",
    "    Like the DC Power Supply, the function generator can be dangerous to you and your circuit. Always make sure you selected the correct settings before turning on the <b>OUTPUT</b> button. A badly configured function generator can damage electronic components.\n",
    "</div>\n",
    "</div>\n",
    "\n",
    "\n"
   ]
  },
  {
   "cell_type": "markdown",
   "metadata": {},
   "source": [
    "## Oscilloscope\n",
    "<br>\n",
    "<div class=\"title\" style=\"width:100%; background:#FDC86E;font-family:'arial black',monospace; text-align: center; padding: 7px 0; border-radius: 5px 50px;margin-top:-15px\" >\n",
    "</div>\n",
    "\n",
    "\n",
    "An oscilloscope is a piece of equipment used to measure electronic signals and is found in many scientific laboratories. It is used to observe varying-signal voltages on a two-dimensional grid representing time. When connected to a power source through a probe, the oscilloscope displays the corresponding real-time waveform immediately. Although mostly used in scientific and engineering fields, they are also used in other fields such as telecommunications and medicine.\n",
    "\n",
    "A typical oscilloscope looks like this:\n",
    "\n",
    "<p align=\"center\">\n",
    "<img src=\"https://github.com/PIA-Group/ScientISST-notebooks/raw/master/_Resources/Images/A.Signal_Acquisition_IMG/a009/IMG_1775.HEIC.jpg\" width=\"350\"/> \n",
    "</p>\n",
    "\n",
    "You can adjust what you see on the main screen by using the knobs and buttons on the right side. Modern oscilloscopes have an `AUTO` adjustment button which automatically adjusts the window to fit the signal being measured. Just try it!\n",
    "\n",
    "Another very useful feature of digital oscilloscopes is that you can measure characteristics of the signals:\n",
    "\n",
    "<p align=\"center\">\n",
    "<img src=\"https://github.com/PIA-Group/ScientISST-notebooks/raw/master/_Resources/Images/A.Signal_Acquisition_IMG/a009/IMG_1776.HEIC.jpg\" width=\"350\"/> \n",
    "</p>\n",
    "\n",
    "You can access this by pressing the `MEASURE` button.\n",
    "\n",
    "To connect the oscilloscope to your circuit use the following probes:\n",
    "\n",
    "<table>\n",
    "    <tr>\n",
    "<td> <img src=\"https://github.com/PIA-Group/ScientISST-notebooks/raw/master/_Resources/Images/A.Signal_Acquisition_IMG/a009/IMG_1788.HEIC.jpg\" width=\"350\"/> \n",
    " </td>\n",
    "<td> <img src=\"https://github.com/PIA-Group/ScientISST-notebooks/raw/master/_Resources/Images/A.Signal_Acquisition_IMG/a009/IMG_1780.HEIC.jpg\" width=\"350\"/>  </td>\n",
    "</tr></table>\n",
    "\n",
    "The crocodile side cable connects to `GROUND`.\n",
    "\n",
    "\n",
    "<br>"
   ]
  },
  {
   "cell_type": "markdown",
   "metadata": {},
   "source": [
    "## <div style=\"color:#fbb144\"> 2. Objectives</div>\n",
    "* Introducing the typical\n",
    "electronic laboratory\n",
    "equipment composed by\n",
    "cables, breadboards,\n",
    "electronic components\n",
    "(resistors, capacitors,\n",
    "transistors, etc)\n",
    "* Become familiar with the\n",
    "workbench\n",
    "instrumentation"
   ]
  },
  {
   "cell_type": "markdown",
   "metadata": {},
   "source": [
    "## <div style=\"color:#fbb144\"> 3. Materials</div>\n",
    "* 1x Multimeter\n",
    "* 1x Power supply\n",
    "* 1x Function generator\n",
    "* 1x Oscilloscope\n",
    "* 1x Breadboard\n",
    "* 1x 1kOhm resistor\n",
    "* 1x 10kOhm resistor\n",
    "* 1x 100nF capacitor\n",
    "* Jumper wires\n",
    "* Instrumentation cables"
   ]
  },
  {
   "cell_type": "markdown",
   "metadata": {},
   "source": [
    "# II. Experimental\n",
    "<br>\n",
    "<div style=\"width:100%; background:linear-gradient(to right,#FDC86E,#fbb144);color:#282828;font-family:'arial black'; text-align: center; padding: 7px 0; border-radius: 5px 50px; margin-top:-15px\" > </div>"
   ]
  },
  {
   "cell_type": "markdown",
   "metadata": {},
   "source": [
    "### <div style=\"color:#fbb144\">  1. Passive RC\n",
    "Circuit </div>"
   ]
  },
  {
   "cell_type": "markdown",
   "metadata": {},
   "source": [
    "Consider the following passive circuit:\n",
    "<img src=\"https://github.com/PIA-Group/ScientIST-notebooks/blob/master/_Resources/Images/A.Signal_Acquisition_IMG/a009/RC.png?raw=true\" width=\"500\" border=\"0\">"
   ]
  },
  {
   "cell_type": "markdown",
   "metadata": {},
   "source": [
    "1. Assemble the circuit represented in figure using the\n",
    "breadboard and wires available at the workbench.\n",
    "<br><br>\n",
    "2. Derive the voltages (v) and currents (i) displayed in the\n",
    "circuit when a DC voltage of 5V is applied at the input, Vi=5V.\n",
    "<br><br>\n",
    "3. Using the multimeter measure (and confirm/compare) the\n",
    "voltages and currents derived in 2); fill in the table below.<img src=\"https://github.com/PIA-Group/ScientIST-notebooks/blob/master/_Resources/Images/A.Signal_Acquisition_IMG/a009/T1.png?raw=true\" width=\"500\" border=\"0\">\n",
    "<br>\n",
    "4. Suggest a way to measure the capacitance of the capacitor\n",
    "C.  <br><br>\n",
    "\n",
    "\n",
    "\n",
    "<div style=\"background:#48ba57;font-family:'arial', monospace; text-align: center; padding: 10px 0; border-radius:10px; width:70%; margin:auto \" >\n",
    "<span style=\"font-size:20px;position:relative;color:white; \">  Note </span> <br>\n",
    "  <div style=\"background:#9de3a6;font-size:12px\"> \n",
    "     Confirm experimentally the method.\n",
    "</div></div>\n"
   ]
  },
  {
   "cell_type": "markdown",
   "metadata": {},
   "source": [
    "<table>\n",
    "    <tr>\n",
    "<td> <img src=\"https://raw.githubusercontent.com/LeoPereira89817/scientisst-sense-arduino-ide-tutorial/main/images/IT.png\" alt=\"it\" width=250/> \n",
    " </td>\n",
    "<td> <img src=\"https://raw.githubusercontent.com/LeoPereira89817/scientisst-sense-arduino-ide-tutorial/main/images/IST.png\" alt=\"alternate text\" width=250/>\n",
    "        </td>\n",
    "</tr></table>"
   ]
  },
  {
   "cell_type": "markdown",
   "metadata": {},
   "source": [
    "```Contributors: Prof. João Miguel Sanches; Prof. Hugo Plácido da Silva; Joana Pinto; Afonso Raposo```"
   ]
  }
 ],
 "metadata": {
  "kernelspec": {
   "display_name": "Python 3 (ipykernel)",
   "language": "python",
   "name": "python3"
  },
  "language_info": {
   "codemirror_mode": {
    "name": "ipython",
    "version": 3
   },
   "file_extension": ".py",
   "mimetype": "text/x-python",
   "name": "python",
   "nbconvert_exporter": "python",
   "pygments_lexer": "ipython3",
   "version": "3.10.2"
  }
 },
 "nbformat": 4,
 "nbformat_minor": 4
}
