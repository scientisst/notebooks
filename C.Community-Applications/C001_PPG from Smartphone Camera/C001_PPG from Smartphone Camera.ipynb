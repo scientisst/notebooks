{
 "cells": [
  {
   "attachments": {
    "SI-Notebooks-Hor-Break-Col.svg": {
     "image/svg+xml": [
      "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"
     ]
    }
   },
   "cell_type": "markdown",
   "id": "1e2a027b",
   "metadata": {},
   "source": [
    "<p align=\"center\">\n",
    "    <img align=\"center\" src=\"../../_Templates/_Resources/top-banner.svg\">\n",
    "</p>"
   ]
  },
  {
   "cell_type": "markdown",
   "id": "3cf183a2",
   "metadata": {},
   "source": [
    "# <span style=\"color:#484848;\"> PPG from Smartphone Camera </span>"
   ]
  },
  {
   "cell_type": "markdown",
   "id": "03e0262c",
   "metadata": {},
   "source": [
    "### <span style=\"color:#484848;\"> How to measure and visualize your PPG using the smartphone's camera </span> "
   ]
  },
  {
   "cell_type": "markdown",
   "id": "36a4cefd",
   "metadata": {},
   "source": [
    "### <span style=\"color:#00aba1;\"> Keywords </span>\n",
    "`Photoplethysmography (PPG)`, `Smartphone`, `Camera`"
   ]
  },
  {
   "cell_type": "markdown",
   "id": "e09b7dc0",
   "metadata": {},
   "source": [
    "### <span style=\"color:#00aba1;\"> Notebook Info </span>\n",
    "\n",
    "**Author(s):** Afonso Raposo\n",
    "\n",
    "**Date of creation:** 17/01/2021\n",
    "\n",
    "**Last update:** 17/01/2021\n",
    "\n",
    "**Last revision:** 17/01/2021"
   ]
  },
  {
   "cell_type": "markdown",
   "id": "e00a3dd5",
   "metadata": {},
   "source": [
    "![Graphical Abstract](_Resources/PPG_camera.jpg)\n",
    "<p style=\"text-align:center\"> <i> Recording your PPG. [1] </i> </p>"
   ]
  },
  {
   "cell_type": "markdown",
   "id": "043fa9be",
   "metadata": {},
   "source": [
    "### <span style=\"color:#00aba1;\"> Description </span>\n",
    "Nowadays, almost everyone has one smartphone. These devices are equipped with powerful cameras and a white light source, the flash LED, and are capable of recording videos at 30 frames per second. Placing the finger over the phone flash and black camera, the volume changes of blood flow are noticeable on the intensity of the video and it is possible to extract the photoplethysmogram from this source."
   ]
  },
  {
   "cell_type": "markdown",
   "id": "cbb9bfa7",
   "metadata": {},
   "source": [
    "### <span style=\"color:#00aba1;\"> Requirements </span>\n",
    "\n",
    "* Basic knowledge of Python"
   ]
  },
  {
   "cell_type": "markdown",
   "id": "3dbf9202",
   "metadata": {},
   "source": [
    "### <span style=\"color:#00aba1;\"> Materials</span>\n",
    "\n",
    "* Python 3.5 (or higher)\n",
    "* matplotlib\n",
    "* numpy\n",
    "* opencv-python\n",
    "* Smartphone (optional)"
   ]
  },
  {
   "cell_type": "markdown",
   "id": "69307772",
   "metadata": {},
   "source": [
    "# <span style=\"color:#00aba1;\"> 1. Photoplethysmography (PPG) </span>"
   ]
  },
  {
   "cell_type": "markdown",
   "id": "521fbb4a",
   "metadata": {},
   "source": [
    "The photoplethysmogram (PPG) is a widely used medical exam which is capable of measuring blood volume changes.\n",
    "A light source illuminates the finger and the transmitted or reflected light is measured.\n",
    "Blood contains hemoglobyn which absorves light with wavelengths in the visible spectrum. The absorption is depedent of the incident wavelength as can be seen in the following Figure:"
   ]
  },
  {
   "cell_type": "markdown",
   "id": "0951b1fe",
   "metadata": {},
   "source": [
    "![PPG](_Resources/XNoJQ7U.png)\n",
    "<p style=\"text-align:center\"> <i> Hemoglobin's absorbtion spectrum. </i> </p>"
   ]
  },
  {
   "cell_type": "markdown",
   "id": "fd1f52f4",
   "metadata": {},
   "source": [
    "When emitting light to the finger, the surrounding tissues also reflect part of the light, but, since these tissues are static, the amount of light reflected is constant and constitutes a DC signal. When there is an increase in blood flow, e.g., during cardiac systole, the volume of blood in the finger blood vessels increases, resulting in a variation of the level of light reflected, generating an AC signal, which is time-dependent.\n",
    "The PPG signal results from this AC signal and it is possible to retrieve it using only the smartphone flash which acts as a light source and the phone camera which acts as a light sensor."
   ]
  },
  {
   "cell_type": "markdown",
   "id": "323747c1",
   "metadata": {},
   "source": [
    "# <span style=\"color:#00aba1;\"> 2. Prepare your Python environment </span>"
   ]
  },
  {
   "cell_type": "markdown",
   "id": "dd607404",
   "metadata": {},
   "source": [
    "In this section, the required libraries should be installed, using the command:"
   ]
  },
  {
   "cell_type": "code",
   "execution_count": null,
   "id": "a94d47e1",
   "metadata": {
    "scrolled": false
   },
   "outputs": [],
   "source": [
    "!pip install matplotlib numpy opencv-python biosppy"
   ]
  },
  {
   "cell_type": "markdown",
   "id": "134b3f46",
   "metadata": {},
   "source": [
    "and imported:"
   ]
  },
  {
   "cell_type": "code",
   "execution_count": 3,
   "id": "0fffbee2",
   "metadata": {},
   "outputs": [],
   "source": [
    "import matplotlib.pyplot as plt\n",
    "import numpy as np\n",
    "import cv2\n",
    "import biosppy.signals.tools as st"
   ]
  },
  {
   "cell_type": "markdown",
   "id": "288c6c5e",
   "metadata": {},
   "source": [
    "# <span style=\"color:#00aba1;\"> 3. Perform an acquisition </span>"
   ]
  },
  {
   "cell_type": "markdown",
   "id": "dd9fb589",
   "metadata": {},
   "source": [
    "This step is optional. If you wish to use the example video, download it [here](https://raw.githubusercontent.com/PIA-Group/ScientIST-notebooks/master/_Resources/ppg.mp4), or run the following command:\n",
    "\n",
    "```python\n",
    "!wget -P ~/Downloads/ 'https://raw.githubusercontent.com/PIA-Group/ScientIST-notebooks/master/_Resources/ppg.mp4'\n",
    "``` \n",
    "\n",
    "To acquire a valid video for PPG extraction, you must place the finger over your phone flash and back camera, totally covering both of them."
   ]
  },
  {
   "cell_type": "markdown",
   "id": "1d75d6d2",
   "metadata": {},
   "source": [
    "![PPG_finger](_Resources/UtfXJVP.jpg)\n",
    "<p style=\"text-align: center;\"><i>How to place your finger in the camera [1]. </i></p>"
   ]
  },
  {
   "cell_type": "markdown",
   "id": "4ee4b0e3",
   "metadata": {},
   "source": [
    "Then, you must remain very still and record a video. A short clip, about 10 seconds, is more than enough for this experiment.\n",
    "After the acquisition, you should copy the video file to your computer."
   ]
  },
  {
   "cell_type": "markdown",
   "id": "4e7d353e",
   "metadata": {},
   "source": [
    "# <span style=\"color:#00aba1;\"> 4. Import the data </span>"
   ]
  },
  {
   "cell_type": "markdown",
   "id": "aac98c00",
   "metadata": {},
   "source": [
    "Let's first define the video's path:"
   ]
  },
  {
   "cell_type": "code",
   "execution_count": 5,
   "id": "f058017f",
   "metadata": {},
   "outputs": [],
   "source": [
    "video_path = 'resources/ppg.mp4'"
   ]
  },
  {
   "cell_type": "markdown",
   "id": "f59b4c56",
   "metadata": {},
   "source": [
    "> ⚠️ **WARNING:** You must set the correct path to your video file or to the file downloaded to your computer "
   ]
  },
  {
   "cell_type": "markdown",
   "id": "a3749d1d",
   "metadata": {},
   "source": [
    "Now we load the video:"
   ]
  },
  {
   "cell_type": "code",
   "execution_count": 6,
   "id": "f127b787",
   "metadata": {},
   "outputs": [],
   "source": [
    "video = cv2.VideoCapture(video_path)\n",
    "fs = 30 # sampling rate, 30 FPS\n",
    "success, image = video.read()\n",
    "if not success:\n",
    "    raise ValueError('Failed reading video')"
   ]
  },
  {
   "cell_type": "markdown",
   "id": "2bf7d877",
   "metadata": {},
   "source": [
    "# <span style=\"color:#00aba1;\"> 5. Extract the PPG signal </span>"
   ]
  },
  {
   "cell_type": "markdown",
   "id": "23b2af52",
   "metadata": {},
   "source": [
    "To extract the PPG signal from the video, we will store it in an array. Since the array will store the values of our PPG signal,  its length is the same as the number of frames of the video."
   ]
  },
  {
   "cell_type": "code",
   "execution_count": 7,
   "id": "27777a7a",
   "metadata": {},
   "outputs": [],
   "source": [
    "nr_frames = int(video.get(cv2.CAP_PROP_FRAME_COUNT))\n",
    "ppg = np.zeros((nr_frames))"
   ]
  },
  {
   "cell_type": "markdown",
   "id": "98644cce",
   "metadata": {},
   "source": [
    "We'll now iterate over every frame of the video with a while loop. We keep track of the frame number so we know the correct position of the ppg array to store the computed value in.\n",
    "\n",
    "For every frame, the average pixel intensity value is computed. In this case, we use the red channel since it translates into a good signal.\n",
    "\n",
    "Every frame is represented in a 3-dimensional matrix, named image in our code. The first two dimensions correspond to the rows and columns of the image and the last dimension corresponds to the different color channels. OpenCV uses the BGR color format, which means that the red channel will be the third channel of our matrix."
   ]
  },
  {
   "cell_type": "code",
   "execution_count": 8,
   "id": "8fbb96f4",
   "metadata": {},
   "outputs": [
    {
     "name": "stdout",
     "output_type": "stream",
     "text": [
      "........................................................................................................................................................................................................................."
     ]
    }
   ],
   "source": [
    "n = 0\n",
    "while success:\n",
    "    red = image[..., 2]\n",
    "    ppg[n] = np.mean(red)\n",
    "    print(\".\",end='') # print progress\n",
    "    n+=1\n",
    "    success, image = video.read()"
   ]
  },
  {
   "cell_type": "markdown",
   "id": "a52f02a6",
   "metadata": {},
   "source": [
    "> 📋 **NOTE:** The execution of this snippet may take a while    "
   ]
  },
  {
   "cell_type": "markdown",
   "id": "90c939ea",
   "metadata": {},
   "source": [
    "# <span style=\"color:#00aba1;\"> 6. Visualize your signal! </span>"
   ]
  },
  {
   "cell_type": "markdown",
   "id": "dcace80e",
   "metadata": {},
   "source": [
    "You now have the average value of each red frame stored in the `ppg` array. This array represents the PPG signal and can be easily plotted."
   ]
  },
  {
   "cell_type": "code",
   "execution_count": 16,
   "id": "17d41f2c",
   "metadata": {},
   "outputs": [
    {
     "data": {
      "image/png": "[encoded data removed]",
      "text/plain": [
       "<Figure size 432x288 with 1 Axes>"
      ]
     },
     "metadata": {
      "needs_background": "light"
     },
     "output_type": "display_data"
    }
   ],
   "source": [
    "plt.plot(ppg)\n",
    "plt.show()"
   ]
  },
  {
   "cell_type": "markdown",
   "id": "5083635f",
   "metadata": {},
   "source": [
    "The PPG signal is typically display inverted, which is easily accomplishable:"
   ]
  },
  {
   "cell_type": "code",
   "execution_count": 17,
   "id": "9d79b078",
   "metadata": {},
   "outputs": [
    {
     "data": {
      "image/png": "[encoded data removed]",
      "text/plain": [
       "<Figure size 432x288 with 1 Axes>"
      ]
     },
     "metadata": {
      "needs_background": "light"
     },
     "output_type": "display_data"
    }
   ],
   "source": [
    "ppg_inverted = -ppg\n",
    "plt.plot(ppg_inverted)\n",
    "plt.show()"
   ]
  },
  {
   "cell_type": "markdown",
   "id": "67cc168c",
   "metadata": {},
   "source": [
    "# <span style=\"color:#00aba1;\"> 7. Improve the PPG signal </span>"
   ]
  },
  {
   "cell_type": "markdown",
   "id": "ea0e42e1",
   "metadata": {},
   "source": [
    "A band-pass filter can be applied to improve the quality of the signal and also remove the DC offset. Using the BioSPPy toolbox this is simple to do."
   ]
  },
  {
   "cell_type": "code",
   "execution_count": 18,
   "id": "f118bb6e",
   "metadata": {},
   "outputs": [
    {
     "data": {
      "image/png": "[encoded data removed]",
      "text/plain": [
       "<Figure size 432x288 with 1 Axes>"
      ]
     },
     "metadata": {
      "needs_background": "light"
     },
     "output_type": "display_data"
    }
   ],
   "source": [
    "ppg_filtered, _, _ = st.filter_signal(\n",
    "    signal=ppg_inverted,\n",
    "    ftype=\"butter\",\n",
    "    band=\"bandpass\",\n",
    "    order=4,\n",
    "    frequency=[0.7, 4],\n",
    "    sampling_rate=fs)\n",
    "\n",
    "plt.plot(ppg_filtered)\n",
    "plt.show()"
   ]
  },
  {
   "cell_type": "markdown",
   "id": "8a2093c6",
   "metadata": {},
   "source": [
    "> 💡 **EXPLORE:** Challenge yourself! Try to compute the heart rate from the acquired PPG signal."
   ]
  },
  {
   "cell_type": "markdown",
   "id": "1579bd52",
   "metadata": {},
   "source": [
    "# <span style=\"color:#00aba1;\"> Summary </span>"
   ]
  },
  {
   "cell_type": "markdown",
   "id": "89f0e95c",
   "metadata": {},
   "source": [
    "🎉 Congratulations! With this article, you:\n",
    "\n",
    "* Understood how PPG is measured\n",
    "* Learned how to iterate and process each frame of a video\n",
    "* Learned how to extract the PPG signal from a video"
   ]
  },
  {
   "cell_type": "markdown",
   "id": "d82ebb62",
   "metadata": {},
   "source": [
    "### References:\n",
    "\n",
    "1. Chan, Pak Hei et al. (2016). Diagnostic Performance of a Smartphone‐Based Photoplethysmographic Application for Atrial Fibrillation Screening in a Primary Care Setting. Journal of the American Heart Association.\n"
   ]
  },
  {
   "cell_type": "markdown",
   "id": "52268746",
   "metadata": {},
   "source": [
    "<p align=\"center\">\n",
    "  <img style=\"height:2.5cm\" align=\"center\" src=\"../../_Templates/_Resources/bottom-banner.png\">\n",
    "</p>"
   ]
  }
 ],
 "metadata": {
  "kernelspec": {
   "display_name": "Python 3.10.0 64-bit",
   "language": "python",
   "name": "python3"
  },
  "language_info": {
   "codemirror_mode": {
    "name": "ipython",
    "version": 3
   },
   "file_extension": ".py",
   "mimetype": "text/x-python",
   "name": "python",
   "nbconvert_exporter": "python",
   "pygments_lexer": "ipython3",
   "version": "3.10.0"
  },
  "vscode": {
   "interpreter": {
    "hash": "7e1998ff7f8aa20ada591c520b972326324e5ea05489af9e422744c7c09f6dad"
   }
  }
 },
 "nbformat": 4,
 "nbformat_minor": 5
}
